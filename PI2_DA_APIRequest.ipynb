{
  "nbformat": 4,
  "nbformat_minor": 0,
  "metadata": {
    "colab": {
      "provenance": []
    },
    "kernelspec": {
      "name": "python3",
      "display_name": "Python 3"
    },
    "language_info": {
      "name": "python"
    }
  },
  "cells": [
    {
      "cell_type": "code",
      "execution_count": null,
      "metadata": {
        "id": "cAmzdCiWGue1"
      },
      "outputs": [],
      "source": [
        "import pandas as pd\n",
        "import numpy as np\n",
        "import requests"
      ]
    },
    {
      "cell_type": "markdown",
      "source": [
        "# resources"
      ],
      "metadata": {
        "id": "918DF6ACKpl0"
      }
    },
    {
      "cell_type": "code",
      "source": [
        "URlAPI = 'http://api.datosabiertos.enacom.gob.ar/api/v2/'\n",
        "docType = 'resources/'\n",
        "URlRequest = URlAPI + docType\n",
        "authKey = 'kPiA1Tds8eE6ov8kG0tQWZYW4B0AXfuTDKO5nk5f'\n",
        "paramReq = {'auth_key': authKey}"
      ],
      "metadata": {
        "id": "eGkIvxnDKNPY"
      },
      "execution_count": null,
      "outputs": []
    },
    {
      "cell_type": "code",
      "source": [
        "response = requests.get(URlRequest, params=paramReq)"
      ],
      "metadata": {
        "id": "NXbqXGI9KbVa"
      },
      "execution_count": null,
      "outputs": []
    },
    {
      "cell_type": "code",
      "source": [
        "data = response.json()"
      ],
      "metadata": {
        "id": "bJ5XEB1qKhhw"
      },
      "execution_count": null,
      "outputs": []
    },
    {
      "cell_type": "code",
      "source": [
        "df=pd.DataFrame(data)\n",
        "df"
      ],
      "metadata": {
        "id": "eNL15Xz_KfGh"
      },
      "execution_count": null,
      "outputs": []
    },
    {
      "cell_type": "markdown",
      "source": [
        "# dashboards"
      ],
      "metadata": {
        "id": "aAEMUcv2Hun4"
      }
    },
    {
      "cell_type": "code",
      "source": [
        "URlAPI = 'http://api.datosabiertos.enacom.gob.ar/api/v2/'\n",
        "docType = 'dashboards/'\n",
        "guid = 'ACCES-A-INTER'\n",
        "formatRes = '.json/'\n",
        "URlRequest = URlAPI + docType + guid + formatRes\n",
        "authKey = 'kPiA1Tds8eE6ov8kG0tQWZYW4B0AXfuTDKO5nk5f'\n",
        "paramReq = {'auth_key': authKey}"
      ],
      "metadata": {
        "id": "3iR3GfgzHP_F"
      },
      "execution_count": null,
      "outputs": []
    },
    {
      "cell_type": "code",
      "source": [
        "response = requests.get(URlRequest, params=paramReq)"
      ],
      "metadata": {
        "id": "k13Q5C3Qr4Wx"
      },
      "execution_count": null,
      "outputs": []
    },
    {
      "cell_type": "code",
      "source": [
        "response.content # bytes"
      ],
      "metadata": {
        "id": "0VuvKCs78aR2"
      },
      "execution_count": null,
      "outputs": []
    },
    {
      "cell_type": "code",
      "source": [
        "response.encoding = 'utf-8'\n",
        "response.text # string"
      ],
      "metadata": {
        "id": "fV7dtqX58gXg"
      },
      "execution_count": null,
      "outputs": []
    },
    {
      "cell_type": "code",
      "source": [
        "response.json() # diccionario"
      ],
      "metadata": {
        "id": "WmHefsRC8xAq"
      },
      "execution_count": null,
      "outputs": []
    },
    {
      "cell_type": "code",
      "source": [
        "response.headers # info"
      ],
      "metadata": {
        "id": "rUn-zILs8sn4"
      },
      "execution_count": null,
      "outputs": []
    },
    {
      "cell_type": "code",
      "source": [
        "data = response.json()"
      ],
      "metadata": {
        "id": "Pd9y0Zlx9Ic-"
      },
      "execution_count": null,
      "outputs": []
    },
    {
      "cell_type": "code",
      "source": [
        "data.keys()"
      ],
      "metadata": {
        "id": "D7Us-bG7xkGj"
      },
      "execution_count": null,
      "outputs": []
    },
    {
      "cell_type": "code",
      "source": [
        "df=pd.DataFrame(data['resources'])\n",
        "df"
      ],
      "metadata": {
        "colab": {
          "base_uri": "https://localhost:8080/",
          "height": 1000
        },
        "id": "yanyla1hyy32",
        "outputId": "c42fe19f-b37c-4cf4-dd9c-4ed5533593b1"
      },
      "execution_count": null,
      "outputs": [
        {
          "output_type": "execute_result",
          "data": {
            "text/plain": [
              "         doc_type            datastream parameters  h  order  \\\n",
              "0   visualization  {'revision': 275028}             4      0   \n",
              "1   visualization  {'revision': 281491}             4      1   \n",
              "2      datastream                   NaN             4      2   \n",
              "3      datastream                   NaN             4      3   \n",
              "4   visualization  {'revision': 275029}             4      4   \n",
              "5      datastream                   NaN             4      5   \n",
              "6             NaN                   NaN             4      6   \n",
              "7   visualization  {'revision': 288059}             4      7   \n",
              "8      datastream                   NaN             4      8   \n",
              "9   visualization  {'revision': 280921}             4      9   \n",
              "10     datastream                   NaN             4     10   \n",
              "11     datastream                   NaN             4     11   \n",
              "12  visualization  {'revision': 275023}             4     12   \n",
              "13     datastream                   NaN             4     13   \n",
              "14     datastream                   NaN             4     14   \n",
              "15     datastream                   NaN             4     15   \n",
              "16  visualization  {'revision': 277615}             4     16   \n",
              "\n",
              "                                                 link  w   y  x  \\\n",
              "0   http://datosabiertos.enacom.gob.ar/visualizati...  4   0  0   \n",
              "1   http://datosabiertos.enacom.gob.ar/visualizati...  4   0  4   \n",
              "2   http://datosabiertos.enacom.gob.ar/dataviews/2...  4   0  8   \n",
              "3   http://datosabiertos.enacom.gob.ar/dataviews/2...  4   4  0   \n",
              "4   http://datosabiertos.enacom.gob.ar/visualizati...  4   4  4   \n",
              "5   http://datosabiertos.enacom.gob.ar/dataviews/2...  4   4  8   \n",
              "6                                                 NaN  4   8  0   \n",
              "7   http://datosabiertos.enacom.gob.ar/visualizati...  4   8  4   \n",
              "8   http://datosabiertos.enacom.gob.ar/dataviews/2...  4   8  8   \n",
              "9   http://datosabiertos.enacom.gob.ar/visualizati...  4  12  0   \n",
              "10  http://datosabiertos.enacom.gob.ar/dataviews/2...  4  12  4   \n",
              "11  http://datosabiertos.enacom.gob.ar/dataviews/2...  4  12  8   \n",
              "12  http://datosabiertos.enacom.gob.ar/visualizati...  4  16  0   \n",
              "13  http://datosabiertos.enacom.gob.ar/dataviews/2...  4  16  4   \n",
              "14  http://datosabiertos.enacom.gob.ar/dataviews/2...  4  16  8   \n",
              "15  http://datosabiertos.enacom.gob.ar/dataviews/2...  4  20  0   \n",
              "16  http://datosabiertos.enacom.gob.ar/visualizati...  4  20  4   \n",
              "\n",
              "                          guid  type        id  \\\n",
              "0    PENET-DE-INTER-FIJO-57760    vz   32226.0   \n",
              "1    PENET-POR-HOGAR-NACIO-DEL    vz   29883.0   \n",
              "2   TOTAL-NACIO-DE-ACCES-48866    ds  240976.0   \n",
              "3    BANDA-ANCHA-Y-BANDA-ANGOS    ds  240974.0   \n",
              "4       SERIE-TRIME-DE-ACCES-A    vz   29881.0   \n",
              "5       ACCES-A-INTER-FIJO-POR    ds  240898.0   \n",
              "6                          NaN  html       NaN   \n",
              "7      VELOC-PROME-DE-BAJAD-DE    vz   31361.0   \n",
              "8      VELOC-PROME-DE-BAJAD-DE    ds  245546.0   \n",
              "9     DISTR-DE-LOS-ACCES-76145    vz   31743.0   \n",
              "10    ACCES-A-INTER-FIJO-23248    ds  240904.0   \n",
              "11    ACCES-A-INTER-FIJO-97624    ds  248812.0   \n",
              "12    INGRE-TRIME-POR-LA-PREST    vz   29879.0   \n",
              "13    ACCES-A-INTER-FIJO-16249    ds  252829.0   \n",
              "14    ACCES-A-INTER-FIJO-62463    ds  252830.0   \n",
              "15    LISTA-DE-LOCAL-CON-CONEC    ds  251962.0   \n",
              "16     CONEC-AL-SERVI-DE-INTER    vz   29951.0   \n",
              "\n",
              "                                             revision  \\\n",
              "0   {'vz_lib': 'google', 'vz_impl_details': {'form...   \n",
              "1   {'vz_lib': 'google', 'vz_impl_details': {'form...   \n",
              "2   {'parameters': [], 'title': 'Total nacional de...   \n",
              "3   {'parameters': [], 'title': 'Accesos a banda a...   \n",
              "4   {'vz_lib': 'google', 'vz_impl_details': {'form...   \n",
              "5   {'parameters': [], 'title': 'Acceso a Internet...   \n",
              "6                                                 NaN   \n",
              "7   {'vz_lib': 'google', 'vz_impl_details': {'form...   \n",
              "8   {'parameters': [], 'title': 'Velocidad media d...   \n",
              "9   {'vz_lib': 'd3', 'vz_impl_details': {'format':...   \n",
              "10  {'parameters': [], 'title': 'Acceso a Internet...   \n",
              "11  {'parameters': [], 'title': 'Accesos a Interne...   \n",
              "12  {'vz_lib': 'google', 'vz_impl_details': {'form...   \n",
              "13  {'parameters': [], 'title': 'Accesos a Interne...   \n",
              "14  {'parameters': [], 'title': 'Accesos a Interne...   \n",
              "15  {'parameters': [], 'title': 'Listado de locali...   \n",
              "16  {'vz_lib': 'leaflet', 'vz_impl_details': {'for...   \n",
              "\n",
              "                                                 html  \n",
              "0                                                 NaN  \n",
              "1                                                 NaN  \n",
              "2                                                 NaN  \n",
              "3                                                 NaN  \n",
              "4                                                 NaN  \n",
              "5                                                 NaN  \n",
              "6   <p><span style=\"font-size: 10pt; line-height: ...  \n",
              "7                                                 NaN  \n",
              "8                                                 NaN  \n",
              "9                                                 NaN  \n",
              "10                                                NaN  \n",
              "11                                                NaN  \n",
              "12                                                NaN  \n",
              "13                                                NaN  \n",
              "14                                                NaN  \n",
              "15                                                NaN  \n",
              "16                                                NaN  "
            ],
            "text/html": [
              "\n",
              "  <div id=\"df-bcf4a669-5a92-43e3-8aa0-ee0badcc0862\">\n",
              "    <div class=\"colab-df-container\">\n",
              "      <div>\n",
              "<style scoped>\n",
              "    .dataframe tbody tr th:only-of-type {\n",
              "        vertical-align: middle;\n",
              "    }\n",
              "\n",
              "    .dataframe tbody tr th {\n",
              "        vertical-align: top;\n",
              "    }\n",
              "\n",
              "    .dataframe thead th {\n",
              "        text-align: right;\n",
              "    }\n",
              "</style>\n",
              "<table border=\"1\" class=\"dataframe\">\n",
              "  <thead>\n",
              "    <tr style=\"text-align: right;\">\n",
              "      <th></th>\n",
              "      <th>doc_type</th>\n",
              "      <th>datastream</th>\n",
              "      <th>parameters</th>\n",
              "      <th>h</th>\n",
              "      <th>order</th>\n",
              "      <th>link</th>\n",
              "      <th>w</th>\n",
              "      <th>y</th>\n",
              "      <th>x</th>\n",
              "      <th>guid</th>\n",
              "      <th>type</th>\n",
              "      <th>id</th>\n",
              "      <th>revision</th>\n",
              "      <th>html</th>\n",
              "    </tr>\n",
              "  </thead>\n",
              "  <tbody>\n",
              "    <tr>\n",
              "      <th>0</th>\n",
              "      <td>visualization</td>\n",
              "      <td>{'revision': 275028}</td>\n",
              "      <td></td>\n",
              "      <td>4</td>\n",
              "      <td>0</td>\n",
              "      <td>http://datosabiertos.enacom.gob.ar/visualizati...</td>\n",
              "      <td>4</td>\n",
              "      <td>0</td>\n",
              "      <td>0</td>\n",
              "      <td>PENET-DE-INTER-FIJO-57760</td>\n",
              "      <td>vz</td>\n",
              "      <td>32226.0</td>\n",
              "      <td>{'vz_lib': 'google', 'vz_impl_details': {'form...</td>\n",
              "      <td>NaN</td>\n",
              "    </tr>\n",
              "    <tr>\n",
              "      <th>1</th>\n",
              "      <td>visualization</td>\n",
              "      <td>{'revision': 281491}</td>\n",
              "      <td></td>\n",
              "      <td>4</td>\n",
              "      <td>1</td>\n",
              "      <td>http://datosabiertos.enacom.gob.ar/visualizati...</td>\n",
              "      <td>4</td>\n",
              "      <td>0</td>\n",
              "      <td>4</td>\n",
              "      <td>PENET-POR-HOGAR-NACIO-DEL</td>\n",
              "      <td>vz</td>\n",
              "      <td>29883.0</td>\n",
              "      <td>{'vz_lib': 'google', 'vz_impl_details': {'form...</td>\n",
              "      <td>NaN</td>\n",
              "    </tr>\n",
              "    <tr>\n",
              "      <th>2</th>\n",
              "      <td>datastream</td>\n",
              "      <td>NaN</td>\n",
              "      <td></td>\n",
              "      <td>4</td>\n",
              "      <td>2</td>\n",
              "      <td>http://datosabiertos.enacom.gob.ar/dataviews/2...</td>\n",
              "      <td>4</td>\n",
              "      <td>0</td>\n",
              "      <td>8</td>\n",
              "      <td>TOTAL-NACIO-DE-ACCES-48866</td>\n",
              "      <td>ds</td>\n",
              "      <td>240976.0</td>\n",
              "      <td>{'parameters': [], 'title': 'Total nacional de...</td>\n",
              "      <td>NaN</td>\n",
              "    </tr>\n",
              "    <tr>\n",
              "      <th>3</th>\n",
              "      <td>datastream</td>\n",
              "      <td>NaN</td>\n",
              "      <td></td>\n",
              "      <td>4</td>\n",
              "      <td>3</td>\n",
              "      <td>http://datosabiertos.enacom.gob.ar/dataviews/2...</td>\n",
              "      <td>4</td>\n",
              "      <td>4</td>\n",
              "      <td>0</td>\n",
              "      <td>BANDA-ANCHA-Y-BANDA-ANGOS</td>\n",
              "      <td>ds</td>\n",
              "      <td>240974.0</td>\n",
              "      <td>{'parameters': [], 'title': 'Accesos a banda a...</td>\n",
              "      <td>NaN</td>\n",
              "    </tr>\n",
              "    <tr>\n",
              "      <th>4</th>\n",
              "      <td>visualization</td>\n",
              "      <td>{'revision': 275029}</td>\n",
              "      <td></td>\n",
              "      <td>4</td>\n",
              "      <td>4</td>\n",
              "      <td>http://datosabiertos.enacom.gob.ar/visualizati...</td>\n",
              "      <td>4</td>\n",
              "      <td>4</td>\n",
              "      <td>4</td>\n",
              "      <td>SERIE-TRIME-DE-ACCES-A</td>\n",
              "      <td>vz</td>\n",
              "      <td>29881.0</td>\n",
              "      <td>{'vz_lib': 'google', 'vz_impl_details': {'form...</td>\n",
              "      <td>NaN</td>\n",
              "    </tr>\n",
              "    <tr>\n",
              "      <th>5</th>\n",
              "      <td>datastream</td>\n",
              "      <td>NaN</td>\n",
              "      <td></td>\n",
              "      <td>4</td>\n",
              "      <td>5</td>\n",
              "      <td>http://datosabiertos.enacom.gob.ar/dataviews/2...</td>\n",
              "      <td>4</td>\n",
              "      <td>4</td>\n",
              "      <td>8</td>\n",
              "      <td>ACCES-A-INTER-FIJO-POR</td>\n",
              "      <td>ds</td>\n",
              "      <td>240898.0</td>\n",
              "      <td>{'parameters': [], 'title': 'Acceso a Internet...</td>\n",
              "      <td>NaN</td>\n",
              "    </tr>\n",
              "    <tr>\n",
              "      <th>6</th>\n",
              "      <td>NaN</td>\n",
              "      <td>NaN</td>\n",
              "      <td></td>\n",
              "      <td>4</td>\n",
              "      <td>6</td>\n",
              "      <td>NaN</td>\n",
              "      <td>4</td>\n",
              "      <td>8</td>\n",
              "      <td>0</td>\n",
              "      <td>NaN</td>\n",
              "      <td>html</td>\n",
              "      <td>NaN</td>\n",
              "      <td>NaN</td>\n",
              "      <td>&lt;p&gt;&lt;span style=\"font-size: 10pt; line-height: ...</td>\n",
              "    </tr>\n",
              "    <tr>\n",
              "      <th>7</th>\n",
              "      <td>visualization</td>\n",
              "      <td>{'revision': 288059}</td>\n",
              "      <td></td>\n",
              "      <td>4</td>\n",
              "      <td>7</td>\n",
              "      <td>http://datosabiertos.enacom.gob.ar/visualizati...</td>\n",
              "      <td>4</td>\n",
              "      <td>8</td>\n",
              "      <td>4</td>\n",
              "      <td>VELOC-PROME-DE-BAJAD-DE</td>\n",
              "      <td>vz</td>\n",
              "      <td>31361.0</td>\n",
              "      <td>{'vz_lib': 'google', 'vz_impl_details': {'form...</td>\n",
              "      <td>NaN</td>\n",
              "    </tr>\n",
              "    <tr>\n",
              "      <th>8</th>\n",
              "      <td>datastream</td>\n",
              "      <td>NaN</td>\n",
              "      <td></td>\n",
              "      <td>4</td>\n",
              "      <td>8</td>\n",
              "      <td>http://datosabiertos.enacom.gob.ar/dataviews/2...</td>\n",
              "      <td>4</td>\n",
              "      <td>8</td>\n",
              "      <td>8</td>\n",
              "      <td>VELOC-PROME-DE-BAJAD-DE</td>\n",
              "      <td>ds</td>\n",
              "      <td>245546.0</td>\n",
              "      <td>{'parameters': [], 'title': 'Velocidad media d...</td>\n",
              "      <td>NaN</td>\n",
              "    </tr>\n",
              "    <tr>\n",
              "      <th>9</th>\n",
              "      <td>visualization</td>\n",
              "      <td>{'revision': 280921}</td>\n",
              "      <td></td>\n",
              "      <td>4</td>\n",
              "      <td>9</td>\n",
              "      <td>http://datosabiertos.enacom.gob.ar/visualizati...</td>\n",
              "      <td>4</td>\n",
              "      <td>12</td>\n",
              "      <td>0</td>\n",
              "      <td>DISTR-DE-LOS-ACCES-76145</td>\n",
              "      <td>vz</td>\n",
              "      <td>31743.0</td>\n",
              "      <td>{'vz_lib': 'd3', 'vz_impl_details': {'format':...</td>\n",
              "      <td>NaN</td>\n",
              "    </tr>\n",
              "    <tr>\n",
              "      <th>10</th>\n",
              "      <td>datastream</td>\n",
              "      <td>NaN</td>\n",
              "      <td></td>\n",
              "      <td>4</td>\n",
              "      <td>10</td>\n",
              "      <td>http://datosabiertos.enacom.gob.ar/dataviews/2...</td>\n",
              "      <td>4</td>\n",
              "      <td>12</td>\n",
              "      <td>4</td>\n",
              "      <td>ACCES-A-INTER-FIJO-23248</td>\n",
              "      <td>ds</td>\n",
              "      <td>240904.0</td>\n",
              "      <td>{'parameters': [], 'title': 'Acceso a Internet...</td>\n",
              "      <td>NaN</td>\n",
              "    </tr>\n",
              "    <tr>\n",
              "      <th>11</th>\n",
              "      <td>datastream</td>\n",
              "      <td>NaN</td>\n",
              "      <td></td>\n",
              "      <td>4</td>\n",
              "      <td>11</td>\n",
              "      <td>http://datosabiertos.enacom.gob.ar/dataviews/2...</td>\n",
              "      <td>4</td>\n",
              "      <td>12</td>\n",
              "      <td>8</td>\n",
              "      <td>ACCES-A-INTER-FIJO-97624</td>\n",
              "      <td>ds</td>\n",
              "      <td>248812.0</td>\n",
              "      <td>{'parameters': [], 'title': 'Accesos a Interne...</td>\n",
              "      <td>NaN</td>\n",
              "    </tr>\n",
              "    <tr>\n",
              "      <th>12</th>\n",
              "      <td>visualization</td>\n",
              "      <td>{'revision': 275023}</td>\n",
              "      <td></td>\n",
              "      <td>4</td>\n",
              "      <td>12</td>\n",
              "      <td>http://datosabiertos.enacom.gob.ar/visualizati...</td>\n",
              "      <td>4</td>\n",
              "      <td>16</td>\n",
              "      <td>0</td>\n",
              "      <td>INGRE-TRIME-POR-LA-PREST</td>\n",
              "      <td>vz</td>\n",
              "      <td>29879.0</td>\n",
              "      <td>{'vz_lib': 'google', 'vz_impl_details': {'form...</td>\n",
              "      <td>NaN</td>\n",
              "    </tr>\n",
              "    <tr>\n",
              "      <th>13</th>\n",
              "      <td>datastream</td>\n",
              "      <td>NaN</td>\n",
              "      <td></td>\n",
              "      <td>4</td>\n",
              "      <td>13</td>\n",
              "      <td>http://datosabiertos.enacom.gob.ar/dataviews/2...</td>\n",
              "      <td>4</td>\n",
              "      <td>16</td>\n",
              "      <td>4</td>\n",
              "      <td>ACCES-A-INTER-FIJO-16249</td>\n",
              "      <td>ds</td>\n",
              "      <td>252829.0</td>\n",
              "      <td>{'parameters': [], 'title': 'Accesos a Interne...</td>\n",
              "      <td>NaN</td>\n",
              "    </tr>\n",
              "    <tr>\n",
              "      <th>14</th>\n",
              "      <td>datastream</td>\n",
              "      <td>NaN</td>\n",
              "      <td></td>\n",
              "      <td>4</td>\n",
              "      <td>14</td>\n",
              "      <td>http://datosabiertos.enacom.gob.ar/dataviews/2...</td>\n",
              "      <td>4</td>\n",
              "      <td>16</td>\n",
              "      <td>8</td>\n",
              "      <td>ACCES-A-INTER-FIJO-62463</td>\n",
              "      <td>ds</td>\n",
              "      <td>252830.0</td>\n",
              "      <td>{'parameters': [], 'title': 'Accesos a Interne...</td>\n",
              "      <td>NaN</td>\n",
              "    </tr>\n",
              "    <tr>\n",
              "      <th>15</th>\n",
              "      <td>datastream</td>\n",
              "      <td>NaN</td>\n",
              "      <td></td>\n",
              "      <td>4</td>\n",
              "      <td>15</td>\n",
              "      <td>http://datosabiertos.enacom.gob.ar/dataviews/2...</td>\n",
              "      <td>4</td>\n",
              "      <td>20</td>\n",
              "      <td>0</td>\n",
              "      <td>LISTA-DE-LOCAL-CON-CONEC</td>\n",
              "      <td>ds</td>\n",
              "      <td>251962.0</td>\n",
              "      <td>{'parameters': [], 'title': 'Listado de locali...</td>\n",
              "      <td>NaN</td>\n",
              "    </tr>\n",
              "    <tr>\n",
              "      <th>16</th>\n",
              "      <td>visualization</td>\n",
              "      <td>{'revision': 277615}</td>\n",
              "      <td></td>\n",
              "      <td>4</td>\n",
              "      <td>16</td>\n",
              "      <td>http://datosabiertos.enacom.gob.ar/visualizati...</td>\n",
              "      <td>4</td>\n",
              "      <td>20</td>\n",
              "      <td>4</td>\n",
              "      <td>CONEC-AL-SERVI-DE-INTER</td>\n",
              "      <td>vz</td>\n",
              "      <td>29951.0</td>\n",
              "      <td>{'vz_lib': 'leaflet', 'vz_impl_details': {'for...</td>\n",
              "      <td>NaN</td>\n",
              "    </tr>\n",
              "  </tbody>\n",
              "</table>\n",
              "</div>\n",
              "      <button class=\"colab-df-convert\" onclick=\"convertToInteractive('df-bcf4a669-5a92-43e3-8aa0-ee0badcc0862')\"\n",
              "              title=\"Convert this dataframe to an interactive table.\"\n",
              "              style=\"display:none;\">\n",
              "        \n",
              "  <svg xmlns=\"http://www.w3.org/2000/svg\" height=\"24px\"viewBox=\"0 0 24 24\"\n",
              "       width=\"24px\">\n",
              "    <path d=\"M0 0h24v24H0V0z\" fill=\"none\"/>\n",
              "    <path d=\"M18.56 5.44l.94 2.06.94-2.06 2.06-.94-2.06-.94-.94-2.06-.94 2.06-2.06.94zm-11 1L8.5 8.5l.94-2.06 2.06-.94-2.06-.94L8.5 2.5l-.94 2.06-2.06.94zm10 10l.94 2.06.94-2.06 2.06-.94-2.06-.94-.94-2.06-.94 2.06-2.06.94z\"/><path d=\"M17.41 7.96l-1.37-1.37c-.4-.4-.92-.59-1.43-.59-.52 0-1.04.2-1.43.59L10.3 9.45l-7.72 7.72c-.78.78-.78 2.05 0 2.83L4 21.41c.39.39.9.59 1.41.59.51 0 1.02-.2 1.41-.59l7.78-7.78 2.81-2.81c.8-.78.8-2.07 0-2.86zM5.41 20L4 18.59l7.72-7.72 1.47 1.35L5.41 20z\"/>\n",
              "  </svg>\n",
              "      </button>\n",
              "      \n",
              "  <style>\n",
              "    .colab-df-container {\n",
              "      display:flex;\n",
              "      flex-wrap:wrap;\n",
              "      gap: 12px;\n",
              "    }\n",
              "\n",
              "    .colab-df-convert {\n",
              "      background-color: #E8F0FE;\n",
              "      border: none;\n",
              "      border-radius: 50%;\n",
              "      cursor: pointer;\n",
              "      display: none;\n",
              "      fill: #1967D2;\n",
              "      height: 32px;\n",
              "      padding: 0 0 0 0;\n",
              "      width: 32px;\n",
              "    }\n",
              "\n",
              "    .colab-df-convert:hover {\n",
              "      background-color: #E2EBFA;\n",
              "      box-shadow: 0px 1px 2px rgba(60, 64, 67, 0.3), 0px 1px 3px 1px rgba(60, 64, 67, 0.15);\n",
              "      fill: #174EA6;\n",
              "    }\n",
              "\n",
              "    [theme=dark] .colab-df-convert {\n",
              "      background-color: #3B4455;\n",
              "      fill: #D2E3FC;\n",
              "    }\n",
              "\n",
              "    [theme=dark] .colab-df-convert:hover {\n",
              "      background-color: #434B5C;\n",
              "      box-shadow: 0px 1px 3px 1px rgba(0, 0, 0, 0.15);\n",
              "      filter: drop-shadow(0px 1px 2px rgba(0, 0, 0, 0.3));\n",
              "      fill: #FFFFFF;\n",
              "    }\n",
              "  </style>\n",
              "\n",
              "      <script>\n",
              "        const buttonEl =\n",
              "          document.querySelector('#df-bcf4a669-5a92-43e3-8aa0-ee0badcc0862 button.colab-df-convert');\n",
              "        buttonEl.style.display =\n",
              "          google.colab.kernel.accessAllowed ? 'block' : 'none';\n",
              "\n",
              "        async function convertToInteractive(key) {\n",
              "          const element = document.querySelector('#df-bcf4a669-5a92-43e3-8aa0-ee0badcc0862');\n",
              "          const dataTable =\n",
              "            await google.colab.kernel.invokeFunction('convertToInteractive',\n",
              "                                                     [key], {});\n",
              "          if (!dataTable) return;\n",
              "\n",
              "          const docLinkHtml = 'Like what you see? Visit the ' +\n",
              "            '<a target=\"_blank\" href=https://colab.research.google.com/notebooks/data_table.ipynb>data table notebook</a>'\n",
              "            + ' to learn more about interactive tables.';\n",
              "          element.innerHTML = '';\n",
              "          dataTable['output_type'] = 'display_data';\n",
              "          await google.colab.output.renderOutput(dataTable, element);\n",
              "          const docLink = document.createElement('div');\n",
              "          docLink.innerHTML = docLinkHtml;\n",
              "          element.appendChild(docLink);\n",
              "        }\n",
              "      </script>\n",
              "    </div>\n",
              "  </div>\n",
              "  "
            ]
          },
          "metadata": {},
          "execution_count": 10
        }
      ]
    },
    {
      "cell_type": "markdown",
      "source": [
        "# dataset 0"
      ],
      "metadata": {
        "id": "jK5Zkmsw9UNC"
      }
    },
    {
      "cell_type": "markdown",
      "source": [
        "Penetración de Internet fijo (accesos por cada 100 hogares)"
      ],
      "metadata": {
        "id": "-HswC-B__tvV"
      }
    },
    {
      "cell_type": "code",
      "source": [
        "df0 = pd.read_csv('https://datosabiertos.enacom.gob.ar/rest/datastreams/275028/data.csv')"
      ],
      "metadata": {
        "id": "RYGXO_X1WEZ4"
      },
      "execution_count": null,
      "outputs": []
    },
    {
      "cell_type": "code",
      "source": [
        "df0.head(5)"
      ],
      "metadata": {
        "id": "eY5PMUKqWRUK",
        "colab": {
          "base_uri": "https://localhost:8080/",
          "height": 206
        },
        "outputId": "18c87904-da33-4dfb-f772-e8370c811c17"
      },
      "execution_count": null,
      "outputs": [
        {
          "output_type": "execute_result",
          "data": {
            "text/plain": [
              "    Año  Trimestre        Provincia Accesos por cada 100 hogares\n",
              "0  2022          3     Buenos Aires                        78,11\n",
              "1  2022          3  Capital Federal                       122,28\n",
              "2  2022          3        Catamarca                        65,33\n",
              "3  2022          3            Chaco                        43,86\n",
              "4  2022          3           Chubut                        84,38"
            ],
            "text/html": [
              "\n",
              "  <div id=\"df-3144ca17-9fb5-4a6f-953d-97ec41d06a56\">\n",
              "    <div class=\"colab-df-container\">\n",
              "      <div>\n",
              "<style scoped>\n",
              "    .dataframe tbody tr th:only-of-type {\n",
              "        vertical-align: middle;\n",
              "    }\n",
              "\n",
              "    .dataframe tbody tr th {\n",
              "        vertical-align: top;\n",
              "    }\n",
              "\n",
              "    .dataframe thead th {\n",
              "        text-align: right;\n",
              "    }\n",
              "</style>\n",
              "<table border=\"1\" class=\"dataframe\">\n",
              "  <thead>\n",
              "    <tr style=\"text-align: right;\">\n",
              "      <th></th>\n",
              "      <th>Año</th>\n",
              "      <th>Trimestre</th>\n",
              "      <th>Provincia</th>\n",
              "      <th>Accesos por cada 100 hogares</th>\n",
              "    </tr>\n",
              "  </thead>\n",
              "  <tbody>\n",
              "    <tr>\n",
              "      <th>0</th>\n",
              "      <td>2022</td>\n",
              "      <td>3</td>\n",
              "      <td>Buenos Aires</td>\n",
              "      <td>78,11</td>\n",
              "    </tr>\n",
              "    <tr>\n",
              "      <th>1</th>\n",
              "      <td>2022</td>\n",
              "      <td>3</td>\n",
              "      <td>Capital Federal</td>\n",
              "      <td>122,28</td>\n",
              "    </tr>\n",
              "    <tr>\n",
              "      <th>2</th>\n",
              "      <td>2022</td>\n",
              "      <td>3</td>\n",
              "      <td>Catamarca</td>\n",
              "      <td>65,33</td>\n",
              "    </tr>\n",
              "    <tr>\n",
              "      <th>3</th>\n",
              "      <td>2022</td>\n",
              "      <td>3</td>\n",
              "      <td>Chaco</td>\n",
              "      <td>43,86</td>\n",
              "    </tr>\n",
              "    <tr>\n",
              "      <th>4</th>\n",
              "      <td>2022</td>\n",
              "      <td>3</td>\n",
              "      <td>Chubut</td>\n",
              "      <td>84,38</td>\n",
              "    </tr>\n",
              "  </tbody>\n",
              "</table>\n",
              "</div>\n",
              "      <button class=\"colab-df-convert\" onclick=\"convertToInteractive('df-3144ca17-9fb5-4a6f-953d-97ec41d06a56')\"\n",
              "              title=\"Convert this dataframe to an interactive table.\"\n",
              "              style=\"display:none;\">\n",
              "        \n",
              "  <svg xmlns=\"http://www.w3.org/2000/svg\" height=\"24px\"viewBox=\"0 0 24 24\"\n",
              "       width=\"24px\">\n",
              "    <path d=\"M0 0h24v24H0V0z\" fill=\"none\"/>\n",
              "    <path d=\"M18.56 5.44l.94 2.06.94-2.06 2.06-.94-2.06-.94-.94-2.06-.94 2.06-2.06.94zm-11 1L8.5 8.5l.94-2.06 2.06-.94-2.06-.94L8.5 2.5l-.94 2.06-2.06.94zm10 10l.94 2.06.94-2.06 2.06-.94-2.06-.94-.94-2.06-.94 2.06-2.06.94z\"/><path d=\"M17.41 7.96l-1.37-1.37c-.4-.4-.92-.59-1.43-.59-.52 0-1.04.2-1.43.59L10.3 9.45l-7.72 7.72c-.78.78-.78 2.05 0 2.83L4 21.41c.39.39.9.59 1.41.59.51 0 1.02-.2 1.41-.59l7.78-7.78 2.81-2.81c.8-.78.8-2.07 0-2.86zM5.41 20L4 18.59l7.72-7.72 1.47 1.35L5.41 20z\"/>\n",
              "  </svg>\n",
              "      </button>\n",
              "      \n",
              "  <style>\n",
              "    .colab-df-container {\n",
              "      display:flex;\n",
              "      flex-wrap:wrap;\n",
              "      gap: 12px;\n",
              "    }\n",
              "\n",
              "    .colab-df-convert {\n",
              "      background-color: #E8F0FE;\n",
              "      border: none;\n",
              "      border-radius: 50%;\n",
              "      cursor: pointer;\n",
              "      display: none;\n",
              "      fill: #1967D2;\n",
              "      height: 32px;\n",
              "      padding: 0 0 0 0;\n",
              "      width: 32px;\n",
              "    }\n",
              "\n",
              "    .colab-df-convert:hover {\n",
              "      background-color: #E2EBFA;\n",
              "      box-shadow: 0px 1px 2px rgba(60, 64, 67, 0.3), 0px 1px 3px 1px rgba(60, 64, 67, 0.15);\n",
              "      fill: #174EA6;\n",
              "    }\n",
              "\n",
              "    [theme=dark] .colab-df-convert {\n",
              "      background-color: #3B4455;\n",
              "      fill: #D2E3FC;\n",
              "    }\n",
              "\n",
              "    [theme=dark] .colab-df-convert:hover {\n",
              "      background-color: #434B5C;\n",
              "      box-shadow: 0px 1px 3px 1px rgba(0, 0, 0, 0.15);\n",
              "      filter: drop-shadow(0px 1px 2px rgba(0, 0, 0, 0.3));\n",
              "      fill: #FFFFFF;\n",
              "    }\n",
              "  </style>\n",
              "\n",
              "      <script>\n",
              "        const buttonEl =\n",
              "          document.querySelector('#df-3144ca17-9fb5-4a6f-953d-97ec41d06a56 button.colab-df-convert');\n",
              "        buttonEl.style.display =\n",
              "          google.colab.kernel.accessAllowed ? 'block' : 'none';\n",
              "\n",
              "        async function convertToInteractive(key) {\n",
              "          const element = document.querySelector('#df-3144ca17-9fb5-4a6f-953d-97ec41d06a56');\n",
              "          const dataTable =\n",
              "            await google.colab.kernel.invokeFunction('convertToInteractive',\n",
              "                                                     [key], {});\n",
              "          if (!dataTable) return;\n",
              "\n",
              "          const docLinkHtml = 'Like what you see? Visit the ' +\n",
              "            '<a target=\"_blank\" href=https://colab.research.google.com/notebooks/data_table.ipynb>data table notebook</a>'\n",
              "            + ' to learn more about interactive tables.';\n",
              "          element.innerHTML = '';\n",
              "          dataTable['output_type'] = 'display_data';\n",
              "          await google.colab.output.renderOutput(dataTable, element);\n",
              "          const docLink = document.createElement('div');\n",
              "          docLink.innerHTML = docLinkHtml;\n",
              "          element.appendChild(docLink);\n",
              "        }\n",
              "      </script>\n",
              "    </div>\n",
              "  </div>\n",
              "  "
            ]
          },
          "metadata": {},
          "execution_count": 12
        }
      ]
    },
    {
      "cell_type": "code",
      "source": [
        "df0.info()"
      ],
      "metadata": {
        "colab": {
          "base_uri": "https://localhost:8080/"
        },
        "id": "3lKqSfuSWozI",
        "outputId": "8d08e346-63b1-455d-ce35-6839a0715f2b"
      },
      "execution_count": null,
      "outputs": [
        {
          "output_type": "stream",
          "name": "stdout",
          "text": [
            "<class 'pandas.core.frame.DataFrame'>\n",
            "RangeIndex: 840 entries, 0 to 839\n",
            "Data columns (total 4 columns):\n",
            " #   Column                        Non-Null Count  Dtype \n",
            "---  ------                        --------------  ----- \n",
            " 0   Año                           840 non-null    int64 \n",
            " 1   Trimestre                     840 non-null    int64 \n",
            " 2   Provincia                     840 non-null    object\n",
            " 3   Accesos por cada 100 hogares  840 non-null    object\n",
            "dtypes: int64(2), object(2)\n",
            "memory usage: 26.4+ KB\n"
          ]
        }
      ]
    },
    {
      "cell_type": "markdown",
      "source": [
        "# dataset 1"
      ],
      "metadata": {
        "id": "hSBUal4hyhXE"
      }
    },
    {
      "cell_type": "markdown",
      "source": [
        "Penetración por hogares nacional de Internet fijo,\n",
        "Serie trimestral de la penetración del Internet fijo en la métrica por cada 100 hogares"
      ],
      "metadata": {
        "id": "Sa2sBxbp_3KF"
      }
    },
    {
      "cell_type": "code",
      "source": [
        "df1 = pd.read_csv('https://datosabiertos.enacom.gob.ar/rest/datastreams/281491/data.csv')"
      ],
      "metadata": {
        "id": "EesntjBbXrgg"
      },
      "execution_count": null,
      "outputs": []
    },
    {
      "cell_type": "code",
      "source": [
        "df1.head(5)"
      ],
      "metadata": {
        "id": "0VFCrhDzXpq2",
        "colab": {
          "base_uri": "https://localhost:8080/",
          "height": 206
        },
        "outputId": "95af18a7-cc3b-4afa-f479-fea6e21d2605"
      },
      "execution_count": null,
      "outputs": [
        {
          "output_type": "execute_result",
          "data": {
            "text/plain": [
              "    Año  Trimestre Accesos por cada 100 hogares Accesos por cada 100 hab  \\\n",
              "0  2022          3                        76,64                    23,95   \n",
              "1  2022          2                        75,97                    23,72   \n",
              "2  2022          1                        73,88                    23,05   \n",
              "3  2021          4                        73,18                    22,81   \n",
              "4  2021          3                        70,58                    21,98   \n",
              "\n",
              "         Periodo  \n",
              "0  Jul-Sept 2022  \n",
              "1   Abr-Jun 2022  \n",
              "2   Ene-Mar 2022  \n",
              "3   Oct-Dic 2021  \n",
              "4  Jul-Sept 2021  "
            ],
            "text/html": [
              "\n",
              "  <div id=\"df-97b56344-8264-41a1-a740-47d5e465db93\">\n",
              "    <div class=\"colab-df-container\">\n",
              "      <div>\n",
              "<style scoped>\n",
              "    .dataframe tbody tr th:only-of-type {\n",
              "        vertical-align: middle;\n",
              "    }\n",
              "\n",
              "    .dataframe tbody tr th {\n",
              "        vertical-align: top;\n",
              "    }\n",
              "\n",
              "    .dataframe thead th {\n",
              "        text-align: right;\n",
              "    }\n",
              "</style>\n",
              "<table border=\"1\" class=\"dataframe\">\n",
              "  <thead>\n",
              "    <tr style=\"text-align: right;\">\n",
              "      <th></th>\n",
              "      <th>Año</th>\n",
              "      <th>Trimestre</th>\n",
              "      <th>Accesos por cada 100 hogares</th>\n",
              "      <th>Accesos por cada 100 hab</th>\n",
              "      <th>Periodo</th>\n",
              "    </tr>\n",
              "  </thead>\n",
              "  <tbody>\n",
              "    <tr>\n",
              "      <th>0</th>\n",
              "      <td>2022</td>\n",
              "      <td>3</td>\n",
              "      <td>76,64</td>\n",
              "      <td>23,95</td>\n",
              "      <td>Jul-Sept 2022</td>\n",
              "    </tr>\n",
              "    <tr>\n",
              "      <th>1</th>\n",
              "      <td>2022</td>\n",
              "      <td>2</td>\n",
              "      <td>75,97</td>\n",
              "      <td>23,72</td>\n",
              "      <td>Abr-Jun 2022</td>\n",
              "    </tr>\n",
              "    <tr>\n",
              "      <th>2</th>\n",
              "      <td>2022</td>\n",
              "      <td>1</td>\n",
              "      <td>73,88</td>\n",
              "      <td>23,05</td>\n",
              "      <td>Ene-Mar 2022</td>\n",
              "    </tr>\n",
              "    <tr>\n",
              "      <th>3</th>\n",
              "      <td>2021</td>\n",
              "      <td>4</td>\n",
              "      <td>73,18</td>\n",
              "      <td>22,81</td>\n",
              "      <td>Oct-Dic 2021</td>\n",
              "    </tr>\n",
              "    <tr>\n",
              "      <th>4</th>\n",
              "      <td>2021</td>\n",
              "      <td>3</td>\n",
              "      <td>70,58</td>\n",
              "      <td>21,98</td>\n",
              "      <td>Jul-Sept 2021</td>\n",
              "    </tr>\n",
              "  </tbody>\n",
              "</table>\n",
              "</div>\n",
              "      <button class=\"colab-df-convert\" onclick=\"convertToInteractive('df-97b56344-8264-41a1-a740-47d5e465db93')\"\n",
              "              title=\"Convert this dataframe to an interactive table.\"\n",
              "              style=\"display:none;\">\n",
              "        \n",
              "  <svg xmlns=\"http://www.w3.org/2000/svg\" height=\"24px\"viewBox=\"0 0 24 24\"\n",
              "       width=\"24px\">\n",
              "    <path d=\"M0 0h24v24H0V0z\" fill=\"none\"/>\n",
              "    <path d=\"M18.56 5.44l.94 2.06.94-2.06 2.06-.94-2.06-.94-.94-2.06-.94 2.06-2.06.94zm-11 1L8.5 8.5l.94-2.06 2.06-.94-2.06-.94L8.5 2.5l-.94 2.06-2.06.94zm10 10l.94 2.06.94-2.06 2.06-.94-2.06-.94-.94-2.06-.94 2.06-2.06.94z\"/><path d=\"M17.41 7.96l-1.37-1.37c-.4-.4-.92-.59-1.43-.59-.52 0-1.04.2-1.43.59L10.3 9.45l-7.72 7.72c-.78.78-.78 2.05 0 2.83L4 21.41c.39.39.9.59 1.41.59.51 0 1.02-.2 1.41-.59l7.78-7.78 2.81-2.81c.8-.78.8-2.07 0-2.86zM5.41 20L4 18.59l7.72-7.72 1.47 1.35L5.41 20z\"/>\n",
              "  </svg>\n",
              "      </button>\n",
              "      \n",
              "  <style>\n",
              "    .colab-df-container {\n",
              "      display:flex;\n",
              "      flex-wrap:wrap;\n",
              "      gap: 12px;\n",
              "    }\n",
              "\n",
              "    .colab-df-convert {\n",
              "      background-color: #E8F0FE;\n",
              "      border: none;\n",
              "      border-radius: 50%;\n",
              "      cursor: pointer;\n",
              "      display: none;\n",
              "      fill: #1967D2;\n",
              "      height: 32px;\n",
              "      padding: 0 0 0 0;\n",
              "      width: 32px;\n",
              "    }\n",
              "\n",
              "    .colab-df-convert:hover {\n",
              "      background-color: #E2EBFA;\n",
              "      box-shadow: 0px 1px 2px rgba(60, 64, 67, 0.3), 0px 1px 3px 1px rgba(60, 64, 67, 0.15);\n",
              "      fill: #174EA6;\n",
              "    }\n",
              "\n",
              "    [theme=dark] .colab-df-convert {\n",
              "      background-color: #3B4455;\n",
              "      fill: #D2E3FC;\n",
              "    }\n",
              "\n",
              "    [theme=dark] .colab-df-convert:hover {\n",
              "      background-color: #434B5C;\n",
              "      box-shadow: 0px 1px 3px 1px rgba(0, 0, 0, 0.15);\n",
              "      filter: drop-shadow(0px 1px 2px rgba(0, 0, 0, 0.3));\n",
              "      fill: #FFFFFF;\n",
              "    }\n",
              "  </style>\n",
              "\n",
              "      <script>\n",
              "        const buttonEl =\n",
              "          document.querySelector('#df-97b56344-8264-41a1-a740-47d5e465db93 button.colab-df-convert');\n",
              "        buttonEl.style.display =\n",
              "          google.colab.kernel.accessAllowed ? 'block' : 'none';\n",
              "\n",
              "        async function convertToInteractive(key) {\n",
              "          const element = document.querySelector('#df-97b56344-8264-41a1-a740-47d5e465db93');\n",
              "          const dataTable =\n",
              "            await google.colab.kernel.invokeFunction('convertToInteractive',\n",
              "                                                     [key], {});\n",
              "          if (!dataTable) return;\n",
              "\n",
              "          const docLinkHtml = 'Like what you see? Visit the ' +\n",
              "            '<a target=\"_blank\" href=https://colab.research.google.com/notebooks/data_table.ipynb>data table notebook</a>'\n",
              "            + ' to learn more about interactive tables.';\n",
              "          element.innerHTML = '';\n",
              "          dataTable['output_type'] = 'display_data';\n",
              "          await google.colab.output.renderOutput(dataTable, element);\n",
              "          const docLink = document.createElement('div');\n",
              "          docLink.innerHTML = docLinkHtml;\n",
              "          element.appendChild(docLink);\n",
              "        }\n",
              "      </script>\n",
              "    </div>\n",
              "  </div>\n",
              "  "
            ]
          },
          "metadata": {},
          "execution_count": 15
        }
      ]
    },
    {
      "cell_type": "code",
      "source": [
        "df1.info()"
      ],
      "metadata": {
        "id": "TEdeMIjVEYwp",
        "colab": {
          "base_uri": "https://localhost:8080/"
        },
        "outputId": "6e5041a4-cbed-45f6-8a1d-20098b9b4203"
      },
      "execution_count": null,
      "outputs": [
        {
          "output_type": "stream",
          "name": "stdout",
          "text": [
            "<class 'pandas.core.frame.DataFrame'>\n",
            "RangeIndex: 35 entries, 0 to 34\n",
            "Data columns (total 5 columns):\n",
            " #   Column                        Non-Null Count  Dtype \n",
            "---  ------                        --------------  ----- \n",
            " 0   Año                           35 non-null     int64 \n",
            " 1   Trimestre                     35 non-null     int64 \n",
            " 2   Accesos por cada 100 hogares  35 non-null     object\n",
            " 3   Accesos por cada 100 hab      35 non-null     object\n",
            " 4   Periodo                       35 non-null     object\n",
            "dtypes: int64(2), object(3)\n",
            "memory usage: 1.5+ KB\n"
          ]
        }
      ]
    },
    {
      "cell_type": "markdown",
      "source": [
        "# dataset 2"
      ],
      "metadata": {
        "id": "mv396bLx9jIG"
      }
    },
    {
      "cell_type": "markdown",
      "source": [
        "Total nacional de accesos a Internet fijo por banda ancha y banda angosta,\n",
        "Número total de accesos al servicio de Internet fijo por banda ancha y banda angosta (trimestral)"
      ],
      "metadata": {
        "id": "uadOfmd9AAIx"
      }
    },
    {
      "cell_type": "code",
      "source": [
        "URlAPI = 'http://api.datosabiertos.enacom.gob.ar/api/v2/'\n",
        "docType = 'datastreams/'\n",
        "guid = 'TOTAL-NACIO-DE-ACCES-48866/'\n",
        "formatRes = 'data.ajson/'\n",
        "URlRequest = URlAPI + docType + guid + formatRes\n",
        "authKey = 'kPiA1Tds8eE6ov8kG0tQWZYW4B0AXfuTDKO5nk5f'\n",
        "paramReq = {'auth_key': authKey}"
      ],
      "metadata": {
        "id": "RwsA-_hXOmBY"
      },
      "execution_count": null,
      "outputs": []
    },
    {
      "cell_type": "code",
      "source": [
        "response = requests.get(URlRequest, params=paramReq)"
      ],
      "metadata": {
        "id": "qLWVLtFRh0Ju"
      },
      "execution_count": null,
      "outputs": []
    },
    {
      "cell_type": "code",
      "source": [
        "data = response.json()"
      ],
      "metadata": {
        "id": "u0navIuJK_AS"
      },
      "execution_count": null,
      "outputs": []
    },
    {
      "cell_type": "code",
      "source": [
        "df2 = pd.DataFrame(data['result'][1:], columns= data['result'][0])"
      ],
      "metadata": {
        "id": "SHWNg9q0agx1"
      },
      "execution_count": null,
      "outputs": []
    },
    {
      "cell_type": "code",
      "source": [
        "df2.Año = df2.Año.astype('int64')\n",
        "df2.Trimestre = df2.Trimestre.astype('int64')"
      ],
      "metadata": {
        "id": "Vjs1qLPQnBay"
      },
      "execution_count": null,
      "outputs": []
    },
    {
      "cell_type": "code",
      "source": [
        "df2.head(5)"
      ],
      "metadata": {
        "id": "4G6-sJdhm_mZ",
        "colab": {
          "base_uri": "https://localhost:8080/",
          "height": 206
        },
        "outputId": "ad9156cf-95e3-4742-ab39-7bf813b2024e"
      },
      "execution_count": null,
      "outputs": [
        {
          "output_type": "execute_result",
          "data": {
            "text/plain": [
              "    Año  Trimestre Banda ancha fija Dial up       Total        Periodo\n",
              "0  2022          3       11,078,691  12,437  11,091,128  Jul-Sept 2022\n",
              "1  2022          2       10,946,248  12,436  10,958,684   Abr-Jun 2022\n",
              "2  2022          1       10,611,390  12,619  10,624,009   Ene-Mar 2022\n",
              "3  2021          4       10,476,933  12,861  10,489,794   Oct-Dic 2021\n",
              "4  2021          3       10,075,184  10,357  10,085,541  Jul-Sept 2021"
            ],
            "text/html": [
              "\n",
              "  <div id=\"df-416fbf46-3280-4049-af93-939a0330c54b\">\n",
              "    <div class=\"colab-df-container\">\n",
              "      <div>\n",
              "<style scoped>\n",
              "    .dataframe tbody tr th:only-of-type {\n",
              "        vertical-align: middle;\n",
              "    }\n",
              "\n",
              "    .dataframe tbody tr th {\n",
              "        vertical-align: top;\n",
              "    }\n",
              "\n",
              "    .dataframe thead th {\n",
              "        text-align: right;\n",
              "    }\n",
              "</style>\n",
              "<table border=\"1\" class=\"dataframe\">\n",
              "  <thead>\n",
              "    <tr style=\"text-align: right;\">\n",
              "      <th></th>\n",
              "      <th>Año</th>\n",
              "      <th>Trimestre</th>\n",
              "      <th>Banda ancha fija</th>\n",
              "      <th>Dial up</th>\n",
              "      <th>Total</th>\n",
              "      <th>Periodo</th>\n",
              "    </tr>\n",
              "  </thead>\n",
              "  <tbody>\n",
              "    <tr>\n",
              "      <th>0</th>\n",
              "      <td>2022</td>\n",
              "      <td>3</td>\n",
              "      <td>11,078,691</td>\n",
              "      <td>12,437</td>\n",
              "      <td>11,091,128</td>\n",
              "      <td>Jul-Sept 2022</td>\n",
              "    </tr>\n",
              "    <tr>\n",
              "      <th>1</th>\n",
              "      <td>2022</td>\n",
              "      <td>2</td>\n",
              "      <td>10,946,248</td>\n",
              "      <td>12,436</td>\n",
              "      <td>10,958,684</td>\n",
              "      <td>Abr-Jun 2022</td>\n",
              "    </tr>\n",
              "    <tr>\n",
              "      <th>2</th>\n",
              "      <td>2022</td>\n",
              "      <td>1</td>\n",
              "      <td>10,611,390</td>\n",
              "      <td>12,619</td>\n",
              "      <td>10,624,009</td>\n",
              "      <td>Ene-Mar 2022</td>\n",
              "    </tr>\n",
              "    <tr>\n",
              "      <th>3</th>\n",
              "      <td>2021</td>\n",
              "      <td>4</td>\n",
              "      <td>10,476,933</td>\n",
              "      <td>12,861</td>\n",
              "      <td>10,489,794</td>\n",
              "      <td>Oct-Dic 2021</td>\n",
              "    </tr>\n",
              "    <tr>\n",
              "      <th>4</th>\n",
              "      <td>2021</td>\n",
              "      <td>3</td>\n",
              "      <td>10,075,184</td>\n",
              "      <td>10,357</td>\n",
              "      <td>10,085,541</td>\n",
              "      <td>Jul-Sept 2021</td>\n",
              "    </tr>\n",
              "  </tbody>\n",
              "</table>\n",
              "</div>\n",
              "      <button class=\"colab-df-convert\" onclick=\"convertToInteractive('df-416fbf46-3280-4049-af93-939a0330c54b')\"\n",
              "              title=\"Convert this dataframe to an interactive table.\"\n",
              "              style=\"display:none;\">\n",
              "        \n",
              "  <svg xmlns=\"http://www.w3.org/2000/svg\" height=\"24px\"viewBox=\"0 0 24 24\"\n",
              "       width=\"24px\">\n",
              "    <path d=\"M0 0h24v24H0V0z\" fill=\"none\"/>\n",
              "    <path d=\"M18.56 5.44l.94 2.06.94-2.06 2.06-.94-2.06-.94-.94-2.06-.94 2.06-2.06.94zm-11 1L8.5 8.5l.94-2.06 2.06-.94-2.06-.94L8.5 2.5l-.94 2.06-2.06.94zm10 10l.94 2.06.94-2.06 2.06-.94-2.06-.94-.94-2.06-.94 2.06-2.06.94z\"/><path d=\"M17.41 7.96l-1.37-1.37c-.4-.4-.92-.59-1.43-.59-.52 0-1.04.2-1.43.59L10.3 9.45l-7.72 7.72c-.78.78-.78 2.05 0 2.83L4 21.41c.39.39.9.59 1.41.59.51 0 1.02-.2 1.41-.59l7.78-7.78 2.81-2.81c.8-.78.8-2.07 0-2.86zM5.41 20L4 18.59l7.72-7.72 1.47 1.35L5.41 20z\"/>\n",
              "  </svg>\n",
              "      </button>\n",
              "      \n",
              "  <style>\n",
              "    .colab-df-container {\n",
              "      display:flex;\n",
              "      flex-wrap:wrap;\n",
              "      gap: 12px;\n",
              "    }\n",
              "\n",
              "    .colab-df-convert {\n",
              "      background-color: #E8F0FE;\n",
              "      border: none;\n",
              "      border-radius: 50%;\n",
              "      cursor: pointer;\n",
              "      display: none;\n",
              "      fill: #1967D2;\n",
              "      height: 32px;\n",
              "      padding: 0 0 0 0;\n",
              "      width: 32px;\n",
              "    }\n",
              "\n",
              "    .colab-df-convert:hover {\n",
              "      background-color: #E2EBFA;\n",
              "      box-shadow: 0px 1px 2px rgba(60, 64, 67, 0.3), 0px 1px 3px 1px rgba(60, 64, 67, 0.15);\n",
              "      fill: #174EA6;\n",
              "    }\n",
              "\n",
              "    [theme=dark] .colab-df-convert {\n",
              "      background-color: #3B4455;\n",
              "      fill: #D2E3FC;\n",
              "    }\n",
              "\n",
              "    [theme=dark] .colab-df-convert:hover {\n",
              "      background-color: #434B5C;\n",
              "      box-shadow: 0px 1px 3px 1px rgba(0, 0, 0, 0.15);\n",
              "      filter: drop-shadow(0px 1px 2px rgba(0, 0, 0, 0.3));\n",
              "      fill: #FFFFFF;\n",
              "    }\n",
              "  </style>\n",
              "\n",
              "      <script>\n",
              "        const buttonEl =\n",
              "          document.querySelector('#df-416fbf46-3280-4049-af93-939a0330c54b button.colab-df-convert');\n",
              "        buttonEl.style.display =\n",
              "          google.colab.kernel.accessAllowed ? 'block' : 'none';\n",
              "\n",
              "        async function convertToInteractive(key) {\n",
              "          const element = document.querySelector('#df-416fbf46-3280-4049-af93-939a0330c54b');\n",
              "          const dataTable =\n",
              "            await google.colab.kernel.invokeFunction('convertToInteractive',\n",
              "                                                     [key], {});\n",
              "          if (!dataTable) return;\n",
              "\n",
              "          const docLinkHtml = 'Like what you see? Visit the ' +\n",
              "            '<a target=\"_blank\" href=https://colab.research.google.com/notebooks/data_table.ipynb>data table notebook</a>'\n",
              "            + ' to learn more about interactive tables.';\n",
              "          element.innerHTML = '';\n",
              "          dataTable['output_type'] = 'display_data';\n",
              "          await google.colab.output.renderOutput(dataTable, element);\n",
              "          const docLink = document.createElement('div');\n",
              "          docLink.innerHTML = docLinkHtml;\n",
              "          element.appendChild(docLink);\n",
              "        }\n",
              "      </script>\n",
              "    </div>\n",
              "  </div>\n",
              "  "
            ]
          },
          "metadata": {},
          "execution_count": 22
        }
      ]
    },
    {
      "cell_type": "code",
      "source": [
        "df2.info()"
      ],
      "metadata": {
        "colab": {
          "base_uri": "https://localhost:8080/"
        },
        "id": "nmnPjRUkkypf",
        "outputId": "4f520c04-fedd-41a4-b96a-771eefd6942d"
      },
      "execution_count": null,
      "outputs": [
        {
          "output_type": "stream",
          "name": "stdout",
          "text": [
            "<class 'pandas.core.frame.DataFrame'>\n",
            "RangeIndex: 35 entries, 0 to 34\n",
            "Data columns (total 6 columns):\n",
            " #   Column            Non-Null Count  Dtype \n",
            "---  ------            --------------  ----- \n",
            " 0   Año               35 non-null     int64 \n",
            " 1   Trimestre         35 non-null     int64 \n",
            " 2   Banda ancha fija  35 non-null     object\n",
            " 3   Dial up           35 non-null     object\n",
            " 4   Total             35 non-null     object\n",
            " 5   Periodo           35 non-null     object\n",
            "dtypes: int64(2), object(4)\n",
            "memory usage: 1.8+ KB\n"
          ]
        }
      ]
    },
    {
      "cell_type": "markdown",
      "source": [
        "# dataset 3"
      ],
      "metadata": {
        "id": "lchABmi0fq_i"
      }
    },
    {
      "cell_type": "markdown",
      "source": [
        "Accesos a banda ancha y banda angosta por provincia,\n",
        "Número de accesos al servicio de Internet fijo por banda ancha y banda angosta en cada provincia (trimestral)"
      ],
      "metadata": {
        "id": "sITaDXGNAJ4g"
      }
    },
    {
      "cell_type": "code",
      "source": [
        "URlAPI = 'http://api.datosabiertos.enacom.gob.ar/api/v2/'\n",
        "docType = 'datastreams/'\n",
        "guid = 'BANDA-ANCHA-Y-BANDA-ANGOS/'\n",
        "formatRes = 'data.ajson/'\n",
        "URlRequest = URlAPI + docType + guid + formatRes\n",
        "authKey = 'kPiA1Tds8eE6ov8kG0tQWZYW4B0AXfuTDKO5nk5f'\n",
        "paramReq = {'auth_key': authKey}"
      ],
      "metadata": {
        "id": "XaNX4hUYfqXB"
      },
      "execution_count": null,
      "outputs": []
    },
    {
      "cell_type": "code",
      "source": [
        "response = requests.get(URlRequest, params=paramReq)"
      ],
      "metadata": {
        "id": "Lj5zzLbYnqkt"
      },
      "execution_count": null,
      "outputs": []
    },
    {
      "cell_type": "code",
      "source": [
        "data = response.json()"
      ],
      "metadata": {
        "id": "Bp_a-JpRgDd7"
      },
      "execution_count": null,
      "outputs": []
    },
    {
      "cell_type": "code",
      "source": [
        "df3 = pd.DataFrame(data['result'][1:], columns= data['result'][0])"
      ],
      "metadata": {
        "id": "mY2QCNc7gNsF"
      },
      "execution_count": null,
      "outputs": []
    },
    {
      "cell_type": "code",
      "source": [
        "df3.Año = df3.Año.astype('int64')\n",
        "df3.Trimestre = df3.Trimestre.astype('int64')"
      ],
      "metadata": {
        "id": "TWBtPoG3nYCg"
      },
      "execution_count": null,
      "outputs": []
    },
    {
      "cell_type": "code",
      "source": [
        "df3.head(5)"
      ],
      "metadata": {
        "id": "e2uYogCHnd1n",
        "colab": {
          "base_uri": "https://localhost:8080/",
          "height": 206
        },
        "outputId": "4dda1250-45dc-444d-f252-694a95cd3ef4"
      },
      "execution_count": null,
      "outputs": [
        {
          "output_type": "execute_result",
          "data": {
            "text/plain": [
              "    Año  Trimestre        Provincia Banda ancha fija Dial up      Total\n",
              "0  2022          3     Buenos Aires        4,715,469   6,199  4,721,668\n",
              "1  2022          3  Capital Federal        1,545,534   2,145  1,547,679\n",
              "2  2022          3        Catamarca           70,292       1     70,293\n",
              "3  2022          3            Chaco          144,141       5    144,146\n",
              "4  2022          3           Chubut          164,874     904    165,778"
            ],
            "text/html": [
              "\n",
              "  <div id=\"df-6c5c78e2-6c0a-4a3a-8f12-7fe730424d8c\">\n",
              "    <div class=\"colab-df-container\">\n",
              "      <div>\n",
              "<style scoped>\n",
              "    .dataframe tbody tr th:only-of-type {\n",
              "        vertical-align: middle;\n",
              "    }\n",
              "\n",
              "    .dataframe tbody tr th {\n",
              "        vertical-align: top;\n",
              "    }\n",
              "\n",
              "    .dataframe thead th {\n",
              "        text-align: right;\n",
              "    }\n",
              "</style>\n",
              "<table border=\"1\" class=\"dataframe\">\n",
              "  <thead>\n",
              "    <tr style=\"text-align: right;\">\n",
              "      <th></th>\n",
              "      <th>Año</th>\n",
              "      <th>Trimestre</th>\n",
              "      <th>Provincia</th>\n",
              "      <th>Banda ancha fija</th>\n",
              "      <th>Dial up</th>\n",
              "      <th>Total</th>\n",
              "    </tr>\n",
              "  </thead>\n",
              "  <tbody>\n",
              "    <tr>\n",
              "      <th>0</th>\n",
              "      <td>2022</td>\n",
              "      <td>3</td>\n",
              "      <td>Buenos Aires</td>\n",
              "      <td>4,715,469</td>\n",
              "      <td>6,199</td>\n",
              "      <td>4,721,668</td>\n",
              "    </tr>\n",
              "    <tr>\n",
              "      <th>1</th>\n",
              "      <td>2022</td>\n",
              "      <td>3</td>\n",
              "      <td>Capital Federal</td>\n",
              "      <td>1,545,534</td>\n",
              "      <td>2,145</td>\n",
              "      <td>1,547,679</td>\n",
              "    </tr>\n",
              "    <tr>\n",
              "      <th>2</th>\n",
              "      <td>2022</td>\n",
              "      <td>3</td>\n",
              "      <td>Catamarca</td>\n",
              "      <td>70,292</td>\n",
              "      <td>1</td>\n",
              "      <td>70,293</td>\n",
              "    </tr>\n",
              "    <tr>\n",
              "      <th>3</th>\n",
              "      <td>2022</td>\n",
              "      <td>3</td>\n",
              "      <td>Chaco</td>\n",
              "      <td>144,141</td>\n",
              "      <td>5</td>\n",
              "      <td>144,146</td>\n",
              "    </tr>\n",
              "    <tr>\n",
              "      <th>4</th>\n",
              "      <td>2022</td>\n",
              "      <td>3</td>\n",
              "      <td>Chubut</td>\n",
              "      <td>164,874</td>\n",
              "      <td>904</td>\n",
              "      <td>165,778</td>\n",
              "    </tr>\n",
              "  </tbody>\n",
              "</table>\n",
              "</div>\n",
              "      <button class=\"colab-df-convert\" onclick=\"convertToInteractive('df-6c5c78e2-6c0a-4a3a-8f12-7fe730424d8c')\"\n",
              "              title=\"Convert this dataframe to an interactive table.\"\n",
              "              style=\"display:none;\">\n",
              "        \n",
              "  <svg xmlns=\"http://www.w3.org/2000/svg\" height=\"24px\"viewBox=\"0 0 24 24\"\n",
              "       width=\"24px\">\n",
              "    <path d=\"M0 0h24v24H0V0z\" fill=\"none\"/>\n",
              "    <path d=\"M18.56 5.44l.94 2.06.94-2.06 2.06-.94-2.06-.94-.94-2.06-.94 2.06-2.06.94zm-11 1L8.5 8.5l.94-2.06 2.06-.94-2.06-.94L8.5 2.5l-.94 2.06-2.06.94zm10 10l.94 2.06.94-2.06 2.06-.94-2.06-.94-.94-2.06-.94 2.06-2.06.94z\"/><path d=\"M17.41 7.96l-1.37-1.37c-.4-.4-.92-.59-1.43-.59-.52 0-1.04.2-1.43.59L10.3 9.45l-7.72 7.72c-.78.78-.78 2.05 0 2.83L4 21.41c.39.39.9.59 1.41.59.51 0 1.02-.2 1.41-.59l7.78-7.78 2.81-2.81c.8-.78.8-2.07 0-2.86zM5.41 20L4 18.59l7.72-7.72 1.47 1.35L5.41 20z\"/>\n",
              "  </svg>\n",
              "      </button>\n",
              "      \n",
              "  <style>\n",
              "    .colab-df-container {\n",
              "      display:flex;\n",
              "      flex-wrap:wrap;\n",
              "      gap: 12px;\n",
              "    }\n",
              "\n",
              "    .colab-df-convert {\n",
              "      background-color: #E8F0FE;\n",
              "      border: none;\n",
              "      border-radius: 50%;\n",
              "      cursor: pointer;\n",
              "      display: none;\n",
              "      fill: #1967D2;\n",
              "      height: 32px;\n",
              "      padding: 0 0 0 0;\n",
              "      width: 32px;\n",
              "    }\n",
              "\n",
              "    .colab-df-convert:hover {\n",
              "      background-color: #E2EBFA;\n",
              "      box-shadow: 0px 1px 2px rgba(60, 64, 67, 0.3), 0px 1px 3px 1px rgba(60, 64, 67, 0.15);\n",
              "      fill: #174EA6;\n",
              "    }\n",
              "\n",
              "    [theme=dark] .colab-df-convert {\n",
              "      background-color: #3B4455;\n",
              "      fill: #D2E3FC;\n",
              "    }\n",
              "\n",
              "    [theme=dark] .colab-df-convert:hover {\n",
              "      background-color: #434B5C;\n",
              "      box-shadow: 0px 1px 3px 1px rgba(0, 0, 0, 0.15);\n",
              "      filter: drop-shadow(0px 1px 2px rgba(0, 0, 0, 0.3));\n",
              "      fill: #FFFFFF;\n",
              "    }\n",
              "  </style>\n",
              "\n",
              "      <script>\n",
              "        const buttonEl =\n",
              "          document.querySelector('#df-6c5c78e2-6c0a-4a3a-8f12-7fe730424d8c button.colab-df-convert');\n",
              "        buttonEl.style.display =\n",
              "          google.colab.kernel.accessAllowed ? 'block' : 'none';\n",
              "\n",
              "        async function convertToInteractive(key) {\n",
              "          const element = document.querySelector('#df-6c5c78e2-6c0a-4a3a-8f12-7fe730424d8c');\n",
              "          const dataTable =\n",
              "            await google.colab.kernel.invokeFunction('convertToInteractive',\n",
              "                                                     [key], {});\n",
              "          if (!dataTable) return;\n",
              "\n",
              "          const docLinkHtml = 'Like what you see? Visit the ' +\n",
              "            '<a target=\"_blank\" href=https://colab.research.google.com/notebooks/data_table.ipynb>data table notebook</a>'\n",
              "            + ' to learn more about interactive tables.';\n",
              "          element.innerHTML = '';\n",
              "          dataTable['output_type'] = 'display_data';\n",
              "          await google.colab.output.renderOutput(dataTable, element);\n",
              "          const docLink = document.createElement('div');\n",
              "          docLink.innerHTML = docLinkHtml;\n",
              "          element.appendChild(docLink);\n",
              "        }\n",
              "      </script>\n",
              "    </div>\n",
              "  </div>\n",
              "  "
            ]
          },
          "metadata": {},
          "execution_count": 29
        }
      ]
    },
    {
      "cell_type": "code",
      "source": [
        "df3.info()"
      ],
      "metadata": {
        "colab": {
          "base_uri": "https://localhost:8080/"
        },
        "id": "oc7h-RXinz1D",
        "outputId": "971d2997-b433-4a79-c785-7e2138fcbf6a"
      },
      "execution_count": null,
      "outputs": [
        {
          "output_type": "stream",
          "name": "stdout",
          "text": [
            "<class 'pandas.core.frame.DataFrame'>\n",
            "RangeIndex: 840 entries, 0 to 839\n",
            "Data columns (total 6 columns):\n",
            " #   Column            Non-Null Count  Dtype \n",
            "---  ------            --------------  ----- \n",
            " 0   Año               840 non-null    int64 \n",
            " 1   Trimestre         840 non-null    int64 \n",
            " 2   Provincia         840 non-null    object\n",
            " 3   Banda ancha fija  840 non-null    object\n",
            " 4   Dial up           840 non-null    object\n",
            " 5   Total             840 non-null    object\n",
            "dtypes: int64(2), object(4)\n",
            "memory usage: 39.5+ KB\n"
          ]
        }
      ]
    },
    {
      "cell_type": "markdown",
      "source": [
        "# dataset 4"
      ],
      "metadata": {
        "id": "c_Z0iZz0YRb3"
      }
    },
    {
      "cell_type": "markdown",
      "source": [
        "Serie trimestral de accesos a Internet fijo por tecnología,\n",
        "Número de accesos al servicio de Internet fijo por tipo de tecnología. Total nacional (trimestral)"
      ],
      "metadata": {
        "id": "H5vZ0hYAAY8r"
      }
    },
    {
      "cell_type": "code",
      "source": [
        "df4 = pd.read_csv('https://datosabiertos.enacom.gob.ar/rest/datastreams/275029/data.csv')"
      ],
      "metadata": {
        "id": "4ObLTsHMYNQq"
      },
      "execution_count": null,
      "outputs": []
    },
    {
      "cell_type": "code",
      "source": [
        "df4.head(5)"
      ],
      "metadata": {
        "id": "XxD2Be_CYXiG",
        "colab": {
          "base_uri": "https://localhost:8080/",
          "height": 206
        },
        "outputId": "63257652-d206-4356-da5a-2f4096040527"
      },
      "execution_count": null,
      "outputs": [
        {
          "output_type": "execute_result",
          "data": {
            "text/plain": [
              "    Año  Trimestre       ADSL Cablemodem Fibra óptica  Wireless    Otros  \\\n",
              "0  2022          3  1.395.277  6.031.970    2.871.541   557.110  235.230   \n",
              "1  2022          2  1.468.333  5.979.214    2.723.285   556.243  231.609   \n",
              "2  2022          1  1.533.240  6.073.426    2.219.533   545.814  251.996   \n",
              "3  2021          4  1.657.615  5.984.240    2.072.236   523.107  252.596   \n",
              "4  2021          3  1.950.631  5.826.257    1.566.048   492.415  250.190   \n",
              "\n",
              "        Total        Periodo  \n",
              "0  11.091.128  Jul-Sept 2022  \n",
              "1  10.958.684   Abr-Jun 2022  \n",
              "2  10.624.009   Ene-Mar 2022  \n",
              "3  10.489.794   Oct-Dic 2021  \n",
              "4  10.085.541  Jul-Sept 2021  "
            ],
            "text/html": [
              "\n",
              "  <div id=\"df-c5b03ac7-4498-4f63-90e7-c0f81767fc55\">\n",
              "    <div class=\"colab-df-container\">\n",
              "      <div>\n",
              "<style scoped>\n",
              "    .dataframe tbody tr th:only-of-type {\n",
              "        vertical-align: middle;\n",
              "    }\n",
              "\n",
              "    .dataframe tbody tr th {\n",
              "        vertical-align: top;\n",
              "    }\n",
              "\n",
              "    .dataframe thead th {\n",
              "        text-align: right;\n",
              "    }\n",
              "</style>\n",
              "<table border=\"1\" class=\"dataframe\">\n",
              "  <thead>\n",
              "    <tr style=\"text-align: right;\">\n",
              "      <th></th>\n",
              "      <th>Año</th>\n",
              "      <th>Trimestre</th>\n",
              "      <th>ADSL</th>\n",
              "      <th>Cablemodem</th>\n",
              "      <th>Fibra óptica</th>\n",
              "      <th>Wireless</th>\n",
              "      <th>Otros</th>\n",
              "      <th>Total</th>\n",
              "      <th>Periodo</th>\n",
              "    </tr>\n",
              "  </thead>\n",
              "  <tbody>\n",
              "    <tr>\n",
              "      <th>0</th>\n",
              "      <td>2022</td>\n",
              "      <td>3</td>\n",
              "      <td>1.395.277</td>\n",
              "      <td>6.031.970</td>\n",
              "      <td>2.871.541</td>\n",
              "      <td>557.110</td>\n",
              "      <td>235.230</td>\n",
              "      <td>11.091.128</td>\n",
              "      <td>Jul-Sept 2022</td>\n",
              "    </tr>\n",
              "    <tr>\n",
              "      <th>1</th>\n",
              "      <td>2022</td>\n",
              "      <td>2</td>\n",
              "      <td>1.468.333</td>\n",
              "      <td>5.979.214</td>\n",
              "      <td>2.723.285</td>\n",
              "      <td>556.243</td>\n",
              "      <td>231.609</td>\n",
              "      <td>10.958.684</td>\n",
              "      <td>Abr-Jun 2022</td>\n",
              "    </tr>\n",
              "    <tr>\n",
              "      <th>2</th>\n",
              "      <td>2022</td>\n",
              "      <td>1</td>\n",
              "      <td>1.533.240</td>\n",
              "      <td>6.073.426</td>\n",
              "      <td>2.219.533</td>\n",
              "      <td>545.814</td>\n",
              "      <td>251.996</td>\n",
              "      <td>10.624.009</td>\n",
              "      <td>Ene-Mar 2022</td>\n",
              "    </tr>\n",
              "    <tr>\n",
              "      <th>3</th>\n",
              "      <td>2021</td>\n",
              "      <td>4</td>\n",
              "      <td>1.657.615</td>\n",
              "      <td>5.984.240</td>\n",
              "      <td>2.072.236</td>\n",
              "      <td>523.107</td>\n",
              "      <td>252.596</td>\n",
              "      <td>10.489.794</td>\n",
              "      <td>Oct-Dic 2021</td>\n",
              "    </tr>\n",
              "    <tr>\n",
              "      <th>4</th>\n",
              "      <td>2021</td>\n",
              "      <td>3</td>\n",
              "      <td>1.950.631</td>\n",
              "      <td>5.826.257</td>\n",
              "      <td>1.566.048</td>\n",
              "      <td>492.415</td>\n",
              "      <td>250.190</td>\n",
              "      <td>10.085.541</td>\n",
              "      <td>Jul-Sept 2021</td>\n",
              "    </tr>\n",
              "  </tbody>\n",
              "</table>\n",
              "</div>\n",
              "      <button class=\"colab-df-convert\" onclick=\"convertToInteractive('df-c5b03ac7-4498-4f63-90e7-c0f81767fc55')\"\n",
              "              title=\"Convert this dataframe to an interactive table.\"\n",
              "              style=\"display:none;\">\n",
              "        \n",
              "  <svg xmlns=\"http://www.w3.org/2000/svg\" height=\"24px\"viewBox=\"0 0 24 24\"\n",
              "       width=\"24px\">\n",
              "    <path d=\"M0 0h24v24H0V0z\" fill=\"none\"/>\n",
              "    <path d=\"M18.56 5.44l.94 2.06.94-2.06 2.06-.94-2.06-.94-.94-2.06-.94 2.06-2.06.94zm-11 1L8.5 8.5l.94-2.06 2.06-.94-2.06-.94L8.5 2.5l-.94 2.06-2.06.94zm10 10l.94 2.06.94-2.06 2.06-.94-2.06-.94-.94-2.06-.94 2.06-2.06.94z\"/><path d=\"M17.41 7.96l-1.37-1.37c-.4-.4-.92-.59-1.43-.59-.52 0-1.04.2-1.43.59L10.3 9.45l-7.72 7.72c-.78.78-.78 2.05 0 2.83L4 21.41c.39.39.9.59 1.41.59.51 0 1.02-.2 1.41-.59l7.78-7.78 2.81-2.81c.8-.78.8-2.07 0-2.86zM5.41 20L4 18.59l7.72-7.72 1.47 1.35L5.41 20z\"/>\n",
              "  </svg>\n",
              "      </button>\n",
              "      \n",
              "  <style>\n",
              "    .colab-df-container {\n",
              "      display:flex;\n",
              "      flex-wrap:wrap;\n",
              "      gap: 12px;\n",
              "    }\n",
              "\n",
              "    .colab-df-convert {\n",
              "      background-color: #E8F0FE;\n",
              "      border: none;\n",
              "      border-radius: 50%;\n",
              "      cursor: pointer;\n",
              "      display: none;\n",
              "      fill: #1967D2;\n",
              "      height: 32px;\n",
              "      padding: 0 0 0 0;\n",
              "      width: 32px;\n",
              "    }\n",
              "\n",
              "    .colab-df-convert:hover {\n",
              "      background-color: #E2EBFA;\n",
              "      box-shadow: 0px 1px 2px rgba(60, 64, 67, 0.3), 0px 1px 3px 1px rgba(60, 64, 67, 0.15);\n",
              "      fill: #174EA6;\n",
              "    }\n",
              "\n",
              "    [theme=dark] .colab-df-convert {\n",
              "      background-color: #3B4455;\n",
              "      fill: #D2E3FC;\n",
              "    }\n",
              "\n",
              "    [theme=dark] .colab-df-convert:hover {\n",
              "      background-color: #434B5C;\n",
              "      box-shadow: 0px 1px 3px 1px rgba(0, 0, 0, 0.15);\n",
              "      filter: drop-shadow(0px 1px 2px rgba(0, 0, 0, 0.3));\n",
              "      fill: #FFFFFF;\n",
              "    }\n",
              "  </style>\n",
              "\n",
              "      <script>\n",
              "        const buttonEl =\n",
              "          document.querySelector('#df-c5b03ac7-4498-4f63-90e7-c0f81767fc55 button.colab-df-convert');\n",
              "        buttonEl.style.display =\n",
              "          google.colab.kernel.accessAllowed ? 'block' : 'none';\n",
              "\n",
              "        async function convertToInteractive(key) {\n",
              "          const element = document.querySelector('#df-c5b03ac7-4498-4f63-90e7-c0f81767fc55');\n",
              "          const dataTable =\n",
              "            await google.colab.kernel.invokeFunction('convertToInteractive',\n",
              "                                                     [key], {});\n",
              "          if (!dataTable) return;\n",
              "\n",
              "          const docLinkHtml = 'Like what you see? Visit the ' +\n",
              "            '<a target=\"_blank\" href=https://colab.research.google.com/notebooks/data_table.ipynb>data table notebook</a>'\n",
              "            + ' to learn more about interactive tables.';\n",
              "          element.innerHTML = '';\n",
              "          dataTable['output_type'] = 'display_data';\n",
              "          await google.colab.output.renderOutput(dataTable, element);\n",
              "          const docLink = document.createElement('div');\n",
              "          docLink.innerHTML = docLinkHtml;\n",
              "          element.appendChild(docLink);\n",
              "        }\n",
              "      </script>\n",
              "    </div>\n",
              "  </div>\n",
              "  "
            ]
          },
          "metadata": {},
          "execution_count": 32
        }
      ]
    },
    {
      "cell_type": "code",
      "source": [
        "df4.info()"
      ],
      "metadata": {
        "colab": {
          "base_uri": "https://localhost:8080/"
        },
        "id": "QU38jqk1YZX1",
        "outputId": "4d09ed48-bce6-4e93-afb4-739d3ab0b4ca"
      },
      "execution_count": null,
      "outputs": [
        {
          "output_type": "stream",
          "name": "stdout",
          "text": [
            "<class 'pandas.core.frame.DataFrame'>\n",
            "RangeIndex: 35 entries, 0 to 34\n",
            "Data columns (total 9 columns):\n",
            " #   Column        Non-Null Count  Dtype  \n",
            "---  ------        --------------  -----  \n",
            " 0   Año           35 non-null     int64  \n",
            " 1   Trimestre     35 non-null     int64  \n",
            " 2   ADSL          35 non-null     object \n",
            " 3   Cablemodem    35 non-null     object \n",
            " 4   Fibra óptica  35 non-null     object \n",
            " 5   Wireless      35 non-null     float64\n",
            " 6   Otros         35 non-null     float64\n",
            " 7   Total         35 non-null     object \n",
            " 8   Periodo       35 non-null     object \n",
            "dtypes: float64(2), int64(2), object(5)\n",
            "memory usage: 2.6+ KB\n"
          ]
        }
      ]
    },
    {
      "cell_type": "markdown",
      "source": [
        "# dataset 5"
      ],
      "metadata": {
        "id": "uEqkfzc5Yf1n"
      }
    },
    {
      "cell_type": "markdown",
      "source": [
        "Acceso a Internet fijo por tecnología y provincia,\n",
        "Número de accesos al servicio de Internet fijo por tipo de tecnología en cada provincia (trimestral)"
      ],
      "metadata": {
        "id": "E-UT5v6VAhS6"
      }
    },
    {
      "cell_type": "code",
      "source": [
        "URlAPI = 'http://api.datosabiertos.enacom.gob.ar/api/v2/'\n",
        "docType = 'datastreams/'\n",
        "guid = 'ACCES-A-INTER-FIJO-POR/'\n",
        "formatRes = 'data.ajson/'\n",
        "URlRequest = URlAPI + docType + guid + formatRes\n",
        "authKey = 'kPiA1Tds8eE6ov8kG0tQWZYW4B0AXfuTDKO5nk5f'\n",
        "paramReq = {'auth_key': authKey}"
      ],
      "metadata": {
        "id": "xv5F3EMdYh4l"
      },
      "execution_count": null,
      "outputs": []
    },
    {
      "cell_type": "code",
      "source": [
        "response = requests.get(URlRequest, params=paramReq)"
      ],
      "metadata": {
        "id": "E83VHDdlYsKf"
      },
      "execution_count": null,
      "outputs": []
    },
    {
      "cell_type": "code",
      "source": [
        "data = response.json()"
      ],
      "metadata": {
        "id": "1k80HAhfYsKg"
      },
      "execution_count": null,
      "outputs": []
    },
    {
      "cell_type": "code",
      "source": [
        "df5 = pd.DataFrame(data['result'][1:], columns= data['result'][0])"
      ],
      "metadata": {
        "id": "2hhfyAGyYsKh"
      },
      "execution_count": null,
      "outputs": []
    },
    {
      "cell_type": "markdown",
      "source": [
        "eliminar  registro 840 no corrsponde a los datos"
      ],
      "metadata": {
        "id": "NpacSxURraYB"
      }
    },
    {
      "cell_type": "code",
      "source": [
        "df5.drop([840], axis=0, inplace=True)\n",
        "df5.reset_index(drop=True, inplace=True)"
      ],
      "metadata": {
        "id": "uN5eYWL_g78P"
      },
      "execution_count": null,
      "outputs": []
    },
    {
      "cell_type": "markdown",
      "source": [
        "corregir valores en registros"
      ],
      "metadata": {
        "id": "GFrA6_IqrjUq"
      }
    },
    {
      "cell_type": "code",
      "source": [
        "df5[df5['Año'].str.contains('\\*')].index"
      ],
      "metadata": {
        "id": "z6asdqs6wqGy"
      },
      "execution_count": null,
      "outputs": []
    },
    {
      "cell_type": "code",
      "source": [
        "df5['Año'] = df5['Año'].str.replace('\\*', '')"
      ],
      "metadata": {
        "id": "hNhAsbzXzLyV"
      },
      "execution_count": null,
      "outputs": []
    },
    {
      "cell_type": "code",
      "source": [
        "df5[df5['Trimestre'].str.contains('\\*')].index"
      ],
      "metadata": {
        "id": "keZknKfMn9J9"
      },
      "execution_count": null,
      "outputs": []
    },
    {
      "cell_type": "code",
      "source": [
        "df5['Trimestre'] = df5['Trimestre'].str.replace('\\*', '')"
      ],
      "metadata": {
        "id": "-e-HXPTeokLD"
      },
      "execution_count": null,
      "outputs": []
    },
    {
      "cell_type": "code",
      "source": [
        "df5.Año = df5.Año.astype('int64')\n",
        "df5.Trimestre = df5.Trimestre.astype('int64')"
      ],
      "metadata": {
        "id": "iUGL3RVDnyLA"
      },
      "execution_count": null,
      "outputs": []
    },
    {
      "cell_type": "code",
      "source": [
        "df5.sample(5)"
      ],
      "metadata": {
        "id": "SArb6bePn0qN",
        "colab": {
          "base_uri": "https://localhost:8080/",
          "height": 206
        },
        "outputId": "a6518ac7-872e-486c-b7f5-a1638a33cccd"
      },
      "execution_count": null,
      "outputs": [
        {
          "output_type": "execute_result",
          "data": {
            "text/plain": [
              "      Año  Trimestre   Provincia    ADSL Cablemodem Fibra óptica Wireless  \\\n",
              "748  2014          4      Chubut  48,539        697          891   12,256   \n",
              "498  2017          3    San Luis  11,407      7,576          347       26   \n",
              "9    2022          3       Jujuy  19,257     52,978       40,172    4,033   \n",
              "295  2019          3  Entre Ríos  94,947     96,305       12,888   18,530   \n",
              "223  2020          2  Entre Ríos  89,391     99,423       13,954   20,042   \n",
              "\n",
              "      Otros    Total  \n",
              "748   6,159   68,542  \n",
              "498   2,363   21,719  \n",
              "9     2,383  118,823  \n",
              "295  15,432  238,102  \n",
              "223  11,303  234,113  "
            ],
            "text/html": [
              "\n",
              "  <div id=\"df-bf385bee-3778-469a-b005-f482be2afae6\">\n",
              "    <div class=\"colab-df-container\">\n",
              "      <div>\n",
              "<style scoped>\n",
              "    .dataframe tbody tr th:only-of-type {\n",
              "        vertical-align: middle;\n",
              "    }\n",
              "\n",
              "    .dataframe tbody tr th {\n",
              "        vertical-align: top;\n",
              "    }\n",
              "\n",
              "    .dataframe thead th {\n",
              "        text-align: right;\n",
              "    }\n",
              "</style>\n",
              "<table border=\"1\" class=\"dataframe\">\n",
              "  <thead>\n",
              "    <tr style=\"text-align: right;\">\n",
              "      <th></th>\n",
              "      <th>Año</th>\n",
              "      <th>Trimestre</th>\n",
              "      <th>Provincia</th>\n",
              "      <th>ADSL</th>\n",
              "      <th>Cablemodem</th>\n",
              "      <th>Fibra óptica</th>\n",
              "      <th>Wireless</th>\n",
              "      <th>Otros</th>\n",
              "      <th>Total</th>\n",
              "    </tr>\n",
              "  </thead>\n",
              "  <tbody>\n",
              "    <tr>\n",
              "      <th>748</th>\n",
              "      <td>2014</td>\n",
              "      <td>4</td>\n",
              "      <td>Chubut</td>\n",
              "      <td>48,539</td>\n",
              "      <td>697</td>\n",
              "      <td>891</td>\n",
              "      <td>12,256</td>\n",
              "      <td>6,159</td>\n",
              "      <td>68,542</td>\n",
              "    </tr>\n",
              "    <tr>\n",
              "      <th>498</th>\n",
              "      <td>2017</td>\n",
              "      <td>3</td>\n",
              "      <td>San Luis</td>\n",
              "      <td>11,407</td>\n",
              "      <td>7,576</td>\n",
              "      <td>347</td>\n",
              "      <td>26</td>\n",
              "      <td>2,363</td>\n",
              "      <td>21,719</td>\n",
              "    </tr>\n",
              "    <tr>\n",
              "      <th>9</th>\n",
              "      <td>2022</td>\n",
              "      <td>3</td>\n",
              "      <td>Jujuy</td>\n",
              "      <td>19,257</td>\n",
              "      <td>52,978</td>\n",
              "      <td>40,172</td>\n",
              "      <td>4,033</td>\n",
              "      <td>2,383</td>\n",
              "      <td>118,823</td>\n",
              "    </tr>\n",
              "    <tr>\n",
              "      <th>295</th>\n",
              "      <td>2019</td>\n",
              "      <td>3</td>\n",
              "      <td>Entre Ríos</td>\n",
              "      <td>94,947</td>\n",
              "      <td>96,305</td>\n",
              "      <td>12,888</td>\n",
              "      <td>18,530</td>\n",
              "      <td>15,432</td>\n",
              "      <td>238,102</td>\n",
              "    </tr>\n",
              "    <tr>\n",
              "      <th>223</th>\n",
              "      <td>2020</td>\n",
              "      <td>2</td>\n",
              "      <td>Entre Ríos</td>\n",
              "      <td>89,391</td>\n",
              "      <td>99,423</td>\n",
              "      <td>13,954</td>\n",
              "      <td>20,042</td>\n",
              "      <td>11,303</td>\n",
              "      <td>234,113</td>\n",
              "    </tr>\n",
              "  </tbody>\n",
              "</table>\n",
              "</div>\n",
              "      <button class=\"colab-df-convert\" onclick=\"convertToInteractive('df-bf385bee-3778-469a-b005-f482be2afae6')\"\n",
              "              title=\"Convert this dataframe to an interactive table.\"\n",
              "              style=\"display:none;\">\n",
              "        \n",
              "  <svg xmlns=\"http://www.w3.org/2000/svg\" height=\"24px\"viewBox=\"0 0 24 24\"\n",
              "       width=\"24px\">\n",
              "    <path d=\"M0 0h24v24H0V0z\" fill=\"none\"/>\n",
              "    <path d=\"M18.56 5.44l.94 2.06.94-2.06 2.06-.94-2.06-.94-.94-2.06-.94 2.06-2.06.94zm-11 1L8.5 8.5l.94-2.06 2.06-.94-2.06-.94L8.5 2.5l-.94 2.06-2.06.94zm10 10l.94 2.06.94-2.06 2.06-.94-2.06-.94-.94-2.06-.94 2.06-2.06.94z\"/><path d=\"M17.41 7.96l-1.37-1.37c-.4-.4-.92-.59-1.43-.59-.52 0-1.04.2-1.43.59L10.3 9.45l-7.72 7.72c-.78.78-.78 2.05 0 2.83L4 21.41c.39.39.9.59 1.41.59.51 0 1.02-.2 1.41-.59l7.78-7.78 2.81-2.81c.8-.78.8-2.07 0-2.86zM5.41 20L4 18.59l7.72-7.72 1.47 1.35L5.41 20z\"/>\n",
              "  </svg>\n",
              "      </button>\n",
              "      \n",
              "  <style>\n",
              "    .colab-df-container {\n",
              "      display:flex;\n",
              "      flex-wrap:wrap;\n",
              "      gap: 12px;\n",
              "    }\n",
              "\n",
              "    .colab-df-convert {\n",
              "      background-color: #E8F0FE;\n",
              "      border: none;\n",
              "      border-radius: 50%;\n",
              "      cursor: pointer;\n",
              "      display: none;\n",
              "      fill: #1967D2;\n",
              "      height: 32px;\n",
              "      padding: 0 0 0 0;\n",
              "      width: 32px;\n",
              "    }\n",
              "\n",
              "    .colab-df-convert:hover {\n",
              "      background-color: #E2EBFA;\n",
              "      box-shadow: 0px 1px 2px rgba(60, 64, 67, 0.3), 0px 1px 3px 1px rgba(60, 64, 67, 0.15);\n",
              "      fill: #174EA6;\n",
              "    }\n",
              "\n",
              "    [theme=dark] .colab-df-convert {\n",
              "      background-color: #3B4455;\n",
              "      fill: #D2E3FC;\n",
              "    }\n",
              "\n",
              "    [theme=dark] .colab-df-convert:hover {\n",
              "      background-color: #434B5C;\n",
              "      box-shadow: 0px 1px 3px 1px rgba(0, 0, 0, 0.15);\n",
              "      filter: drop-shadow(0px 1px 2px rgba(0, 0, 0, 0.3));\n",
              "      fill: #FFFFFF;\n",
              "    }\n",
              "  </style>\n",
              "\n",
              "      <script>\n",
              "        const buttonEl =\n",
              "          document.querySelector('#df-bf385bee-3778-469a-b005-f482be2afae6 button.colab-df-convert');\n",
              "        buttonEl.style.display =\n",
              "          google.colab.kernel.accessAllowed ? 'block' : 'none';\n",
              "\n",
              "        async function convertToInteractive(key) {\n",
              "          const element = document.querySelector('#df-bf385bee-3778-469a-b005-f482be2afae6');\n",
              "          const dataTable =\n",
              "            await google.colab.kernel.invokeFunction('convertToInteractive',\n",
              "                                                     [key], {});\n",
              "          if (!dataTable) return;\n",
              "\n",
              "          const docLinkHtml = 'Like what you see? Visit the ' +\n",
              "            '<a target=\"_blank\" href=https://colab.research.google.com/notebooks/data_table.ipynb>data table notebook</a>'\n",
              "            + ' to learn more about interactive tables.';\n",
              "          element.innerHTML = '';\n",
              "          dataTable['output_type'] = 'display_data';\n",
              "          await google.colab.output.renderOutput(dataTable, element);\n",
              "          const docLink = document.createElement('div');\n",
              "          docLink.innerHTML = docLinkHtml;\n",
              "          element.appendChild(docLink);\n",
              "        }\n",
              "      </script>\n",
              "    </div>\n",
              "  </div>\n",
              "  "
            ]
          },
          "metadata": {},
          "execution_count": 42
        }
      ]
    },
    {
      "cell_type": "code",
      "source": [
        "df5.info()"
      ],
      "metadata": {
        "colab": {
          "base_uri": "https://localhost:8080/"
        },
        "outputId": "a6453274-8336-4a32-c38e-aa9cd6c2b471",
        "id": "eRiZX8KjYsKh"
      },
      "execution_count": null,
      "outputs": [
        {
          "output_type": "stream",
          "name": "stdout",
          "text": [
            "<class 'pandas.core.frame.DataFrame'>\n",
            "RangeIndex: 840 entries, 0 to 839\n",
            "Data columns (total 9 columns):\n",
            " #   Column        Non-Null Count  Dtype \n",
            "---  ------        --------------  ----- \n",
            " 0   Año           840 non-null    int64 \n",
            " 1   Trimestre     840 non-null    int64 \n",
            " 2   Provincia     840 non-null    object\n",
            " 3   ADSL          840 non-null    object\n",
            " 4   Cablemodem    840 non-null    object\n",
            " 5   Fibra óptica  840 non-null    object\n",
            " 6   Wireless      840 non-null    object\n",
            " 7   Otros         840 non-null    object\n",
            " 8   Total         840 non-null    object\n",
            "dtypes: int64(2), object(7)\n",
            "memory usage: 59.2+ KB\n"
          ]
        }
      ]
    },
    {
      "cell_type": "markdown",
      "source": [
        "# dataset 6"
      ],
      "metadata": {
        "id": "ueX8RfJdz9cL"
      }
    },
    {
      "cell_type": "code",
      "source": [
        "# html"
      ],
      "metadata": {
        "id": "rKlxPxw50RB8"
      },
      "execution_count": null,
      "outputs": []
    },
    {
      "cell_type": "markdown",
      "source": [
        "Aclaración sobre el cálculo de la velocidad promedio de bajada de Internet fijo en Argentina\n",
        "\n",
        "Hasta el tercer trimestre de 2017 los operadores del servicio de Internet fijo reportaban a ENACOM (antes AFTIC y CNC) el número de accesos entre los siguientes rangos de velocidad:\n",
        "\n",
        "Hasta 512 kbps\n",
        "Entre 512 kbps y 1 Mbps\n",
        "Entre 1 Mbps y 6 Mbps\n",
        "Entre 6 Mbps y 10 Mbps\n",
        "Entre 10 Mbps y 20 Mbps\n",
        "Entre 20 Mbps y 30 Mbps\n",
        "Más de 30 Mbps\n",
        "\n",
        "Con el fin de contar con mejor información del mercado y siguiendo metodologías internacionales de medición desde el cuarto trimestre de 2017 se solicita el número de accesos por Mbps.\n",
        "\n",
        "En consecuencia y ante el desconocimiento exacto de la distribución de los accesos entre los rangos, la velocidad promedio (VP) está calculada usando el punto medio de cada rango como muestra la siguiente fórmula:\n",
        "\n",
        "VP = (0,512*AR1 + 0,7512*AR2 + 3,5*AR3 + 8*AR4 + 15*AR5 + 25*AR6 + 30*AR7)/Total de accesos reportados\n",
        "\n",
        "Donde AR1 es el total de accesos reportados para el primer rango (Hasta 512 kbps); AR2 es el total de accesos reportados para el segundo rango (Entre 512 kbps y 1 Mbps) y así sucesivamente.\n",
        "\n",
        "Desde el cuarto trimestre de 2017, VP se calcula como el promedio de las velocidades unitarias en Mbps ponderadas por el número de accesos reportados para cada velocidad."
      ],
      "metadata": {
        "id": "lvMsKYQ90IG5"
      }
    },
    {
      "cell_type": "markdown",
      "source": [
        "# dataset 7"
      ],
      "metadata": {
        "id": "dGTeyboS0Tgr"
      }
    },
    {
      "cell_type": "markdown",
      "source": [
        "Velocidad Media de bajada de Internet fijo,\n",
        "Serie histórica de la velocidad media de descarga de Internet nacional (trimestral)"
      ],
      "metadata": {
        "id": "7K6MonrAAxAC"
      }
    },
    {
      "cell_type": "code",
      "source": [
        "df7 = pd.read_csv('https://datosabiertos.enacom.gob.ar/rest/datastreams/288059/data.csv')"
      ],
      "metadata": {
        "id": "1bvMKf7b10Em"
      },
      "execution_count": null,
      "outputs": []
    },
    {
      "cell_type": "code",
      "source": [
        "df7.head(5)"
      ],
      "metadata": {
        "id": "xee76XBg0TQE",
        "colab": {
          "base_uri": "https://localhost:8080/",
          "height": 206
        },
        "outputId": "05a565db-0552-4a4e-fce1-d5c99ed01ade"
      },
      "execution_count": null,
      "outputs": [
        {
          "output_type": "execute_result",
          "data": {
            "text/plain": [
              "    Año  Trimestre Mbps (Media de bajada)    Trimestre.1\n",
              "0  2022          3                  62,46  Jul-Sept 2022\n",
              "1  2022          2                  58,44   Abr-Jun 2022\n",
              "2  2022          1                  55,11   Ene-Mar 2022\n",
              "3  2021          4                  52,34   Oct-Dic 2021\n",
              "4  2021          3                  48,46  Jul-Sept 2021"
            ],
            "text/html": [
              "\n",
              "  <div id=\"df-43a023c4-4fae-4e77-a953-5f3c9f8985f0\">\n",
              "    <div class=\"colab-df-container\">\n",
              "      <div>\n",
              "<style scoped>\n",
              "    .dataframe tbody tr th:only-of-type {\n",
              "        vertical-align: middle;\n",
              "    }\n",
              "\n",
              "    .dataframe tbody tr th {\n",
              "        vertical-align: top;\n",
              "    }\n",
              "\n",
              "    .dataframe thead th {\n",
              "        text-align: right;\n",
              "    }\n",
              "</style>\n",
              "<table border=\"1\" class=\"dataframe\">\n",
              "  <thead>\n",
              "    <tr style=\"text-align: right;\">\n",
              "      <th></th>\n",
              "      <th>Año</th>\n",
              "      <th>Trimestre</th>\n",
              "      <th>Mbps (Media de bajada)</th>\n",
              "      <th>Trimestre.1</th>\n",
              "    </tr>\n",
              "  </thead>\n",
              "  <tbody>\n",
              "    <tr>\n",
              "      <th>0</th>\n",
              "      <td>2022</td>\n",
              "      <td>3</td>\n",
              "      <td>62,46</td>\n",
              "      <td>Jul-Sept 2022</td>\n",
              "    </tr>\n",
              "    <tr>\n",
              "      <th>1</th>\n",
              "      <td>2022</td>\n",
              "      <td>2</td>\n",
              "      <td>58,44</td>\n",
              "      <td>Abr-Jun 2022</td>\n",
              "    </tr>\n",
              "    <tr>\n",
              "      <th>2</th>\n",
              "      <td>2022</td>\n",
              "      <td>1</td>\n",
              "      <td>55,11</td>\n",
              "      <td>Ene-Mar 2022</td>\n",
              "    </tr>\n",
              "    <tr>\n",
              "      <th>3</th>\n",
              "      <td>2021</td>\n",
              "      <td>4</td>\n",
              "      <td>52,34</td>\n",
              "      <td>Oct-Dic 2021</td>\n",
              "    </tr>\n",
              "    <tr>\n",
              "      <th>4</th>\n",
              "      <td>2021</td>\n",
              "      <td>3</td>\n",
              "      <td>48,46</td>\n",
              "      <td>Jul-Sept 2021</td>\n",
              "    </tr>\n",
              "  </tbody>\n",
              "</table>\n",
              "</div>\n",
              "      <button class=\"colab-df-convert\" onclick=\"convertToInteractive('df-43a023c4-4fae-4e77-a953-5f3c9f8985f0')\"\n",
              "              title=\"Convert this dataframe to an interactive table.\"\n",
              "              style=\"display:none;\">\n",
              "        \n",
              "  <svg xmlns=\"http://www.w3.org/2000/svg\" height=\"24px\"viewBox=\"0 0 24 24\"\n",
              "       width=\"24px\">\n",
              "    <path d=\"M0 0h24v24H0V0z\" fill=\"none\"/>\n",
              "    <path d=\"M18.56 5.44l.94 2.06.94-2.06 2.06-.94-2.06-.94-.94-2.06-.94 2.06-2.06.94zm-11 1L8.5 8.5l.94-2.06 2.06-.94-2.06-.94L8.5 2.5l-.94 2.06-2.06.94zm10 10l.94 2.06.94-2.06 2.06-.94-2.06-.94-.94-2.06-.94 2.06-2.06.94z\"/><path d=\"M17.41 7.96l-1.37-1.37c-.4-.4-.92-.59-1.43-.59-.52 0-1.04.2-1.43.59L10.3 9.45l-7.72 7.72c-.78.78-.78 2.05 0 2.83L4 21.41c.39.39.9.59 1.41.59.51 0 1.02-.2 1.41-.59l7.78-7.78 2.81-2.81c.8-.78.8-2.07 0-2.86zM5.41 20L4 18.59l7.72-7.72 1.47 1.35L5.41 20z\"/>\n",
              "  </svg>\n",
              "      </button>\n",
              "      \n",
              "  <style>\n",
              "    .colab-df-container {\n",
              "      display:flex;\n",
              "      flex-wrap:wrap;\n",
              "      gap: 12px;\n",
              "    }\n",
              "\n",
              "    .colab-df-convert {\n",
              "      background-color: #E8F0FE;\n",
              "      border: none;\n",
              "      border-radius: 50%;\n",
              "      cursor: pointer;\n",
              "      display: none;\n",
              "      fill: #1967D2;\n",
              "      height: 32px;\n",
              "      padding: 0 0 0 0;\n",
              "      width: 32px;\n",
              "    }\n",
              "\n",
              "    .colab-df-convert:hover {\n",
              "      background-color: #E2EBFA;\n",
              "      box-shadow: 0px 1px 2px rgba(60, 64, 67, 0.3), 0px 1px 3px 1px rgba(60, 64, 67, 0.15);\n",
              "      fill: #174EA6;\n",
              "    }\n",
              "\n",
              "    [theme=dark] .colab-df-convert {\n",
              "      background-color: #3B4455;\n",
              "      fill: #D2E3FC;\n",
              "    }\n",
              "\n",
              "    [theme=dark] .colab-df-convert:hover {\n",
              "      background-color: #434B5C;\n",
              "      box-shadow: 0px 1px 3px 1px rgba(0, 0, 0, 0.15);\n",
              "      filter: drop-shadow(0px 1px 2px rgba(0, 0, 0, 0.3));\n",
              "      fill: #FFFFFF;\n",
              "    }\n",
              "  </style>\n",
              "\n",
              "      <script>\n",
              "        const buttonEl =\n",
              "          document.querySelector('#df-43a023c4-4fae-4e77-a953-5f3c9f8985f0 button.colab-df-convert');\n",
              "        buttonEl.style.display =\n",
              "          google.colab.kernel.accessAllowed ? 'block' : 'none';\n",
              "\n",
              "        async function convertToInteractive(key) {\n",
              "          const element = document.querySelector('#df-43a023c4-4fae-4e77-a953-5f3c9f8985f0');\n",
              "          const dataTable =\n",
              "            await google.colab.kernel.invokeFunction('convertToInteractive',\n",
              "                                                     [key], {});\n",
              "          if (!dataTable) return;\n",
              "\n",
              "          const docLinkHtml = 'Like what you see? Visit the ' +\n",
              "            '<a target=\"_blank\" href=https://colab.research.google.com/notebooks/data_table.ipynb>data table notebook</a>'\n",
              "            + ' to learn more about interactive tables.';\n",
              "          element.innerHTML = '';\n",
              "          dataTable['output_type'] = 'display_data';\n",
              "          await google.colab.output.renderOutput(dataTable, element);\n",
              "          const docLink = document.createElement('div');\n",
              "          docLink.innerHTML = docLinkHtml;\n",
              "          element.appendChild(docLink);\n",
              "        }\n",
              "      </script>\n",
              "    </div>\n",
              "  </div>\n",
              "  "
            ]
          },
          "metadata": {},
          "execution_count": 45
        }
      ]
    },
    {
      "cell_type": "code",
      "source": [
        "df7.info()"
      ],
      "metadata": {
        "colab": {
          "base_uri": "https://localhost:8080/"
        },
        "id": "CO7oK0Ja19QR",
        "outputId": "ff6bbdf6-55de-4ac4-b8dc-cf41c56d75b6"
      },
      "execution_count": null,
      "outputs": [
        {
          "output_type": "stream",
          "name": "stdout",
          "text": [
            "<class 'pandas.core.frame.DataFrame'>\n",
            "RangeIndex: 35 entries, 0 to 34\n",
            "Data columns (total 4 columns):\n",
            " #   Column                  Non-Null Count  Dtype \n",
            "---  ------                  --------------  ----- \n",
            " 0   Año                     35 non-null     int64 \n",
            " 1   Trimestre               35 non-null     int64 \n",
            " 2   Mbps (Media de bajada)  35 non-null     object\n",
            " 3   Trimestre.1             35 non-null     object\n",
            "dtypes: int64(2), object(2)\n",
            "memory usage: 1.2+ KB\n"
          ]
        }
      ]
    },
    {
      "cell_type": "markdown",
      "source": [
        "# dataset 8"
      ],
      "metadata": {
        "id": "8BQ5-k5A2NJB"
      }
    },
    {
      "cell_type": "markdown",
      "source": [
        "Velocidad media de bajada de Internet fijo por provincia,\n",
        "Serie histórica de la velocidad media de descarga de Internet por provincia (trimestral)"
      ],
      "metadata": {
        "id": "LeqZuHLUA4LD"
      }
    },
    {
      "cell_type": "code",
      "source": [
        "URlAPI = 'http://api.datosabiertos.enacom.gob.ar/api/v2/'\n",
        "docType = 'datastreams/'\n",
        "guid = 'VELOC-PROME-DE-BAJAD-DE/'\n",
        "formatRes = 'data.ajson/'\n",
        "URlRequest = URlAPI + docType + guid + formatRes\n",
        "authKey = 'kPiA1Tds8eE6ov8kG0tQWZYW4B0AXfuTDKO5nk5f'\n",
        "paramReq = {'auth_key': authKey}"
      ],
      "metadata": {
        "id": "Dg0-T-2U2M5e"
      },
      "execution_count": null,
      "outputs": []
    },
    {
      "cell_type": "code",
      "source": [
        "response = requests.get(URlRequest, params=paramReq)"
      ],
      "metadata": {
        "id": "APik5HXU2Zem"
      },
      "execution_count": null,
      "outputs": []
    },
    {
      "cell_type": "code",
      "source": [
        "data = response.json()"
      ],
      "metadata": {
        "id": "OZ7Wr7bz2Zen"
      },
      "execution_count": null,
      "outputs": []
    },
    {
      "cell_type": "code",
      "source": [
        "df8 = pd.DataFrame(data['result'][1:], columns= data['result'][0])"
      ],
      "metadata": {
        "id": "vmYQ2d5V2Zen"
      },
      "execution_count": null,
      "outputs": []
    },
    {
      "cell_type": "markdown",
      "source": [
        "Eliminar columnas con todos datos vacios"
      ],
      "metadata": {
        "id": "7ZiW7xKD3k4M"
      }
    },
    {
      "cell_type": "code",
      "source": [
        "df8.drop([''], axis=1, inplace=True)"
      ],
      "metadata": {
        "id": "00_dbcuH3kN1"
      },
      "execution_count": null,
      "outputs": []
    },
    {
      "cell_type": "code",
      "source": [
        "df8.Año = df8.Año.astype('int64')\n",
        "df8.Trimestre = df8.Trimestre.astype('int64')"
      ],
      "metadata": {
        "id": "lQH0mdQXBB0n"
      },
      "execution_count": null,
      "outputs": []
    },
    {
      "cell_type": "code",
      "source": [
        "df8.head(5)"
      ],
      "metadata": {
        "id": "3Ap_9D2s2e1w",
        "colab": {
          "base_uri": "https://localhost:8080/",
          "height": 206
        },
        "outputId": "7aad308d-40b5-4f4a-cf53-8298d242b67f"
      },
      "execution_count": null,
      "outputs": [
        {
          "output_type": "execute_result",
          "data": {
            "text/plain": [
              "    Año  Trimestre        Provincia Mbps (Media de bajada)\n",
              "0  2022          3     Buenos Aires                  70.19\n",
              "1  2022          3  Capital Federal                 101.05\n",
              "2  2022          3        Catamarca                  60.99\n",
              "3  2022          3            Chaco                  53.21\n",
              "4  2022          3           Chubut                  15.57"
            ],
            "text/html": [
              "\n",
              "  <div id=\"df-48ba748b-a0a9-4142-8c3f-5c8d41ec71f0\">\n",
              "    <div class=\"colab-df-container\">\n",
              "      <div>\n",
              "<style scoped>\n",
              "    .dataframe tbody tr th:only-of-type {\n",
              "        vertical-align: middle;\n",
              "    }\n",
              "\n",
              "    .dataframe tbody tr th {\n",
              "        vertical-align: top;\n",
              "    }\n",
              "\n",
              "    .dataframe thead th {\n",
              "        text-align: right;\n",
              "    }\n",
              "</style>\n",
              "<table border=\"1\" class=\"dataframe\">\n",
              "  <thead>\n",
              "    <tr style=\"text-align: right;\">\n",
              "      <th></th>\n",
              "      <th>Año</th>\n",
              "      <th>Trimestre</th>\n",
              "      <th>Provincia</th>\n",
              "      <th>Mbps (Media de bajada)</th>\n",
              "    </tr>\n",
              "  </thead>\n",
              "  <tbody>\n",
              "    <tr>\n",
              "      <th>0</th>\n",
              "      <td>2022</td>\n",
              "      <td>3</td>\n",
              "      <td>Buenos Aires</td>\n",
              "      <td>70.19</td>\n",
              "    </tr>\n",
              "    <tr>\n",
              "      <th>1</th>\n",
              "      <td>2022</td>\n",
              "      <td>3</td>\n",
              "      <td>Capital Federal</td>\n",
              "      <td>101.05</td>\n",
              "    </tr>\n",
              "    <tr>\n",
              "      <th>2</th>\n",
              "      <td>2022</td>\n",
              "      <td>3</td>\n",
              "      <td>Catamarca</td>\n",
              "      <td>60.99</td>\n",
              "    </tr>\n",
              "    <tr>\n",
              "      <th>3</th>\n",
              "      <td>2022</td>\n",
              "      <td>3</td>\n",
              "      <td>Chaco</td>\n",
              "      <td>53.21</td>\n",
              "    </tr>\n",
              "    <tr>\n",
              "      <th>4</th>\n",
              "      <td>2022</td>\n",
              "      <td>3</td>\n",
              "      <td>Chubut</td>\n",
              "      <td>15.57</td>\n",
              "    </tr>\n",
              "  </tbody>\n",
              "</table>\n",
              "</div>\n",
              "      <button class=\"colab-df-convert\" onclick=\"convertToInteractive('df-48ba748b-a0a9-4142-8c3f-5c8d41ec71f0')\"\n",
              "              title=\"Convert this dataframe to an interactive table.\"\n",
              "              style=\"display:none;\">\n",
              "        \n",
              "  <svg xmlns=\"http://www.w3.org/2000/svg\" height=\"24px\"viewBox=\"0 0 24 24\"\n",
              "       width=\"24px\">\n",
              "    <path d=\"M0 0h24v24H0V0z\" fill=\"none\"/>\n",
              "    <path d=\"M18.56 5.44l.94 2.06.94-2.06 2.06-.94-2.06-.94-.94-2.06-.94 2.06-2.06.94zm-11 1L8.5 8.5l.94-2.06 2.06-.94-2.06-.94L8.5 2.5l-.94 2.06-2.06.94zm10 10l.94 2.06.94-2.06 2.06-.94-2.06-.94-.94-2.06-.94 2.06-2.06.94z\"/><path d=\"M17.41 7.96l-1.37-1.37c-.4-.4-.92-.59-1.43-.59-.52 0-1.04.2-1.43.59L10.3 9.45l-7.72 7.72c-.78.78-.78 2.05 0 2.83L4 21.41c.39.39.9.59 1.41.59.51 0 1.02-.2 1.41-.59l7.78-7.78 2.81-2.81c.8-.78.8-2.07 0-2.86zM5.41 20L4 18.59l7.72-7.72 1.47 1.35L5.41 20z\"/>\n",
              "  </svg>\n",
              "      </button>\n",
              "      \n",
              "  <style>\n",
              "    .colab-df-container {\n",
              "      display:flex;\n",
              "      flex-wrap:wrap;\n",
              "      gap: 12px;\n",
              "    }\n",
              "\n",
              "    .colab-df-convert {\n",
              "      background-color: #E8F0FE;\n",
              "      border: none;\n",
              "      border-radius: 50%;\n",
              "      cursor: pointer;\n",
              "      display: none;\n",
              "      fill: #1967D2;\n",
              "      height: 32px;\n",
              "      padding: 0 0 0 0;\n",
              "      width: 32px;\n",
              "    }\n",
              "\n",
              "    .colab-df-convert:hover {\n",
              "      background-color: #E2EBFA;\n",
              "      box-shadow: 0px 1px 2px rgba(60, 64, 67, 0.3), 0px 1px 3px 1px rgba(60, 64, 67, 0.15);\n",
              "      fill: #174EA6;\n",
              "    }\n",
              "\n",
              "    [theme=dark] .colab-df-convert {\n",
              "      background-color: #3B4455;\n",
              "      fill: #D2E3FC;\n",
              "    }\n",
              "\n",
              "    [theme=dark] .colab-df-convert:hover {\n",
              "      background-color: #434B5C;\n",
              "      box-shadow: 0px 1px 3px 1px rgba(0, 0, 0, 0.15);\n",
              "      filter: drop-shadow(0px 1px 2px rgba(0, 0, 0, 0.3));\n",
              "      fill: #FFFFFF;\n",
              "    }\n",
              "  </style>\n",
              "\n",
              "      <script>\n",
              "        const buttonEl =\n",
              "          document.querySelector('#df-48ba748b-a0a9-4142-8c3f-5c8d41ec71f0 button.colab-df-convert');\n",
              "        buttonEl.style.display =\n",
              "          google.colab.kernel.accessAllowed ? 'block' : 'none';\n",
              "\n",
              "        async function convertToInteractive(key) {\n",
              "          const element = document.querySelector('#df-48ba748b-a0a9-4142-8c3f-5c8d41ec71f0');\n",
              "          const dataTable =\n",
              "            await google.colab.kernel.invokeFunction('convertToInteractive',\n",
              "                                                     [key], {});\n",
              "          if (!dataTable) return;\n",
              "\n",
              "          const docLinkHtml = 'Like what you see? Visit the ' +\n",
              "            '<a target=\"_blank\" href=https://colab.research.google.com/notebooks/data_table.ipynb>data table notebook</a>'\n",
              "            + ' to learn more about interactive tables.';\n",
              "          element.innerHTML = '';\n",
              "          dataTable['output_type'] = 'display_data';\n",
              "          await google.colab.output.renderOutput(dataTable, element);\n",
              "          const docLink = document.createElement('div');\n",
              "          docLink.innerHTML = docLinkHtml;\n",
              "          element.appendChild(docLink);\n",
              "        }\n",
              "      </script>\n",
              "    </div>\n",
              "  </div>\n",
              "  "
            ]
          },
          "metadata": {},
          "execution_count": 53
        }
      ]
    },
    {
      "cell_type": "code",
      "source": [
        "df8.info()"
      ],
      "metadata": {
        "colab": {
          "base_uri": "https://localhost:8080/"
        },
        "id": "W3t7FQ8-2lfm",
        "outputId": "af1b29a0-76ff-47ab-f7c6-dd303cd5d72d"
      },
      "execution_count": null,
      "outputs": [
        {
          "output_type": "stream",
          "name": "stdout",
          "text": [
            "<class 'pandas.core.frame.DataFrame'>\n",
            "RangeIndex: 840 entries, 0 to 839\n",
            "Data columns (total 4 columns):\n",
            " #   Column                  Non-Null Count  Dtype \n",
            "---  ------                  --------------  ----- \n",
            " 0   Año                     840 non-null    int64 \n",
            " 1   Trimestre               840 non-null    int64 \n",
            " 2   Provincia               840 non-null    object\n",
            " 3   Mbps (Media de bajada)  840 non-null    object\n",
            "dtypes: int64(2), object(2)\n",
            "memory usage: 26.4+ KB\n"
          ]
        }
      ]
    },
    {
      "cell_type": "markdown",
      "source": [
        "# dataset 9"
      ],
      "metadata": {
        "id": "DBuG7S4D44Ys"
      }
    },
    {
      "cell_type": "markdown",
      "source": [
        "Distribución de los accesos totales nacionales a Internet fijo por velocidad,\n",
        "Distribución de los accesos totales nacionales a Internet fijo por velocidad de bajada (último trimestre disponible)"
      ],
      "metadata": {
        "id": "nSyplc19BMAm"
      }
    },
    {
      "cell_type": "code",
      "source": [
        "df9 = pd.read_csv('https://datosabiertos.enacom.gob.ar/rest/datastreams/280921/data.csv')"
      ],
      "metadata": {
        "id": "9t8OvmIy5HRG"
      },
      "execution_count": null,
      "outputs": []
    },
    {
      "cell_type": "markdown",
      "source": [
        "eliminar columna todos los datos nan"
      ],
      "metadata": {
        "id": "7aIdXzV75Y3d"
      }
    },
    {
      "cell_type": "code",
      "source": [
        "df9.drop(['Unnamed: 11'], axis=1, inplace=True)"
      ],
      "metadata": {
        "id": "XuQ5Lsei5b8q"
      },
      "execution_count": null,
      "outputs": []
    },
    {
      "cell_type": "code",
      "source": [
        "df9.head(5)"
      ],
      "metadata": {
        "id": "LmnKRELv5HRH",
        "colab": {
          "base_uri": "https://localhost:8080/",
          "height": 268
        },
        "outputId": "9b685b79-f836-4d06-ce2e-a7026a58b49d"
      },
      "execution_count": null,
      "outputs": [
        {
          "output_type": "execute_result",
          "data": {
            "text/plain": [
              "    Año  Trimestre  Hasta 512 kbps  Entre 512 Kbps y 1 Mbps  \\\n",
              "0  2022          3          33.013                   96.727   \n",
              "1  2022          2          33.667                   99.498   \n",
              "2  2022          1          34.890                  104.840   \n",
              "3  2021          4          41.262                   28.521   \n",
              "4  2021          3          40.174                   41.437   \n",
              "\n",
              "  Entre 1 Mbps y 6 Mbps Entre 6 Mbps y 10 Mbps Entre 10 Mbps y 20 Mbps  \\\n",
              "0             1.161.370              1.151.906                 823.505   \n",
              "1             1.193.090              1.197.030                 856.562   \n",
              "2             1.263.273              1.209.148                 967.508   \n",
              "3             1.413.208              1.245.333                 976.539   \n",
              "4             2.550.229              1.095.772                 710.122   \n",
              "\n",
              "  Entre 20 Mbps y 30 Mbps Más de 30 Mbps    OTROS       Total  \n",
              "0                 479.822      6.995.750  349.035  11.091.128  \n",
              "1                 485.321      6.741.922  351.594  10.958.684  \n",
              "2                 509.830      6.336.187  198.333  10.624.009  \n",
              "3                 558.358      6.032.322  194.251  10.489.794  \n",
              "4                 536.364      4.948.174  163.269  10.085.541  "
            ],
            "text/html": [
              "\n",
              "  <div id=\"df-1ee3a869-1630-4da1-85db-a3a79e064716\">\n",
              "    <div class=\"colab-df-container\">\n",
              "      <div>\n",
              "<style scoped>\n",
              "    .dataframe tbody tr th:only-of-type {\n",
              "        vertical-align: middle;\n",
              "    }\n",
              "\n",
              "    .dataframe tbody tr th {\n",
              "        vertical-align: top;\n",
              "    }\n",
              "\n",
              "    .dataframe thead th {\n",
              "        text-align: right;\n",
              "    }\n",
              "</style>\n",
              "<table border=\"1\" class=\"dataframe\">\n",
              "  <thead>\n",
              "    <tr style=\"text-align: right;\">\n",
              "      <th></th>\n",
              "      <th>Año</th>\n",
              "      <th>Trimestre</th>\n",
              "      <th>Hasta 512 kbps</th>\n",
              "      <th>Entre 512 Kbps y 1 Mbps</th>\n",
              "      <th>Entre 1 Mbps y 6 Mbps</th>\n",
              "      <th>Entre 6 Mbps y 10 Mbps</th>\n",
              "      <th>Entre 10 Mbps y 20 Mbps</th>\n",
              "      <th>Entre 20 Mbps y 30 Mbps</th>\n",
              "      <th>Más de 30 Mbps</th>\n",
              "      <th>OTROS</th>\n",
              "      <th>Total</th>\n",
              "    </tr>\n",
              "  </thead>\n",
              "  <tbody>\n",
              "    <tr>\n",
              "      <th>0</th>\n",
              "      <td>2022</td>\n",
              "      <td>3</td>\n",
              "      <td>33.013</td>\n",
              "      <td>96.727</td>\n",
              "      <td>1.161.370</td>\n",
              "      <td>1.151.906</td>\n",
              "      <td>823.505</td>\n",
              "      <td>479.822</td>\n",
              "      <td>6.995.750</td>\n",
              "      <td>349.035</td>\n",
              "      <td>11.091.128</td>\n",
              "    </tr>\n",
              "    <tr>\n",
              "      <th>1</th>\n",
              "      <td>2022</td>\n",
              "      <td>2</td>\n",
              "      <td>33.667</td>\n",
              "      <td>99.498</td>\n",
              "      <td>1.193.090</td>\n",
              "      <td>1.197.030</td>\n",
              "      <td>856.562</td>\n",
              "      <td>485.321</td>\n",
              "      <td>6.741.922</td>\n",
              "      <td>351.594</td>\n",
              "      <td>10.958.684</td>\n",
              "    </tr>\n",
              "    <tr>\n",
              "      <th>2</th>\n",
              "      <td>2022</td>\n",
              "      <td>1</td>\n",
              "      <td>34.890</td>\n",
              "      <td>104.840</td>\n",
              "      <td>1.263.273</td>\n",
              "      <td>1.209.148</td>\n",
              "      <td>967.508</td>\n",
              "      <td>509.830</td>\n",
              "      <td>6.336.187</td>\n",
              "      <td>198.333</td>\n",
              "      <td>10.624.009</td>\n",
              "    </tr>\n",
              "    <tr>\n",
              "      <th>3</th>\n",
              "      <td>2021</td>\n",
              "      <td>4</td>\n",
              "      <td>41.262</td>\n",
              "      <td>28.521</td>\n",
              "      <td>1.413.208</td>\n",
              "      <td>1.245.333</td>\n",
              "      <td>976.539</td>\n",
              "      <td>558.358</td>\n",
              "      <td>6.032.322</td>\n",
              "      <td>194.251</td>\n",
              "      <td>10.489.794</td>\n",
              "    </tr>\n",
              "    <tr>\n",
              "      <th>4</th>\n",
              "      <td>2021</td>\n",
              "      <td>3</td>\n",
              "      <td>40.174</td>\n",
              "      <td>41.437</td>\n",
              "      <td>2.550.229</td>\n",
              "      <td>1.095.772</td>\n",
              "      <td>710.122</td>\n",
              "      <td>536.364</td>\n",
              "      <td>4.948.174</td>\n",
              "      <td>163.269</td>\n",
              "      <td>10.085.541</td>\n",
              "    </tr>\n",
              "  </tbody>\n",
              "</table>\n",
              "</div>\n",
              "      <button class=\"colab-df-convert\" onclick=\"convertToInteractive('df-1ee3a869-1630-4da1-85db-a3a79e064716')\"\n",
              "              title=\"Convert this dataframe to an interactive table.\"\n",
              "              style=\"display:none;\">\n",
              "        \n",
              "  <svg xmlns=\"http://www.w3.org/2000/svg\" height=\"24px\"viewBox=\"0 0 24 24\"\n",
              "       width=\"24px\">\n",
              "    <path d=\"M0 0h24v24H0V0z\" fill=\"none\"/>\n",
              "    <path d=\"M18.56 5.44l.94 2.06.94-2.06 2.06-.94-2.06-.94-.94-2.06-.94 2.06-2.06.94zm-11 1L8.5 8.5l.94-2.06 2.06-.94-2.06-.94L8.5 2.5l-.94 2.06-2.06.94zm10 10l.94 2.06.94-2.06 2.06-.94-2.06-.94-.94-2.06-.94 2.06-2.06.94z\"/><path d=\"M17.41 7.96l-1.37-1.37c-.4-.4-.92-.59-1.43-.59-.52 0-1.04.2-1.43.59L10.3 9.45l-7.72 7.72c-.78.78-.78 2.05 0 2.83L4 21.41c.39.39.9.59 1.41.59.51 0 1.02-.2 1.41-.59l7.78-7.78 2.81-2.81c.8-.78.8-2.07 0-2.86zM5.41 20L4 18.59l7.72-7.72 1.47 1.35L5.41 20z\"/>\n",
              "  </svg>\n",
              "      </button>\n",
              "      \n",
              "  <style>\n",
              "    .colab-df-container {\n",
              "      display:flex;\n",
              "      flex-wrap:wrap;\n",
              "      gap: 12px;\n",
              "    }\n",
              "\n",
              "    .colab-df-convert {\n",
              "      background-color: #E8F0FE;\n",
              "      border: none;\n",
              "      border-radius: 50%;\n",
              "      cursor: pointer;\n",
              "      display: none;\n",
              "      fill: #1967D2;\n",
              "      height: 32px;\n",
              "      padding: 0 0 0 0;\n",
              "      width: 32px;\n",
              "    }\n",
              "\n",
              "    .colab-df-convert:hover {\n",
              "      background-color: #E2EBFA;\n",
              "      box-shadow: 0px 1px 2px rgba(60, 64, 67, 0.3), 0px 1px 3px 1px rgba(60, 64, 67, 0.15);\n",
              "      fill: #174EA6;\n",
              "    }\n",
              "\n",
              "    [theme=dark] .colab-df-convert {\n",
              "      background-color: #3B4455;\n",
              "      fill: #D2E3FC;\n",
              "    }\n",
              "\n",
              "    [theme=dark] .colab-df-convert:hover {\n",
              "      background-color: #434B5C;\n",
              "      box-shadow: 0px 1px 3px 1px rgba(0, 0, 0, 0.15);\n",
              "      filter: drop-shadow(0px 1px 2px rgba(0, 0, 0, 0.3));\n",
              "      fill: #FFFFFF;\n",
              "    }\n",
              "  </style>\n",
              "\n",
              "      <script>\n",
              "        const buttonEl =\n",
              "          document.querySelector('#df-1ee3a869-1630-4da1-85db-a3a79e064716 button.colab-df-convert');\n",
              "        buttonEl.style.display =\n",
              "          google.colab.kernel.accessAllowed ? 'block' : 'none';\n",
              "\n",
              "        async function convertToInteractive(key) {\n",
              "          const element = document.querySelector('#df-1ee3a869-1630-4da1-85db-a3a79e064716');\n",
              "          const dataTable =\n",
              "            await google.colab.kernel.invokeFunction('convertToInteractive',\n",
              "                                                     [key], {});\n",
              "          if (!dataTable) return;\n",
              "\n",
              "          const docLinkHtml = 'Like what you see? Visit the ' +\n",
              "            '<a target=\"_blank\" href=https://colab.research.google.com/notebooks/data_table.ipynb>data table notebook</a>'\n",
              "            + ' to learn more about interactive tables.';\n",
              "          element.innerHTML = '';\n",
              "          dataTable['output_type'] = 'display_data';\n",
              "          await google.colab.output.renderOutput(dataTable, element);\n",
              "          const docLink = document.createElement('div');\n",
              "          docLink.innerHTML = docLinkHtml;\n",
              "          element.appendChild(docLink);\n",
              "        }\n",
              "      </script>\n",
              "    </div>\n",
              "  </div>\n",
              "  "
            ]
          },
          "metadata": {},
          "execution_count": 57
        }
      ]
    },
    {
      "cell_type": "code",
      "source": [
        "df9.info()"
      ],
      "metadata": {
        "colab": {
          "base_uri": "https://localhost:8080/"
        },
        "outputId": "997c7cc7-c635-48a4-fa76-04f91e364bea",
        "id": "sZYmdOkA5HRI"
      },
      "execution_count": null,
      "outputs": [
        {
          "output_type": "stream",
          "name": "stdout",
          "text": [
            "<class 'pandas.core.frame.DataFrame'>\n",
            "RangeIndex: 35 entries, 0 to 34\n",
            "Data columns (total 11 columns):\n",
            " #   Column                   Non-Null Count  Dtype  \n",
            "---  ------                   --------------  -----  \n",
            " 0   Año                      35 non-null     int64  \n",
            " 1   Trimestre                35 non-null     int64  \n",
            " 2   Hasta 512 kbps           35 non-null     float64\n",
            " 3   Entre 512 Kbps y 1 Mbps  35 non-null     float64\n",
            " 4   Entre 1 Mbps y 6 Mbps    35 non-null     object \n",
            " 5   Entre 6 Mbps y 10 Mbps   35 non-null     object \n",
            " 6   Entre 10 Mbps y 20 Mbps  35 non-null     object \n",
            " 7   Entre 20 Mbps y 30 Mbps  35 non-null     object \n",
            " 8   Más de 30 Mbps           35 non-null     object \n",
            " 9   OTROS                    35 non-null     float64\n",
            " 10  Total                    35 non-null     object \n",
            "dtypes: float64(3), int64(2), object(6)\n",
            "memory usage: 3.1+ KB\n"
          ]
        }
      ]
    },
    {
      "cell_type": "markdown",
      "source": [
        "# dataset 10"
      ],
      "metadata": {
        "id": "D6PkBC3k5iwf"
      }
    },
    {
      "cell_type": "markdown",
      "source": [
        "Acceso a Internet Fijo por rangos de velocidad de bajada y provincia,\n",
        "Número de accesos al servicio de Internet fijo por velocidad de bajada en cada provincia (trimestral)"
      ],
      "metadata": {
        "id": "dvVSxTz5BUh9"
      }
    },
    {
      "cell_type": "code",
      "source": [
        "URlAPI = 'http://api.datosabiertos.enacom.gob.ar/api/v2/'\n",
        "docType = 'datastreams/'\n",
        "guid = 'ACCES-A-INTER-FIJO-23248/'\n",
        "formatRes = 'data.ajson/'\n",
        "URlRequest = URlAPI + docType + guid + formatRes\n",
        "authKey = 'kPiA1Tds8eE6ov8kG0tQWZYW4B0AXfuTDKO5nk5f'\n",
        "paramReq = {'auth_key': authKey}"
      ],
      "metadata": {
        "id": "eewUQYFc5rOM"
      },
      "execution_count": null,
      "outputs": []
    },
    {
      "cell_type": "code",
      "source": [
        "response = requests.get(URlRequest, params=paramReq)"
      ],
      "metadata": {
        "id": "RI6bS5l15rON"
      },
      "execution_count": null,
      "outputs": []
    },
    {
      "cell_type": "code",
      "source": [
        "data = response.json()"
      ],
      "metadata": {
        "id": "9K_77oTt5rOO"
      },
      "execution_count": null,
      "outputs": []
    },
    {
      "cell_type": "code",
      "source": [
        "df10 = pd.DataFrame(data['result'][1:], columns= data['result'][0])"
      ],
      "metadata": {
        "id": "B6cwWT545rOO"
      },
      "execution_count": null,
      "outputs": []
    },
    {
      "cell_type": "code",
      "source": [
        "df10.Año = df10.Año.astype('int64')\n",
        "df10.Trimestre = df10.Trimestre.astype('int64')"
      ],
      "metadata": {
        "id": "Xo40KSdyBbgR"
      },
      "execution_count": null,
      "outputs": []
    },
    {
      "cell_type": "code",
      "source": [
        "df10.head(5)"
      ],
      "metadata": {
        "id": "U6zIetjU5rOO",
        "colab": {
          "base_uri": "https://localhost:8080/",
          "height": 285
        },
        "outputId": "daa70c9e-3bfa-4c94-cebb-8ea27326c643"
      },
      "execution_count": null,
      "outputs": [
        {
          "output_type": "execute_result",
          "data": {
            "text/plain": [
              "    Año  Trimestre        Provincia HASTA 512 kbps + 512 Kbps - 1 Mbps  \\\n",
              "0  2022          3     Buenos Aires         29,985              27,709   \n",
              "1  2022          3  Capital Federal            517               5,742   \n",
              "2  2022          3        Catamarca             71                 384   \n",
              "3  2022          3            Chaco            461                 987   \n",
              "4  2022          3           Chubut            109               1,444   \n",
              "\n",
              "  + 1 Mbps - 6 Mbps + 6 Mbps - 10 Mbps + 10 Mbps - 20 Mbps  \\\n",
              "0           290,315            297,915             267,044   \n",
              "1            34,371             67,829              51,946   \n",
              "2             3,107              5,389               5,099   \n",
              "3            16,782             18,938               8,049   \n",
              "4            45,707             30,940              34,682   \n",
              "\n",
              "  + 20 Mbps - 30 Mbps  + 30 Mbps    OTROS      Total  \n",
              "0             124,190  3,618,689   65,821  4,721,668  \n",
              "1              28,692  1,253,105  105,477  1,547,679  \n",
              "2               3,737     50,298    2,208     70,293  \n",
              "3              15,828     79,390    3,711    144,146  \n",
              "4              15,309     17,563   20,024    165,778  "
            ],
            "text/html": [
              "\n",
              "  <div id=\"df-6bafff5e-8be1-4cab-9c25-eea62c3a3c22\">\n",
              "    <div class=\"colab-df-container\">\n",
              "      <div>\n",
              "<style scoped>\n",
              "    .dataframe tbody tr th:only-of-type {\n",
              "        vertical-align: middle;\n",
              "    }\n",
              "\n",
              "    .dataframe tbody tr th {\n",
              "        vertical-align: top;\n",
              "    }\n",
              "\n",
              "    .dataframe thead th {\n",
              "        text-align: right;\n",
              "    }\n",
              "</style>\n",
              "<table border=\"1\" class=\"dataframe\">\n",
              "  <thead>\n",
              "    <tr style=\"text-align: right;\">\n",
              "      <th></th>\n",
              "      <th>Año</th>\n",
              "      <th>Trimestre</th>\n",
              "      <th>Provincia</th>\n",
              "      <th>HASTA 512 kbps</th>\n",
              "      <th>+ 512 Kbps - 1 Mbps</th>\n",
              "      <th>+ 1 Mbps - 6 Mbps</th>\n",
              "      <th>+ 6 Mbps - 10 Mbps</th>\n",
              "      <th>+ 10 Mbps - 20 Mbps</th>\n",
              "      <th>+ 20 Mbps - 30 Mbps</th>\n",
              "      <th>+ 30 Mbps</th>\n",
              "      <th>OTROS</th>\n",
              "      <th>Total</th>\n",
              "    </tr>\n",
              "  </thead>\n",
              "  <tbody>\n",
              "    <tr>\n",
              "      <th>0</th>\n",
              "      <td>2022</td>\n",
              "      <td>3</td>\n",
              "      <td>Buenos Aires</td>\n",
              "      <td>29,985</td>\n",
              "      <td>27,709</td>\n",
              "      <td>290,315</td>\n",
              "      <td>297,915</td>\n",
              "      <td>267,044</td>\n",
              "      <td>124,190</td>\n",
              "      <td>3,618,689</td>\n",
              "      <td>65,821</td>\n",
              "      <td>4,721,668</td>\n",
              "    </tr>\n",
              "    <tr>\n",
              "      <th>1</th>\n",
              "      <td>2022</td>\n",
              "      <td>3</td>\n",
              "      <td>Capital Federal</td>\n",
              "      <td>517</td>\n",
              "      <td>5,742</td>\n",
              "      <td>34,371</td>\n",
              "      <td>67,829</td>\n",
              "      <td>51,946</td>\n",
              "      <td>28,692</td>\n",
              "      <td>1,253,105</td>\n",
              "      <td>105,477</td>\n",
              "      <td>1,547,679</td>\n",
              "    </tr>\n",
              "    <tr>\n",
              "      <th>2</th>\n",
              "      <td>2022</td>\n",
              "      <td>3</td>\n",
              "      <td>Catamarca</td>\n",
              "      <td>71</td>\n",
              "      <td>384</td>\n",
              "      <td>3,107</td>\n",
              "      <td>5,389</td>\n",
              "      <td>5,099</td>\n",
              "      <td>3,737</td>\n",
              "      <td>50,298</td>\n",
              "      <td>2,208</td>\n",
              "      <td>70,293</td>\n",
              "    </tr>\n",
              "    <tr>\n",
              "      <th>3</th>\n",
              "      <td>2022</td>\n",
              "      <td>3</td>\n",
              "      <td>Chaco</td>\n",
              "      <td>461</td>\n",
              "      <td>987</td>\n",
              "      <td>16,782</td>\n",
              "      <td>18,938</td>\n",
              "      <td>8,049</td>\n",
              "      <td>15,828</td>\n",
              "      <td>79,390</td>\n",
              "      <td>3,711</td>\n",
              "      <td>144,146</td>\n",
              "    </tr>\n",
              "    <tr>\n",
              "      <th>4</th>\n",
              "      <td>2022</td>\n",
              "      <td>3</td>\n",
              "      <td>Chubut</td>\n",
              "      <td>109</td>\n",
              "      <td>1,444</td>\n",
              "      <td>45,707</td>\n",
              "      <td>30,940</td>\n",
              "      <td>34,682</td>\n",
              "      <td>15,309</td>\n",
              "      <td>17,563</td>\n",
              "      <td>20,024</td>\n",
              "      <td>165,778</td>\n",
              "    </tr>\n",
              "  </tbody>\n",
              "</table>\n",
              "</div>\n",
              "      <button class=\"colab-df-convert\" onclick=\"convertToInteractive('df-6bafff5e-8be1-4cab-9c25-eea62c3a3c22')\"\n",
              "              title=\"Convert this dataframe to an interactive table.\"\n",
              "              style=\"display:none;\">\n",
              "        \n",
              "  <svg xmlns=\"http://www.w3.org/2000/svg\" height=\"24px\"viewBox=\"0 0 24 24\"\n",
              "       width=\"24px\">\n",
              "    <path d=\"M0 0h24v24H0V0z\" fill=\"none\"/>\n",
              "    <path d=\"M18.56 5.44l.94 2.06.94-2.06 2.06-.94-2.06-.94-.94-2.06-.94 2.06-2.06.94zm-11 1L8.5 8.5l.94-2.06 2.06-.94-2.06-.94L8.5 2.5l-.94 2.06-2.06.94zm10 10l.94 2.06.94-2.06 2.06-.94-2.06-.94-.94-2.06-.94 2.06-2.06.94z\"/><path d=\"M17.41 7.96l-1.37-1.37c-.4-.4-.92-.59-1.43-.59-.52 0-1.04.2-1.43.59L10.3 9.45l-7.72 7.72c-.78.78-.78 2.05 0 2.83L4 21.41c.39.39.9.59 1.41.59.51 0 1.02-.2 1.41-.59l7.78-7.78 2.81-2.81c.8-.78.8-2.07 0-2.86zM5.41 20L4 18.59l7.72-7.72 1.47 1.35L5.41 20z\"/>\n",
              "  </svg>\n",
              "      </button>\n",
              "      \n",
              "  <style>\n",
              "    .colab-df-container {\n",
              "      display:flex;\n",
              "      flex-wrap:wrap;\n",
              "      gap: 12px;\n",
              "    }\n",
              "\n",
              "    .colab-df-convert {\n",
              "      background-color: #E8F0FE;\n",
              "      border: none;\n",
              "      border-radius: 50%;\n",
              "      cursor: pointer;\n",
              "      display: none;\n",
              "      fill: #1967D2;\n",
              "      height: 32px;\n",
              "      padding: 0 0 0 0;\n",
              "      width: 32px;\n",
              "    }\n",
              "\n",
              "    .colab-df-convert:hover {\n",
              "      background-color: #E2EBFA;\n",
              "      box-shadow: 0px 1px 2px rgba(60, 64, 67, 0.3), 0px 1px 3px 1px rgba(60, 64, 67, 0.15);\n",
              "      fill: #174EA6;\n",
              "    }\n",
              "\n",
              "    [theme=dark] .colab-df-convert {\n",
              "      background-color: #3B4455;\n",
              "      fill: #D2E3FC;\n",
              "    }\n",
              "\n",
              "    [theme=dark] .colab-df-convert:hover {\n",
              "      background-color: #434B5C;\n",
              "      box-shadow: 0px 1px 3px 1px rgba(0, 0, 0, 0.15);\n",
              "      filter: drop-shadow(0px 1px 2px rgba(0, 0, 0, 0.3));\n",
              "      fill: #FFFFFF;\n",
              "    }\n",
              "  </style>\n",
              "\n",
              "      <script>\n",
              "        const buttonEl =\n",
              "          document.querySelector('#df-6bafff5e-8be1-4cab-9c25-eea62c3a3c22 button.colab-df-convert');\n",
              "        buttonEl.style.display =\n",
              "          google.colab.kernel.accessAllowed ? 'block' : 'none';\n",
              "\n",
              "        async function convertToInteractive(key) {\n",
              "          const element = document.querySelector('#df-6bafff5e-8be1-4cab-9c25-eea62c3a3c22');\n",
              "          const dataTable =\n",
              "            await google.colab.kernel.invokeFunction('convertToInteractive',\n",
              "                                                     [key], {});\n",
              "          if (!dataTable) return;\n",
              "\n",
              "          const docLinkHtml = 'Like what you see? Visit the ' +\n",
              "            '<a target=\"_blank\" href=https://colab.research.google.com/notebooks/data_table.ipynb>data table notebook</a>'\n",
              "            + ' to learn more about interactive tables.';\n",
              "          element.innerHTML = '';\n",
              "          dataTable['output_type'] = 'display_data';\n",
              "          await google.colab.output.renderOutput(dataTable, element);\n",
              "          const docLink = document.createElement('div');\n",
              "          docLink.innerHTML = docLinkHtml;\n",
              "          element.appendChild(docLink);\n",
              "        }\n",
              "      </script>\n",
              "    </div>\n",
              "  </div>\n",
              "  "
            ]
          },
          "metadata": {},
          "execution_count": 64
        }
      ]
    },
    {
      "cell_type": "code",
      "source": [
        "df10.info()"
      ],
      "metadata": {
        "colab": {
          "base_uri": "https://localhost:8080/"
        },
        "outputId": "1c659061-35a3-4e9d-d9bd-f4236f702434",
        "id": "BSzr0QCH5rOP"
      },
      "execution_count": null,
      "outputs": [
        {
          "output_type": "stream",
          "name": "stdout",
          "text": [
            "<class 'pandas.core.frame.DataFrame'>\n",
            "RangeIndex: 840 entries, 0 to 839\n",
            "Data columns (total 12 columns):\n",
            " #   Column               Non-Null Count  Dtype \n",
            "---  ------               --------------  ----- \n",
            " 0   Año                  840 non-null    int64 \n",
            " 1   Trimestre            840 non-null    int64 \n",
            " 2   Provincia            840 non-null    object\n",
            " 3   HASTA 512 kbps       840 non-null    object\n",
            " 4   + 512 Kbps - 1 Mbps  840 non-null    object\n",
            " 5   + 1 Mbps - 6 Mbps    840 non-null    object\n",
            " 6   + 6 Mbps - 10 Mbps   840 non-null    object\n",
            " 7   + 10 Mbps - 20 Mbps  840 non-null    object\n",
            " 8   + 20 Mbps - 30 Mbps  840 non-null    object\n",
            " 9   + 30 Mbps            840 non-null    object\n",
            " 10  OTROS                840 non-null    object\n",
            " 11  Total                840 non-null    object\n",
            "dtypes: int64(2), object(10)\n",
            "memory usage: 78.9+ KB\n"
          ]
        }
      ]
    },
    {
      "cell_type": "markdown",
      "source": [
        "# dataset 11x"
      ],
      "metadata": {
        "id": "zSf7w2Z46Mc6"
      }
    },
    {
      "cell_type": "markdown",
      "source": [
        "shape(481,97) poco relevante info resumida en dataset 10"
      ],
      "metadata": {
        "id": "Hrx3tKun75d0"
      }
    },
    {
      "cell_type": "markdown",
      "source": [
        "Accesos a Internet fijo por velocidad bajada y provincia,\n",
        "Número de accesos al servicio de Internet fijo por velocidad de bajada en cada provincia"
      ],
      "metadata": {
        "id": "gU0H8_S1BsMB"
      }
    },
    {
      "cell_type": "code",
      "source": [
        "URlAPI = 'http://api.datosabiertos.enacom.gob.ar/api/v2/'\n",
        "docType = 'datastreams/'\n",
        "guid = 'ACCES-A-INTER-FIJO-97624/'\n",
        "formatRes = 'data.ajson/'\n",
        "URlRequest = URlAPI + docType + guid + formatRes\n",
        "authKey = 'kPiA1Tds8eE6ov8kG0tQWZYW4B0AXfuTDKO5nk5f'\n",
        "paramReq = {'auth_key': authKey}"
      ],
      "metadata": {
        "id": "Uc7JGQDq6WqR"
      },
      "execution_count": null,
      "outputs": []
    },
    {
      "cell_type": "code",
      "source": [
        "response = requests.get(URlRequest, params=paramReq)"
      ],
      "metadata": {
        "id": "ov9nvDOu6Wqh"
      },
      "execution_count": null,
      "outputs": []
    },
    {
      "cell_type": "code",
      "source": [
        "data = response.json()"
      ],
      "metadata": {
        "id": "ZNxtdmpd6Wqi"
      },
      "execution_count": null,
      "outputs": []
    },
    {
      "cell_type": "code",
      "source": [
        "df11 = pd.DataFrame(data['result'][1:], columns= data['result'][0])"
      ],
      "metadata": {
        "id": "p5BQEY_L6Wqi"
      },
      "execution_count": null,
      "outputs": []
    },
    {
      "cell_type": "code",
      "source": [
        "df11.head(5)"
      ],
      "metadata": {
        "id": "c7JJg6hi6Wqi",
        "colab": {
          "base_uri": "https://localhost:8080/",
          "height": 332
        },
        "outputId": "9e0b493d-d5fb-42da-f29f-3f96c6b8f8b9"
      },
      "execution_count": null,
      "outputs": [
        {
          "output_type": "execute_result",
          "data": {
            "text/plain": [
              "    Año Trimestre        Provincia    Otros 0,256 Mbps 0,375 Mbps 0,625 Mbps  \\\n",
              "0  2022         3     Buenos Aires   65,821         19        - 0        - 0   \n",
              "1  2022         3  Capital Federal  105,477         31        - 0        - 0   \n",
              "2  2022         3        Catamarca    2,208        - 0        - 0        - 0   \n",
              "3  2022         3            Chaco    3,711        - 0        225        111   \n",
              "4  2022         3           Chubut   20,024          8        - 0        - 0   \n",
              "\n",
              "  0,5 Mbps 0,512 Mbps 0,75 Mbps  ... 70 Mbps 71 Mbps 75 Mbps 77 Mbps 78 Mbps  \\\n",
              "0   29,774        192     4,611  ...   3,163     - 0  98,387     - 0       2   \n",
              "1      451         35     1,307  ...       3     - 0  30,482     - 0     - 0   \n",
              "2       34         37       - 0  ...     - 0     - 0     - 0     - 0     - 0   \n",
              "3      234          2       - 0  ...     - 0     - 0     - 0     - 0     - 0   \n",
              "4       69         32       836  ...     - 0     - 0     - 0     - 0     - 0   \n",
              "\n",
              "  80 Mbps 81 Mbps 83 Mbps 82 Mbps 86 Mbps  \n",
              "0     223     - 0       1     - 0     - 0  \n",
              "1       8     - 0     - 0     - 0     - 0  \n",
              "2     - 0     - 0     - 0     - 0     - 0  \n",
              "3     - 0     - 0     - 0     - 0     - 0  \n",
              "4     - 0     - 0     - 0     - 0     - 0  \n",
              "\n",
              "[5 rows x 97 columns]"
            ],
            "text/html": [
              "\n",
              "  <div id=\"df-299e6a4f-c3b0-4705-8cd8-d9ccef3a97c2\">\n",
              "    <div class=\"colab-df-container\">\n",
              "      <div>\n",
              "<style scoped>\n",
              "    .dataframe tbody tr th:only-of-type {\n",
              "        vertical-align: middle;\n",
              "    }\n",
              "\n",
              "    .dataframe tbody tr th {\n",
              "        vertical-align: top;\n",
              "    }\n",
              "\n",
              "    .dataframe thead th {\n",
              "        text-align: right;\n",
              "    }\n",
              "</style>\n",
              "<table border=\"1\" class=\"dataframe\">\n",
              "  <thead>\n",
              "    <tr style=\"text-align: right;\">\n",
              "      <th></th>\n",
              "      <th>Año</th>\n",
              "      <th>Trimestre</th>\n",
              "      <th>Provincia</th>\n",
              "      <th>Otros</th>\n",
              "      <th>0,256 Mbps</th>\n",
              "      <th>0,375 Mbps</th>\n",
              "      <th>0,625 Mbps</th>\n",
              "      <th>0,5 Mbps</th>\n",
              "      <th>0,512 Mbps</th>\n",
              "      <th>0,75 Mbps</th>\n",
              "      <th>...</th>\n",
              "      <th>70 Mbps</th>\n",
              "      <th>71 Mbps</th>\n",
              "      <th>75 Mbps</th>\n",
              "      <th>77 Mbps</th>\n",
              "      <th>78 Mbps</th>\n",
              "      <th>80 Mbps</th>\n",
              "      <th>81 Mbps</th>\n",
              "      <th>83 Mbps</th>\n",
              "      <th>82 Mbps</th>\n",
              "      <th>86 Mbps</th>\n",
              "    </tr>\n",
              "  </thead>\n",
              "  <tbody>\n",
              "    <tr>\n",
              "      <th>0</th>\n",
              "      <td>2022</td>\n",
              "      <td>3</td>\n",
              "      <td>Buenos Aires</td>\n",
              "      <td>65,821</td>\n",
              "      <td>19</td>\n",
              "      <td>- 0</td>\n",
              "      <td>- 0</td>\n",
              "      <td>29,774</td>\n",
              "      <td>192</td>\n",
              "      <td>4,611</td>\n",
              "      <td>...</td>\n",
              "      <td>3,163</td>\n",
              "      <td>- 0</td>\n",
              "      <td>98,387</td>\n",
              "      <td>- 0</td>\n",
              "      <td>2</td>\n",
              "      <td>223</td>\n",
              "      <td>- 0</td>\n",
              "      <td>1</td>\n",
              "      <td>- 0</td>\n",
              "      <td>- 0</td>\n",
              "    </tr>\n",
              "    <tr>\n",
              "      <th>1</th>\n",
              "      <td>2022</td>\n",
              "      <td>3</td>\n",
              "      <td>Capital Federal</td>\n",
              "      <td>105,477</td>\n",
              "      <td>31</td>\n",
              "      <td>- 0</td>\n",
              "      <td>- 0</td>\n",
              "      <td>451</td>\n",
              "      <td>35</td>\n",
              "      <td>1,307</td>\n",
              "      <td>...</td>\n",
              "      <td>3</td>\n",
              "      <td>- 0</td>\n",
              "      <td>30,482</td>\n",
              "      <td>- 0</td>\n",
              "      <td>- 0</td>\n",
              "      <td>8</td>\n",
              "      <td>- 0</td>\n",
              "      <td>- 0</td>\n",
              "      <td>- 0</td>\n",
              "      <td>- 0</td>\n",
              "    </tr>\n",
              "    <tr>\n",
              "      <th>2</th>\n",
              "      <td>2022</td>\n",
              "      <td>3</td>\n",
              "      <td>Catamarca</td>\n",
              "      <td>2,208</td>\n",
              "      <td>- 0</td>\n",
              "      <td>- 0</td>\n",
              "      <td>- 0</td>\n",
              "      <td>34</td>\n",
              "      <td>37</td>\n",
              "      <td>- 0</td>\n",
              "      <td>...</td>\n",
              "      <td>- 0</td>\n",
              "      <td>- 0</td>\n",
              "      <td>- 0</td>\n",
              "      <td>- 0</td>\n",
              "      <td>- 0</td>\n",
              "      <td>- 0</td>\n",
              "      <td>- 0</td>\n",
              "      <td>- 0</td>\n",
              "      <td>- 0</td>\n",
              "      <td>- 0</td>\n",
              "    </tr>\n",
              "    <tr>\n",
              "      <th>3</th>\n",
              "      <td>2022</td>\n",
              "      <td>3</td>\n",
              "      <td>Chaco</td>\n",
              "      <td>3,711</td>\n",
              "      <td>- 0</td>\n",
              "      <td>225</td>\n",
              "      <td>111</td>\n",
              "      <td>234</td>\n",
              "      <td>2</td>\n",
              "      <td>- 0</td>\n",
              "      <td>...</td>\n",
              "      <td>- 0</td>\n",
              "      <td>- 0</td>\n",
              "      <td>- 0</td>\n",
              "      <td>- 0</td>\n",
              "      <td>- 0</td>\n",
              "      <td>- 0</td>\n",
              "      <td>- 0</td>\n",
              "      <td>- 0</td>\n",
              "      <td>- 0</td>\n",
              "      <td>- 0</td>\n",
              "    </tr>\n",
              "    <tr>\n",
              "      <th>4</th>\n",
              "      <td>2022</td>\n",
              "      <td>3</td>\n",
              "      <td>Chubut</td>\n",
              "      <td>20,024</td>\n",
              "      <td>8</td>\n",
              "      <td>- 0</td>\n",
              "      <td>- 0</td>\n",
              "      <td>69</td>\n",
              "      <td>32</td>\n",
              "      <td>836</td>\n",
              "      <td>...</td>\n",
              "      <td>- 0</td>\n",
              "      <td>- 0</td>\n",
              "      <td>- 0</td>\n",
              "      <td>- 0</td>\n",
              "      <td>- 0</td>\n",
              "      <td>- 0</td>\n",
              "      <td>- 0</td>\n",
              "      <td>- 0</td>\n",
              "      <td>- 0</td>\n",
              "      <td>- 0</td>\n",
              "    </tr>\n",
              "  </tbody>\n",
              "</table>\n",
              "<p>5 rows × 97 columns</p>\n",
              "</div>\n",
              "      <button class=\"colab-df-convert\" onclick=\"convertToInteractive('df-299e6a4f-c3b0-4705-8cd8-d9ccef3a97c2')\"\n",
              "              title=\"Convert this dataframe to an interactive table.\"\n",
              "              style=\"display:none;\">\n",
              "        \n",
              "  <svg xmlns=\"http://www.w3.org/2000/svg\" height=\"24px\"viewBox=\"0 0 24 24\"\n",
              "       width=\"24px\">\n",
              "    <path d=\"M0 0h24v24H0V0z\" fill=\"none\"/>\n",
              "    <path d=\"M18.56 5.44l.94 2.06.94-2.06 2.06-.94-2.06-.94-.94-2.06-.94 2.06-2.06.94zm-11 1L8.5 8.5l.94-2.06 2.06-.94-2.06-.94L8.5 2.5l-.94 2.06-2.06.94zm10 10l.94 2.06.94-2.06 2.06-.94-2.06-.94-.94-2.06-.94 2.06-2.06.94z\"/><path d=\"M17.41 7.96l-1.37-1.37c-.4-.4-.92-.59-1.43-.59-.52 0-1.04.2-1.43.59L10.3 9.45l-7.72 7.72c-.78.78-.78 2.05 0 2.83L4 21.41c.39.39.9.59 1.41.59.51 0 1.02-.2 1.41-.59l7.78-7.78 2.81-2.81c.8-.78.8-2.07 0-2.86zM5.41 20L4 18.59l7.72-7.72 1.47 1.35L5.41 20z\"/>\n",
              "  </svg>\n",
              "      </button>\n",
              "      \n",
              "  <style>\n",
              "    .colab-df-container {\n",
              "      display:flex;\n",
              "      flex-wrap:wrap;\n",
              "      gap: 12px;\n",
              "    }\n",
              "\n",
              "    .colab-df-convert {\n",
              "      background-color: #E8F0FE;\n",
              "      border: none;\n",
              "      border-radius: 50%;\n",
              "      cursor: pointer;\n",
              "      display: none;\n",
              "      fill: #1967D2;\n",
              "      height: 32px;\n",
              "      padding: 0 0 0 0;\n",
              "      width: 32px;\n",
              "    }\n",
              "\n",
              "    .colab-df-convert:hover {\n",
              "      background-color: #E2EBFA;\n",
              "      box-shadow: 0px 1px 2px rgba(60, 64, 67, 0.3), 0px 1px 3px 1px rgba(60, 64, 67, 0.15);\n",
              "      fill: #174EA6;\n",
              "    }\n",
              "\n",
              "    [theme=dark] .colab-df-convert {\n",
              "      background-color: #3B4455;\n",
              "      fill: #D2E3FC;\n",
              "    }\n",
              "\n",
              "    [theme=dark] .colab-df-convert:hover {\n",
              "      background-color: #434B5C;\n",
              "      box-shadow: 0px 1px 3px 1px rgba(0, 0, 0, 0.15);\n",
              "      filter: drop-shadow(0px 1px 2px rgba(0, 0, 0, 0.3));\n",
              "      fill: #FFFFFF;\n",
              "    }\n",
              "  </style>\n",
              "\n",
              "      <script>\n",
              "        const buttonEl =\n",
              "          document.querySelector('#df-299e6a4f-c3b0-4705-8cd8-d9ccef3a97c2 button.colab-df-convert');\n",
              "        buttonEl.style.display =\n",
              "          google.colab.kernel.accessAllowed ? 'block' : 'none';\n",
              "\n",
              "        async function convertToInteractive(key) {\n",
              "          const element = document.querySelector('#df-299e6a4f-c3b0-4705-8cd8-d9ccef3a97c2');\n",
              "          const dataTable =\n",
              "            await google.colab.kernel.invokeFunction('convertToInteractive',\n",
              "                                                     [key], {});\n",
              "          if (!dataTable) return;\n",
              "\n",
              "          const docLinkHtml = 'Like what you see? Visit the ' +\n",
              "            '<a target=\"_blank\" href=https://colab.research.google.com/notebooks/data_table.ipynb>data table notebook</a>'\n",
              "            + ' to learn more about interactive tables.';\n",
              "          element.innerHTML = '';\n",
              "          dataTable['output_type'] = 'display_data';\n",
              "          await google.colab.output.renderOutput(dataTable, element);\n",
              "          const docLink = document.createElement('div');\n",
              "          docLink.innerHTML = docLinkHtml;\n",
              "          element.appendChild(docLink);\n",
              "        }\n",
              "      </script>\n",
              "    </div>\n",
              "  </div>\n",
              "  "
            ]
          },
          "metadata": {},
          "execution_count": 70
        }
      ]
    },
    {
      "cell_type": "code",
      "source": [
        "df11.info()"
      ],
      "metadata": {
        "id": "7XNaMFmO6Wqj",
        "colab": {
          "base_uri": "https://localhost:8080/"
        },
        "outputId": "91de23ba-27b7-444d-ecb4-f60b0239445d"
      },
      "execution_count": null,
      "outputs": [
        {
          "output_type": "stream",
          "name": "stdout",
          "text": [
            "<class 'pandas.core.frame.DataFrame'>\n",
            "RangeIndex: 481 entries, 0 to 480\n",
            "Data columns (total 97 columns):\n",
            " #   Column      Non-Null Count  Dtype \n",
            "---  ------      --------------  ----- \n",
            " 0   Año         481 non-null    object\n",
            " 1   Trimestre   481 non-null    object\n",
            " 2   Provincia   481 non-null    object\n",
            " 3   Otros       481 non-null    object\n",
            " 4   0,256 Mbps  481 non-null    object\n",
            " 5   0,375 Mbps  481 non-null    object\n",
            " 6   0,625 Mbps  481 non-null    object\n",
            " 7   0,5 Mbps    481 non-null    object\n",
            " 8   0,512 Mbps  481 non-null    object\n",
            " 9   0,75 Mbps   481 non-null    object\n",
            " 10  1 Mbps      481 non-null    object\n",
            " 11  1,2 Mbps    481 non-null    object\n",
            " 12  1,25 Mbps   481 non-null    object\n",
            " 13  1,5 Mbps    481 non-null    object\n",
            " 14  2 Mbps      481 non-null    object\n",
            " 15  2,2 Mbps    481 non-null    object\n",
            " 16  2,5 Mbps    481 non-null    object\n",
            " 17  6,7 Mbps    481 non-null    object\n",
            " 18  3 Mbps      481 non-null    object\n",
            " 19  3,2 Mbps    481 non-null    object\n",
            " 20  3,3 Mbps    481 non-null    object\n",
            " 21  3,5 Mbps    481 non-null    object\n",
            " 22  4 Mbps      481 non-null    object\n",
            " 23  4,5 Mbps    481 non-null    object\n",
            " 24  5 Mbps      481 non-null    object\n",
            " 25  6 Mbps      481 non-null    object\n",
            " 26  6,4 Mbps    481 non-null    object\n",
            " 27  7 Mbps      481 non-null    object\n",
            " 28  7,5 Mbps    481 non-null    object\n",
            " 29  8 Mbps      481 non-null    object\n",
            " 30  9 Mbps      481 non-null    object\n",
            " 31  10 Mbps     481 non-null    object\n",
            " 32  10,6 Mbps   481 non-null    object\n",
            " 33  11 Mbps     481 non-null    object\n",
            " 34  12 Mbps     481 non-null    object\n",
            " 35  13 Mbps     481 non-null    object\n",
            " 36  14 Mbps     481 non-null    object\n",
            " 37  15 Mbps     481 non-null    object\n",
            " 38  16 Mbps     481 non-null    object\n",
            " 39  17 Mbps     481 non-null    object\n",
            " 40  18 Mbps     481 non-null    object\n",
            " 41  19 Mbps     481 non-null    object\n",
            " 42  20 Mbps     481 non-null    object\n",
            " 43  21 Mbps     481 non-null    object\n",
            " 44  22 Mbps     481 non-null    object\n",
            " 45  23 Mbps     481 non-null    object\n",
            " 46  24 Mbps     481 non-null    object\n",
            " 47  25 Mbps     481 non-null    object\n",
            " 48  25,1 Mbps   481 non-null    object\n",
            " 49  25,11 Mbps  481 non-null    object\n",
            " 50  25,5 Mbps   481 non-null    object\n",
            " 51  26 Mbps     481 non-null    object\n",
            " 52  28 Mbps     481 non-null    object\n",
            " 53  29 Mbps     481 non-null    object\n",
            " 54  30 Mbps     481 non-null    object\n",
            " 55  31 Mbps     481 non-null    object\n",
            " 56  32 Mbps     481 non-null    object\n",
            " 57  34 Mbps     481 non-null    object\n",
            " 58  35 Mbps     481 non-null    object\n",
            " 59  36 Mbps     481 non-null    object\n",
            " 60  37 Mbps     481 non-null    object\n",
            " 61  38 Mbps     481 non-null    object\n",
            " 62  39 Mbps     481 non-null    object\n",
            " 63  40 Mbps     481 non-null    object\n",
            " 64  41 Mbps     481 non-null    object\n",
            " 65  45 Mbps     481 non-null    object\n",
            " 66  46 Mbps     481 non-null    object\n",
            " 67  47 Mbps     481 non-null    object\n",
            " 68  48 Mbps     481 non-null    object\n",
            " 69  49 Mbps     481 non-null    object\n",
            " 70  50 Mbps     481 non-null    object\n",
            " 71  51 Mbps     481 non-null    object\n",
            " 72  52 Mbps     481 non-null    object\n",
            " 73  54 Mbps     481 non-null    object\n",
            " 74  55 Mbps     481 non-null    object\n",
            " 75  56 Mbps     481 non-null    object\n",
            " 76  58 Mbps     481 non-null    object\n",
            " 77  59 Mbps     481 non-null    object\n",
            " 78  60 Mbps     481 non-null    object\n",
            " 79  61 Mbps     481 non-null    object\n",
            " 80  62 Mbps     481 non-null    object\n",
            " 81  63 Mbps     481 non-null    object\n",
            " 82  64 Mbps     481 non-null    object\n",
            " 83  65 Mbps     481 non-null    object\n",
            " 84  66 Mbps     481 non-null    object\n",
            " 85  67 Mbps     481 non-null    object\n",
            " 86  68 Mbps     481 non-null    object\n",
            " 87  70 Mbps     481 non-null    object\n",
            " 88  71 Mbps     481 non-null    object\n",
            " 89  75 Mbps     481 non-null    object\n",
            " 90  77 Mbps     481 non-null    object\n",
            " 91  78 Mbps     481 non-null    object\n",
            " 92  80 Mbps     481 non-null    object\n",
            " 93  81 Mbps     481 non-null    object\n",
            " 94  83 Mbps     481 non-null    object\n",
            " 95  82 Mbps     481 non-null    object\n",
            " 96  86 Mbps     481 non-null    object\n",
            "dtypes: object(97)\n",
            "memory usage: 364.6+ KB\n"
          ]
        }
      ]
    },
    {
      "cell_type": "markdown",
      "source": [
        "# dataset 12"
      ],
      "metadata": {
        "id": "4JQIbg_d8HCA"
      }
    },
    {
      "cell_type": "markdown",
      "source": [
        "Ingresos trimestrales por la prestación del servicio de Internet fijo,\n",
        "Ingresos trimestrales de los operadores por el servicio de Internet fijo"
      ],
      "metadata": {
        "id": "2gfaAsPvB6rB"
      }
    },
    {
      "cell_type": "code",
      "source": [
        "df12 = pd.read_csv('https://datosabiertos.enacom.gob.ar/rest/datastreams/275023/data.csv')"
      ],
      "metadata": {
        "id": "3zZJfDE-8SI7"
      },
      "execution_count": null,
      "outputs": []
    },
    {
      "cell_type": "code",
      "source": [
        "df12.head(5)"
      ],
      "metadata": {
        "id": "cSJAx8xJ8SI8",
        "colab": {
          "base_uri": "https://localhost:8080/",
          "height": 206
        },
        "outputId": "0e4cc010-bd14-43f0-d92b-dd5556f7d488"
      },
      "execution_count": null,
      "outputs": [
        {
          "output_type": "execute_result",
          "data": {
            "text/plain": [
              "    Año  Trimestre Ingresos (miles de pesos)        Periodo\n",
              "0  2022          3                67.055.930  Jul-Sept 2022\n",
              "1  2022          2                60.335.724   Abr-Jun 2022\n",
              "2  2022          1                55.589.997   Ene-Mar 2022\n",
              "3  2021          4                45.467.887   Oct-Dic 2021\n",
              "4  2021          3                42.999.944  Jul-Sept 2021"
            ],
            "text/html": [
              "\n",
              "  <div id=\"df-299db570-d4a4-4d47-88c6-bb4b57425f09\">\n",
              "    <div class=\"colab-df-container\">\n",
              "      <div>\n",
              "<style scoped>\n",
              "    .dataframe tbody tr th:only-of-type {\n",
              "        vertical-align: middle;\n",
              "    }\n",
              "\n",
              "    .dataframe tbody tr th {\n",
              "        vertical-align: top;\n",
              "    }\n",
              "\n",
              "    .dataframe thead th {\n",
              "        text-align: right;\n",
              "    }\n",
              "</style>\n",
              "<table border=\"1\" class=\"dataframe\">\n",
              "  <thead>\n",
              "    <tr style=\"text-align: right;\">\n",
              "      <th></th>\n",
              "      <th>Año</th>\n",
              "      <th>Trimestre</th>\n",
              "      <th>Ingresos (miles de pesos)</th>\n",
              "      <th>Periodo</th>\n",
              "    </tr>\n",
              "  </thead>\n",
              "  <tbody>\n",
              "    <tr>\n",
              "      <th>0</th>\n",
              "      <td>2022</td>\n",
              "      <td>3</td>\n",
              "      <td>67.055.930</td>\n",
              "      <td>Jul-Sept 2022</td>\n",
              "    </tr>\n",
              "    <tr>\n",
              "      <th>1</th>\n",
              "      <td>2022</td>\n",
              "      <td>2</td>\n",
              "      <td>60.335.724</td>\n",
              "      <td>Abr-Jun 2022</td>\n",
              "    </tr>\n",
              "    <tr>\n",
              "      <th>2</th>\n",
              "      <td>2022</td>\n",
              "      <td>1</td>\n",
              "      <td>55.589.997</td>\n",
              "      <td>Ene-Mar 2022</td>\n",
              "    </tr>\n",
              "    <tr>\n",
              "      <th>3</th>\n",
              "      <td>2021</td>\n",
              "      <td>4</td>\n",
              "      <td>45.467.887</td>\n",
              "      <td>Oct-Dic 2021</td>\n",
              "    </tr>\n",
              "    <tr>\n",
              "      <th>4</th>\n",
              "      <td>2021</td>\n",
              "      <td>3</td>\n",
              "      <td>42.999.944</td>\n",
              "      <td>Jul-Sept 2021</td>\n",
              "    </tr>\n",
              "  </tbody>\n",
              "</table>\n",
              "</div>\n",
              "      <button class=\"colab-df-convert\" onclick=\"convertToInteractive('df-299db570-d4a4-4d47-88c6-bb4b57425f09')\"\n",
              "              title=\"Convert this dataframe to an interactive table.\"\n",
              "              style=\"display:none;\">\n",
              "        \n",
              "  <svg xmlns=\"http://www.w3.org/2000/svg\" height=\"24px\"viewBox=\"0 0 24 24\"\n",
              "       width=\"24px\">\n",
              "    <path d=\"M0 0h24v24H0V0z\" fill=\"none\"/>\n",
              "    <path d=\"M18.56 5.44l.94 2.06.94-2.06 2.06-.94-2.06-.94-.94-2.06-.94 2.06-2.06.94zm-11 1L8.5 8.5l.94-2.06 2.06-.94-2.06-.94L8.5 2.5l-.94 2.06-2.06.94zm10 10l.94 2.06.94-2.06 2.06-.94-2.06-.94-.94-2.06-.94 2.06-2.06.94z\"/><path d=\"M17.41 7.96l-1.37-1.37c-.4-.4-.92-.59-1.43-.59-.52 0-1.04.2-1.43.59L10.3 9.45l-7.72 7.72c-.78.78-.78 2.05 0 2.83L4 21.41c.39.39.9.59 1.41.59.51 0 1.02-.2 1.41-.59l7.78-7.78 2.81-2.81c.8-.78.8-2.07 0-2.86zM5.41 20L4 18.59l7.72-7.72 1.47 1.35L5.41 20z\"/>\n",
              "  </svg>\n",
              "      </button>\n",
              "      \n",
              "  <style>\n",
              "    .colab-df-container {\n",
              "      display:flex;\n",
              "      flex-wrap:wrap;\n",
              "      gap: 12px;\n",
              "    }\n",
              "\n",
              "    .colab-df-convert {\n",
              "      background-color: #E8F0FE;\n",
              "      border: none;\n",
              "      border-radius: 50%;\n",
              "      cursor: pointer;\n",
              "      display: none;\n",
              "      fill: #1967D2;\n",
              "      height: 32px;\n",
              "      padding: 0 0 0 0;\n",
              "      width: 32px;\n",
              "    }\n",
              "\n",
              "    .colab-df-convert:hover {\n",
              "      background-color: #E2EBFA;\n",
              "      box-shadow: 0px 1px 2px rgba(60, 64, 67, 0.3), 0px 1px 3px 1px rgba(60, 64, 67, 0.15);\n",
              "      fill: #174EA6;\n",
              "    }\n",
              "\n",
              "    [theme=dark] .colab-df-convert {\n",
              "      background-color: #3B4455;\n",
              "      fill: #D2E3FC;\n",
              "    }\n",
              "\n",
              "    [theme=dark] .colab-df-convert:hover {\n",
              "      background-color: #434B5C;\n",
              "      box-shadow: 0px 1px 3px 1px rgba(0, 0, 0, 0.15);\n",
              "      filter: drop-shadow(0px 1px 2px rgba(0, 0, 0, 0.3));\n",
              "      fill: #FFFFFF;\n",
              "    }\n",
              "  </style>\n",
              "\n",
              "      <script>\n",
              "        const buttonEl =\n",
              "          document.querySelector('#df-299db570-d4a4-4d47-88c6-bb4b57425f09 button.colab-df-convert');\n",
              "        buttonEl.style.display =\n",
              "          google.colab.kernel.accessAllowed ? 'block' : 'none';\n",
              "\n",
              "        async function convertToInteractive(key) {\n",
              "          const element = document.querySelector('#df-299db570-d4a4-4d47-88c6-bb4b57425f09');\n",
              "          const dataTable =\n",
              "            await google.colab.kernel.invokeFunction('convertToInteractive',\n",
              "                                                     [key], {});\n",
              "          if (!dataTable) return;\n",
              "\n",
              "          const docLinkHtml = 'Like what you see? Visit the ' +\n",
              "            '<a target=\"_blank\" href=https://colab.research.google.com/notebooks/data_table.ipynb>data table notebook</a>'\n",
              "            + ' to learn more about interactive tables.';\n",
              "          element.innerHTML = '';\n",
              "          dataTable['output_type'] = 'display_data';\n",
              "          await google.colab.output.renderOutput(dataTable, element);\n",
              "          const docLink = document.createElement('div');\n",
              "          docLink.innerHTML = docLinkHtml;\n",
              "          element.appendChild(docLink);\n",
              "        }\n",
              "      </script>\n",
              "    </div>\n",
              "  </div>\n",
              "  "
            ]
          },
          "metadata": {},
          "execution_count": 73
        }
      ]
    },
    {
      "cell_type": "code",
      "source": [
        "df12.info()"
      ],
      "metadata": {
        "colab": {
          "base_uri": "https://localhost:8080/"
        },
        "outputId": "6b5ff96b-fa4b-4436-c296-1c90818b6f4c",
        "id": "KCUQLU9H8SI9"
      },
      "execution_count": null,
      "outputs": [
        {
          "output_type": "stream",
          "name": "stdout",
          "text": [
            "<class 'pandas.core.frame.DataFrame'>\n",
            "RangeIndex: 35 entries, 0 to 34\n",
            "Data columns (total 4 columns):\n",
            " #   Column                     Non-Null Count  Dtype \n",
            "---  ------                     --------------  ----- \n",
            " 0   Año                        35 non-null     int64 \n",
            " 1   Trimestre                  35 non-null     int64 \n",
            " 2   Ingresos (miles de pesos)  35 non-null     object\n",
            " 3   Periodo                    35 non-null     object\n",
            "dtypes: int64(2), object(2)\n",
            "memory usage: 1.2+ KB\n"
          ]
        }
      ]
    },
    {
      "cell_type": "markdown",
      "source": [
        "# dataset 13x"
      ],
      "metadata": {
        "id": "swwbQoW48hNH"
      }
    },
    {
      "cell_type": "markdown",
      "source": [
        "shape(3098,83) poco relevante, muchas columnas"
      ],
      "metadata": {
        "id": "H0YQyTdm9A_B"
      }
    },
    {
      "cell_type": "markdown",
      "source": [
        "Accesos a Internet fijo por velocidad de bajada y localidad,\n",
        "Número de accesos al servicio de Internet fijo por velocidad de bajada en cada localidad declarada"
      ],
      "metadata": {
        "id": "BpN8ct39CETl"
      }
    },
    {
      "cell_type": "code",
      "source": [
        "URlAPI = 'http://api.datosabiertos.enacom.gob.ar/api/v2/'\n",
        "docType = 'datastreams/'\n",
        "guid = 'ACCES-A-INTER-FIJO-16249/'\n",
        "formatRes = 'data.ajson/'\n",
        "URlRequest = URlAPI + docType + guid + formatRes\n",
        "authKey = 'kPiA1Tds8eE6ov8kG0tQWZYW4B0AXfuTDKO5nk5f'\n",
        "paramReq = {'auth_key': authKey}"
      ],
      "metadata": {
        "id": "JoRUnY7m8q76"
      },
      "execution_count": null,
      "outputs": []
    },
    {
      "cell_type": "code",
      "source": [
        "response = requests.get(URlRequest, params=paramReq)"
      ],
      "metadata": {
        "id": "9pOwGbkZ8q77"
      },
      "execution_count": null,
      "outputs": []
    },
    {
      "cell_type": "code",
      "source": [
        "data = response.json()"
      ],
      "metadata": {
        "id": "B836Fxa-8q77"
      },
      "execution_count": null,
      "outputs": []
    },
    {
      "cell_type": "code",
      "source": [
        "df13 = pd.DataFrame(data['result'][1:], columns= data['result'][0])"
      ],
      "metadata": {
        "id": "68RWp5Ox8q77"
      },
      "execution_count": null,
      "outputs": []
    },
    {
      "cell_type": "code",
      "source": [
        "df13.head(5)"
      ],
      "metadata": {
        "colab": {
          "base_uri": "https://localhost:8080/",
          "height": 384
        },
        "id": "2LMXpQ4M8q77",
        "outputId": "f22d64ea-769e-4bf0-ac48-5bc36f164626"
      },
      "execution_count": null,
      "outputs": [
        {
          "output_type": "execute_result",
          "data": {
            "text/plain": [
              "      Provincia     Partido          Localidad Link Indec Otros 0,256 mbps  \\\n",
              "0  BUENOS AIRES  25 de Mayo         25 de Mayo    6854100                    \n",
              "1  BUENOS AIRES  25 de Mayo    Agustín Mosconi    6854010                    \n",
              "2  BUENOS AIRES  25 de Mayo          Del Valle    6854020                    \n",
              "3  BUENOS AIRES  25 de Mayo          Ernestina    6854030                    \n",
              "4  BUENOS AIRES  25 de Mayo  Gobernador Ugarte    6854040                    \n",
              "\n",
              "  0,375 mbps 0,5 mbps 0,512 mbps 0,625 mbps  ... 75 mbps 78 mbps 80 mbps  \\\n",
              "0                   2                        ...                       9   \n",
              "1                                            ...                           \n",
              "2                   1                        ...                           \n",
              "3                                            ...                           \n",
              "4                                            ...                           \n",
              "\n",
              "  82 mbps 83 mbps 85 mbps 90 mbps 92 mbps 95 mbps 100 mbps  \n",
              "0                                                           \n",
              "1                                                           \n",
              "2                                                           \n",
              "3                                                           \n",
              "4                                                           \n",
              "\n",
              "[5 rows x 83 columns]"
            ],
            "text/html": [
              "\n",
              "  <div id=\"df-8c0e9b61-2135-44bd-9c90-5d50c9e04db7\">\n",
              "    <div class=\"colab-df-container\">\n",
              "      <div>\n",
              "<style scoped>\n",
              "    .dataframe tbody tr th:only-of-type {\n",
              "        vertical-align: middle;\n",
              "    }\n",
              "\n",
              "    .dataframe tbody tr th {\n",
              "        vertical-align: top;\n",
              "    }\n",
              "\n",
              "    .dataframe thead th {\n",
              "        text-align: right;\n",
              "    }\n",
              "</style>\n",
              "<table border=\"1\" class=\"dataframe\">\n",
              "  <thead>\n",
              "    <tr style=\"text-align: right;\">\n",
              "      <th></th>\n",
              "      <th>Provincia</th>\n",
              "      <th>Partido</th>\n",
              "      <th>Localidad</th>\n",
              "      <th>Link Indec</th>\n",
              "      <th>Otros</th>\n",
              "      <th>0,256 mbps</th>\n",
              "      <th>0,375 mbps</th>\n",
              "      <th>0,5 mbps</th>\n",
              "      <th>0,512 mbps</th>\n",
              "      <th>0,625 mbps</th>\n",
              "      <th>...</th>\n",
              "      <th>75 mbps</th>\n",
              "      <th>78 mbps</th>\n",
              "      <th>80 mbps</th>\n",
              "      <th>82 mbps</th>\n",
              "      <th>83 mbps</th>\n",
              "      <th>85 mbps</th>\n",
              "      <th>90 mbps</th>\n",
              "      <th>92 mbps</th>\n",
              "      <th>95 mbps</th>\n",
              "      <th>100 mbps</th>\n",
              "    </tr>\n",
              "  </thead>\n",
              "  <tbody>\n",
              "    <tr>\n",
              "      <th>0</th>\n",
              "      <td>BUENOS AIRES</td>\n",
              "      <td>25 de Mayo</td>\n",
              "      <td>25 de Mayo</td>\n",
              "      <td>6854100</td>\n",
              "      <td></td>\n",
              "      <td></td>\n",
              "      <td></td>\n",
              "      <td>2</td>\n",
              "      <td></td>\n",
              "      <td></td>\n",
              "      <td>...</td>\n",
              "      <td></td>\n",
              "      <td></td>\n",
              "      <td>9</td>\n",
              "      <td></td>\n",
              "      <td></td>\n",
              "      <td></td>\n",
              "      <td></td>\n",
              "      <td></td>\n",
              "      <td></td>\n",
              "      <td></td>\n",
              "    </tr>\n",
              "    <tr>\n",
              "      <th>1</th>\n",
              "      <td>BUENOS AIRES</td>\n",
              "      <td>25 de Mayo</td>\n",
              "      <td>Agustín Mosconi</td>\n",
              "      <td>6854010</td>\n",
              "      <td></td>\n",
              "      <td></td>\n",
              "      <td></td>\n",
              "      <td></td>\n",
              "      <td></td>\n",
              "      <td></td>\n",
              "      <td>...</td>\n",
              "      <td></td>\n",
              "      <td></td>\n",
              "      <td></td>\n",
              "      <td></td>\n",
              "      <td></td>\n",
              "      <td></td>\n",
              "      <td></td>\n",
              "      <td></td>\n",
              "      <td></td>\n",
              "      <td></td>\n",
              "    </tr>\n",
              "    <tr>\n",
              "      <th>2</th>\n",
              "      <td>BUENOS AIRES</td>\n",
              "      <td>25 de Mayo</td>\n",
              "      <td>Del Valle</td>\n",
              "      <td>6854020</td>\n",
              "      <td></td>\n",
              "      <td></td>\n",
              "      <td></td>\n",
              "      <td>1</td>\n",
              "      <td></td>\n",
              "      <td></td>\n",
              "      <td>...</td>\n",
              "      <td></td>\n",
              "      <td></td>\n",
              "      <td></td>\n",
              "      <td></td>\n",
              "      <td></td>\n",
              "      <td></td>\n",
              "      <td></td>\n",
              "      <td></td>\n",
              "      <td></td>\n",
              "      <td></td>\n",
              "    </tr>\n",
              "    <tr>\n",
              "      <th>3</th>\n",
              "      <td>BUENOS AIRES</td>\n",
              "      <td>25 de Mayo</td>\n",
              "      <td>Ernestina</td>\n",
              "      <td>6854030</td>\n",
              "      <td></td>\n",
              "      <td></td>\n",
              "      <td></td>\n",
              "      <td></td>\n",
              "      <td></td>\n",
              "      <td></td>\n",
              "      <td>...</td>\n",
              "      <td></td>\n",
              "      <td></td>\n",
              "      <td></td>\n",
              "      <td></td>\n",
              "      <td></td>\n",
              "      <td></td>\n",
              "      <td></td>\n",
              "      <td></td>\n",
              "      <td></td>\n",
              "      <td></td>\n",
              "    </tr>\n",
              "    <tr>\n",
              "      <th>4</th>\n",
              "      <td>BUENOS AIRES</td>\n",
              "      <td>25 de Mayo</td>\n",
              "      <td>Gobernador Ugarte</td>\n",
              "      <td>6854040</td>\n",
              "      <td></td>\n",
              "      <td></td>\n",
              "      <td></td>\n",
              "      <td></td>\n",
              "      <td></td>\n",
              "      <td></td>\n",
              "      <td>...</td>\n",
              "      <td></td>\n",
              "      <td></td>\n",
              "      <td></td>\n",
              "      <td></td>\n",
              "      <td></td>\n",
              "      <td></td>\n",
              "      <td></td>\n",
              "      <td></td>\n",
              "      <td></td>\n",
              "      <td></td>\n",
              "    </tr>\n",
              "  </tbody>\n",
              "</table>\n",
              "<p>5 rows × 83 columns</p>\n",
              "</div>\n",
              "      <button class=\"colab-df-convert\" onclick=\"convertToInteractive('df-8c0e9b61-2135-44bd-9c90-5d50c9e04db7')\"\n",
              "              title=\"Convert this dataframe to an interactive table.\"\n",
              "              style=\"display:none;\">\n",
              "        \n",
              "  <svg xmlns=\"http://www.w3.org/2000/svg\" height=\"24px\"viewBox=\"0 0 24 24\"\n",
              "       width=\"24px\">\n",
              "    <path d=\"M0 0h24v24H0V0z\" fill=\"none\"/>\n",
              "    <path d=\"M18.56 5.44l.94 2.06.94-2.06 2.06-.94-2.06-.94-.94-2.06-.94 2.06-2.06.94zm-11 1L8.5 8.5l.94-2.06 2.06-.94-2.06-.94L8.5 2.5l-.94 2.06-2.06.94zm10 10l.94 2.06.94-2.06 2.06-.94-2.06-.94-.94-2.06-.94 2.06-2.06.94z\"/><path d=\"M17.41 7.96l-1.37-1.37c-.4-.4-.92-.59-1.43-.59-.52 0-1.04.2-1.43.59L10.3 9.45l-7.72 7.72c-.78.78-.78 2.05 0 2.83L4 21.41c.39.39.9.59 1.41.59.51 0 1.02-.2 1.41-.59l7.78-7.78 2.81-2.81c.8-.78.8-2.07 0-2.86zM5.41 20L4 18.59l7.72-7.72 1.47 1.35L5.41 20z\"/>\n",
              "  </svg>\n",
              "      </button>\n",
              "      \n",
              "  <style>\n",
              "    .colab-df-container {\n",
              "      display:flex;\n",
              "      flex-wrap:wrap;\n",
              "      gap: 12px;\n",
              "    }\n",
              "\n",
              "    .colab-df-convert {\n",
              "      background-color: #E8F0FE;\n",
              "      border: none;\n",
              "      border-radius: 50%;\n",
              "      cursor: pointer;\n",
              "      display: none;\n",
              "      fill: #1967D2;\n",
              "      height: 32px;\n",
              "      padding: 0 0 0 0;\n",
              "      width: 32px;\n",
              "    }\n",
              "\n",
              "    .colab-df-convert:hover {\n",
              "      background-color: #E2EBFA;\n",
              "      box-shadow: 0px 1px 2px rgba(60, 64, 67, 0.3), 0px 1px 3px 1px rgba(60, 64, 67, 0.15);\n",
              "      fill: #174EA6;\n",
              "    }\n",
              "\n",
              "    [theme=dark] .colab-df-convert {\n",
              "      background-color: #3B4455;\n",
              "      fill: #D2E3FC;\n",
              "    }\n",
              "\n",
              "    [theme=dark] .colab-df-convert:hover {\n",
              "      background-color: #434B5C;\n",
              "      box-shadow: 0px 1px 3px 1px rgba(0, 0, 0, 0.15);\n",
              "      filter: drop-shadow(0px 1px 2px rgba(0, 0, 0, 0.3));\n",
              "      fill: #FFFFFF;\n",
              "    }\n",
              "  </style>\n",
              "\n",
              "      <script>\n",
              "        const buttonEl =\n",
              "          document.querySelector('#df-8c0e9b61-2135-44bd-9c90-5d50c9e04db7 button.colab-df-convert');\n",
              "        buttonEl.style.display =\n",
              "          google.colab.kernel.accessAllowed ? 'block' : 'none';\n",
              "\n",
              "        async function convertToInteractive(key) {\n",
              "          const element = document.querySelector('#df-8c0e9b61-2135-44bd-9c90-5d50c9e04db7');\n",
              "          const dataTable =\n",
              "            await google.colab.kernel.invokeFunction('convertToInteractive',\n",
              "                                                     [key], {});\n",
              "          if (!dataTable) return;\n",
              "\n",
              "          const docLinkHtml = 'Like what you see? Visit the ' +\n",
              "            '<a target=\"_blank\" href=https://colab.research.google.com/notebooks/data_table.ipynb>data table notebook</a>'\n",
              "            + ' to learn more about interactive tables.';\n",
              "          element.innerHTML = '';\n",
              "          dataTable['output_type'] = 'display_data';\n",
              "          await google.colab.output.renderOutput(dataTable, element);\n",
              "          const docLink = document.createElement('div');\n",
              "          docLink.innerHTML = docLinkHtml;\n",
              "          element.appendChild(docLink);\n",
              "        }\n",
              "      </script>\n",
              "    </div>\n",
              "  </div>\n",
              "  "
            ]
          },
          "metadata": {},
          "execution_count": 79
        }
      ]
    },
    {
      "cell_type": "code",
      "source": [
        "df13.info()"
      ],
      "metadata": {
        "id": "ZUfQK2sO8q78",
        "colab": {
          "base_uri": "https://localhost:8080/"
        },
        "outputId": "d372123b-bfdb-4a77-c50e-20340c1d4b1f"
      },
      "execution_count": null,
      "outputs": [
        {
          "output_type": "stream",
          "name": "stdout",
          "text": [
            "<class 'pandas.core.frame.DataFrame'>\n",
            "RangeIndex: 3098 entries, 0 to 3097\n",
            "Data columns (total 83 columns):\n",
            " #   Column      Non-Null Count  Dtype \n",
            "---  ------      --------------  ----- \n",
            " 0   Provincia   3098 non-null   object\n",
            " 1   Partido     3098 non-null   object\n",
            " 2   Localidad   3098 non-null   object\n",
            " 3   Link Indec  3098 non-null   object\n",
            " 4   Otros       3098 non-null   object\n",
            " 5   0,256 mbps  3098 non-null   object\n",
            " 6   0,375 mbps  3098 non-null   object\n",
            " 7   0,5 mbps    3098 non-null   object\n",
            " 8   0,512 mbps  3098 non-null   object\n",
            " 9   0,625 mbps  3098 non-null   object\n",
            " 10  0,75 mbps   3098 non-null   object\n",
            " 11  1 mbps      3098 non-null   object\n",
            " 12  1,25 mbps   3098 non-null   object\n",
            " 13  1,5 mbps    3098 non-null   object\n",
            " 14  2 mbps      3098 non-null   object\n",
            " 15  2,2 mbps    3098 non-null   object\n",
            " 16  2,5 mbps    3098 non-null   object\n",
            " 17  3 mbps      3098 non-null   object\n",
            " 18  3,3 mbps    3098 non-null   object\n",
            " 19  3,5 mbps    3098 non-null   object\n",
            " 20  4 mbps      3098 non-null   object\n",
            " 21  4,5 mbps    3098 non-null   object\n",
            " 22  5 mbps      3098 non-null   object\n",
            " 23  6 mbps      3098 non-null   object\n",
            " 24  6,4 mbps    3098 non-null   object\n",
            " 25  7 mbps      3098 non-null   object\n",
            " 26  7,5 mbps    3098 non-null   object\n",
            " 27  8 mbps      3098 non-null   object\n",
            " 28  9 mbps      3098 non-null   object\n",
            " 29  10 mbps     3098 non-null   object\n",
            " 30  11 mbps     3098 non-null   object\n",
            " 31  12 mbps     3098 non-null   object\n",
            " 32  13 mbps     3098 non-null   object\n",
            " 33  14 mbps     3098 non-null   object\n",
            " 34  15 mbps     3098 non-null   object\n",
            " 35  16 mbps     3098 non-null   object\n",
            " 36  17 mbps     3098 non-null   object\n",
            " 37  18 mbps     3098 non-null   object\n",
            " 38  19 mbps     3098 non-null   object\n",
            " 39  20 mbps     3098 non-null   object\n",
            " 40  21 mbps     3098 non-null   object\n",
            " 41  22 mbps     3098 non-null   object\n",
            " 42  23 mbps     3098 non-null   object\n",
            " 43  24 mbps     3098 non-null   object\n",
            " 44  25 mbps     3098 non-null   object\n",
            " 45  25,1 mbps   3098 non-null   object\n",
            " 46  25,11 mbps  3098 non-null   object\n",
            " 47  25,5 mbps   3098 non-null   object\n",
            " 48  26 mbps     3098 non-null   object\n",
            " 49  30 mbps     3098 non-null   object\n",
            " 50  31 mbps     3098 non-null   object\n",
            " 51  32 mbps     3098 non-null   object\n",
            " 52  34 mbps     3098 non-null   object\n",
            " 53  35 mbps     3098 non-null   object\n",
            " 54  36 mbps     3098 non-null   object\n",
            " 55  38 mbps     3098 non-null   object\n",
            " 56  39 mbps     3098 non-null   object\n",
            " 57  40 mbps     3098 non-null   object\n",
            " 58  41 mbps     3098 non-null   object\n",
            " 59  45 mbps     3098 non-null   object\n",
            " 60  46 mbps     3098 non-null   object\n",
            " 61  49 mbps     3098 non-null   object\n",
            " 62  50 mbps     3098 non-null   object\n",
            " 63  55 mbps     3098 non-null   object\n",
            " 64  58 mbps     3098 non-null   object\n",
            " 65  59 mbps     3098 non-null   object\n",
            " 66  60 mbps     3098 non-null   object\n",
            " 67  61 mbps     3098 non-null   object\n",
            " 68  62 mbps     3098 non-null   object\n",
            " 69  64 mbps     3098 non-null   object\n",
            " 70  65 mbps     3098 non-null   object\n",
            " 71  66 mbps     3098 non-null   object\n",
            " 72  70 mbps     3098 non-null   object\n",
            " 73  75 mbps     3098 non-null   object\n",
            " 74  78 mbps     3098 non-null   object\n",
            " 75  80 mbps     3098 non-null   object\n",
            " 76  82 mbps     3098 non-null   object\n",
            " 77  83 mbps     3098 non-null   object\n",
            " 78  85 mbps     3098 non-null   object\n",
            " 79  90 mbps     3098 non-null   object\n",
            " 80  92 mbps     3098 non-null   object\n",
            " 81  95 mbps     3098 non-null   object\n",
            " 82  100 mbps    3098 non-null   object\n",
            "dtypes: object(83)\n",
            "memory usage: 2.0+ MB\n"
          ]
        }
      ]
    },
    {
      "cell_type": "markdown",
      "source": [
        "# dataset 14"
      ],
      "metadata": {
        "id": "qiLJiPui9WJ0"
      }
    },
    {
      "cell_type": "markdown",
      "source": [
        "Accesos a Internet fijo por tecnología y localidad,\n",
        "Número de accesos al servicio de Internet fijo por tecnología en cada localidad declarada Categoría"
      ],
      "metadata": {
        "id": "Jz4EVWcVCR60"
      }
    },
    {
      "cell_type": "code",
      "source": [
        "URlAPI = 'http://api.datosabiertos.enacom.gob.ar/api/v2/'\n",
        "docType = 'datastreams/'\n",
        "guid = 'ACCES-A-INTER-FIJO-62463/'\n",
        "formatRes = 'data.ajson/'\n",
        "URlRequest = URlAPI + docType + guid + formatRes\n",
        "authKey = 'kPiA1Tds8eE6ov8kG0tQWZYW4B0AXfuTDKO5nk5f'\n",
        "paramReq = {'auth_key': authKey}"
      ],
      "metadata": {
        "id": "KgNGP8iu9hxH"
      },
      "execution_count": null,
      "outputs": []
    },
    {
      "cell_type": "code",
      "source": [
        "response = requests.get(URlRequest, params=paramReq)"
      ],
      "metadata": {
        "id": "E4OKoCFC9hxU"
      },
      "execution_count": null,
      "outputs": []
    },
    {
      "cell_type": "code",
      "source": [
        "data = response.json()"
      ],
      "metadata": {
        "id": "0a41x4Ld9hxU"
      },
      "execution_count": null,
      "outputs": []
    },
    {
      "cell_type": "code",
      "source": [
        "df14 = pd.DataFrame(data['result'][1:], columns= data['result'][0])"
      ],
      "metadata": {
        "id": "o2xzz0ac9hxU"
      },
      "execution_count": null,
      "outputs": []
    },
    {
      "cell_type": "markdown",
      "source": [
        "Eliminar columna con todos los valores vacios"
      ],
      "metadata": {
        "id": "30OHzisH-JKe"
      }
    },
    {
      "cell_type": "code",
      "source": [
        "df14.drop([''], axis=1, inplace=True)"
      ],
      "metadata": {
        "id": "-sC9hRPr-IRe"
      },
      "execution_count": null,
      "outputs": []
    },
    {
      "cell_type": "code",
      "source": [
        "df14.head(5)"
      ],
      "metadata": {
        "colab": {
          "base_uri": "https://localhost:8080/",
          "height": 206
        },
        "outputId": "f404c6fc-cb2e-4b53-bbf9-82d2ad1e69c6",
        "id": "DWP0CxGr9hxU"
      },
      "execution_count": null,
      "outputs": [
        {
          "output_type": "execute_result",
          "data": {
            "text/plain": [
              "      Provincia     Partido               Localidad Link Indec ADSL  \\\n",
              "0  BUENOS AIRES  25 de Mayo              25 de Mayo    6854100  873   \n",
              "1  BUENOS AIRES  25 de Mayo               Del Valle    6854020  181   \n",
              "2  BUENOS AIRES  25 de Mayo       Gobernador Ugarte    6854040  - 0   \n",
              "3  BUENOS AIRES  25 de Mayo  Norberto de la Riestra    6854060  - 0   \n",
              "4  BUENOS AIRES  25 de Mayo        Lucas Monteverde    6854050  - 0   \n",
              "\n",
              "  CABLEMODEM DIAL UP FIBRA OPTICA OTROS SATELITAL WIMAX WIRELESS Total general  \n",
              "0      4,704     - 0            2   - 0       975   - 0      664         7,218  \n",
              "1        - 0     - 0          - 0    10         1   - 0      - 0           192  \n",
              "2        - 0     - 0          - 0   - 0       - 0   - 0      181           181  \n",
              "3        782     - 0            6   167       - 0   - 0      327         1,282  \n",
              "4        - 0     - 0          - 0   - 0       - 0   - 0        6             6  "
            ],
            "text/html": [
              "\n",
              "  <div id=\"df-c04f5b97-29bb-4ffa-bef5-02fc8fb6428d\">\n",
              "    <div class=\"colab-df-container\">\n",
              "      <div>\n",
              "<style scoped>\n",
              "    .dataframe tbody tr th:only-of-type {\n",
              "        vertical-align: middle;\n",
              "    }\n",
              "\n",
              "    .dataframe tbody tr th {\n",
              "        vertical-align: top;\n",
              "    }\n",
              "\n",
              "    .dataframe thead th {\n",
              "        text-align: right;\n",
              "    }\n",
              "</style>\n",
              "<table border=\"1\" class=\"dataframe\">\n",
              "  <thead>\n",
              "    <tr style=\"text-align: right;\">\n",
              "      <th></th>\n",
              "      <th>Provincia</th>\n",
              "      <th>Partido</th>\n",
              "      <th>Localidad</th>\n",
              "      <th>Link Indec</th>\n",
              "      <th>ADSL</th>\n",
              "      <th>CABLEMODEM</th>\n",
              "      <th>DIAL UP</th>\n",
              "      <th>FIBRA OPTICA</th>\n",
              "      <th>OTROS</th>\n",
              "      <th>SATELITAL</th>\n",
              "      <th>WIMAX</th>\n",
              "      <th>WIRELESS</th>\n",
              "      <th>Total general</th>\n",
              "    </tr>\n",
              "  </thead>\n",
              "  <tbody>\n",
              "    <tr>\n",
              "      <th>0</th>\n",
              "      <td>BUENOS AIRES</td>\n",
              "      <td>25 de Mayo</td>\n",
              "      <td>25 de Mayo</td>\n",
              "      <td>6854100</td>\n",
              "      <td>873</td>\n",
              "      <td>4,704</td>\n",
              "      <td>- 0</td>\n",
              "      <td>2</td>\n",
              "      <td>- 0</td>\n",
              "      <td>975</td>\n",
              "      <td>- 0</td>\n",
              "      <td>664</td>\n",
              "      <td>7,218</td>\n",
              "    </tr>\n",
              "    <tr>\n",
              "      <th>1</th>\n",
              "      <td>BUENOS AIRES</td>\n",
              "      <td>25 de Mayo</td>\n",
              "      <td>Del Valle</td>\n",
              "      <td>6854020</td>\n",
              "      <td>181</td>\n",
              "      <td>- 0</td>\n",
              "      <td>- 0</td>\n",
              "      <td>- 0</td>\n",
              "      <td>10</td>\n",
              "      <td>1</td>\n",
              "      <td>- 0</td>\n",
              "      <td>- 0</td>\n",
              "      <td>192</td>\n",
              "    </tr>\n",
              "    <tr>\n",
              "      <th>2</th>\n",
              "      <td>BUENOS AIRES</td>\n",
              "      <td>25 de Mayo</td>\n",
              "      <td>Gobernador Ugarte</td>\n",
              "      <td>6854040</td>\n",
              "      <td>- 0</td>\n",
              "      <td>- 0</td>\n",
              "      <td>- 0</td>\n",
              "      <td>- 0</td>\n",
              "      <td>- 0</td>\n",
              "      <td>- 0</td>\n",
              "      <td>- 0</td>\n",
              "      <td>181</td>\n",
              "      <td>181</td>\n",
              "    </tr>\n",
              "    <tr>\n",
              "      <th>3</th>\n",
              "      <td>BUENOS AIRES</td>\n",
              "      <td>25 de Mayo</td>\n",
              "      <td>Norberto de la Riestra</td>\n",
              "      <td>6854060</td>\n",
              "      <td>- 0</td>\n",
              "      <td>782</td>\n",
              "      <td>- 0</td>\n",
              "      <td>6</td>\n",
              "      <td>167</td>\n",
              "      <td>- 0</td>\n",
              "      <td>- 0</td>\n",
              "      <td>327</td>\n",
              "      <td>1,282</td>\n",
              "    </tr>\n",
              "    <tr>\n",
              "      <th>4</th>\n",
              "      <td>BUENOS AIRES</td>\n",
              "      <td>25 de Mayo</td>\n",
              "      <td>Lucas Monteverde</td>\n",
              "      <td>6854050</td>\n",
              "      <td>- 0</td>\n",
              "      <td>- 0</td>\n",
              "      <td>- 0</td>\n",
              "      <td>- 0</td>\n",
              "      <td>- 0</td>\n",
              "      <td>- 0</td>\n",
              "      <td>- 0</td>\n",
              "      <td>6</td>\n",
              "      <td>6</td>\n",
              "    </tr>\n",
              "  </tbody>\n",
              "</table>\n",
              "</div>\n",
              "      <button class=\"colab-df-convert\" onclick=\"convertToInteractive('df-c04f5b97-29bb-4ffa-bef5-02fc8fb6428d')\"\n",
              "              title=\"Convert this dataframe to an interactive table.\"\n",
              "              style=\"display:none;\">\n",
              "        \n",
              "  <svg xmlns=\"http://www.w3.org/2000/svg\" height=\"24px\"viewBox=\"0 0 24 24\"\n",
              "       width=\"24px\">\n",
              "    <path d=\"M0 0h24v24H0V0z\" fill=\"none\"/>\n",
              "    <path d=\"M18.56 5.44l.94 2.06.94-2.06 2.06-.94-2.06-.94-.94-2.06-.94 2.06-2.06.94zm-11 1L8.5 8.5l.94-2.06 2.06-.94-2.06-.94L8.5 2.5l-.94 2.06-2.06.94zm10 10l.94 2.06.94-2.06 2.06-.94-2.06-.94-.94-2.06-.94 2.06-2.06.94z\"/><path d=\"M17.41 7.96l-1.37-1.37c-.4-.4-.92-.59-1.43-.59-.52 0-1.04.2-1.43.59L10.3 9.45l-7.72 7.72c-.78.78-.78 2.05 0 2.83L4 21.41c.39.39.9.59 1.41.59.51 0 1.02-.2 1.41-.59l7.78-7.78 2.81-2.81c.8-.78.8-2.07 0-2.86zM5.41 20L4 18.59l7.72-7.72 1.47 1.35L5.41 20z\"/>\n",
              "  </svg>\n",
              "      </button>\n",
              "      \n",
              "  <style>\n",
              "    .colab-df-container {\n",
              "      display:flex;\n",
              "      flex-wrap:wrap;\n",
              "      gap: 12px;\n",
              "    }\n",
              "\n",
              "    .colab-df-convert {\n",
              "      background-color: #E8F0FE;\n",
              "      border: none;\n",
              "      border-radius: 50%;\n",
              "      cursor: pointer;\n",
              "      display: none;\n",
              "      fill: #1967D2;\n",
              "      height: 32px;\n",
              "      padding: 0 0 0 0;\n",
              "      width: 32px;\n",
              "    }\n",
              "\n",
              "    .colab-df-convert:hover {\n",
              "      background-color: #E2EBFA;\n",
              "      box-shadow: 0px 1px 2px rgba(60, 64, 67, 0.3), 0px 1px 3px 1px rgba(60, 64, 67, 0.15);\n",
              "      fill: #174EA6;\n",
              "    }\n",
              "\n",
              "    [theme=dark] .colab-df-convert {\n",
              "      background-color: #3B4455;\n",
              "      fill: #D2E3FC;\n",
              "    }\n",
              "\n",
              "    [theme=dark] .colab-df-convert:hover {\n",
              "      background-color: #434B5C;\n",
              "      box-shadow: 0px 1px 3px 1px rgba(0, 0, 0, 0.15);\n",
              "      filter: drop-shadow(0px 1px 2px rgba(0, 0, 0, 0.3));\n",
              "      fill: #FFFFFF;\n",
              "    }\n",
              "  </style>\n",
              "\n",
              "      <script>\n",
              "        const buttonEl =\n",
              "          document.querySelector('#df-c04f5b97-29bb-4ffa-bef5-02fc8fb6428d button.colab-df-convert');\n",
              "        buttonEl.style.display =\n",
              "          google.colab.kernel.accessAllowed ? 'block' : 'none';\n",
              "\n",
              "        async function convertToInteractive(key) {\n",
              "          const element = document.querySelector('#df-c04f5b97-29bb-4ffa-bef5-02fc8fb6428d');\n",
              "          const dataTable =\n",
              "            await google.colab.kernel.invokeFunction('convertToInteractive',\n",
              "                                                     [key], {});\n",
              "          if (!dataTable) return;\n",
              "\n",
              "          const docLinkHtml = 'Like what you see? Visit the ' +\n",
              "            '<a target=\"_blank\" href=https://colab.research.google.com/notebooks/data_table.ipynb>data table notebook</a>'\n",
              "            + ' to learn more about interactive tables.';\n",
              "          element.innerHTML = '';\n",
              "          dataTable['output_type'] = 'display_data';\n",
              "          await google.colab.output.renderOutput(dataTable, element);\n",
              "          const docLink = document.createElement('div');\n",
              "          docLink.innerHTML = docLinkHtml;\n",
              "          element.appendChild(docLink);\n",
              "        }\n",
              "      </script>\n",
              "    </div>\n",
              "  </div>\n",
              "  "
            ]
          },
          "metadata": {},
          "execution_count": 87
        }
      ]
    },
    {
      "cell_type": "code",
      "source": [
        "df14.info()"
      ],
      "metadata": {
        "colab": {
          "base_uri": "https://localhost:8080/"
        },
        "id": "JvGecjM69hxV",
        "outputId": "4c14b882-edae-4c38-d1c5-ff35a41dca58"
      },
      "execution_count": null,
      "outputs": [
        {
          "output_type": "stream",
          "name": "stdout",
          "text": [
            "<class 'pandas.core.frame.DataFrame'>\n",
            "RangeIndex: 3142 entries, 0 to 3141\n",
            "Data columns (total 13 columns):\n",
            " #   Column         Non-Null Count  Dtype \n",
            "---  ------         --------------  ----- \n",
            " 0   Provincia      3142 non-null   object\n",
            " 1   Partido        3142 non-null   object\n",
            " 2   Localidad      3142 non-null   object\n",
            " 3   Link Indec     3142 non-null   object\n",
            " 4   ADSL           3142 non-null   object\n",
            " 5   CABLEMODEM     3142 non-null   object\n",
            " 6   DIAL UP        3142 non-null   object\n",
            " 7   FIBRA OPTICA   3142 non-null   object\n",
            " 8   OTROS          3142 non-null   object\n",
            " 9   SATELITAL      3142 non-null   object\n",
            " 10  WIMAX          3142 non-null   object\n",
            " 11  WIRELESS       3142 non-null   object\n",
            " 12  Total general  3142 non-null   object\n",
            "dtypes: object(13)\n",
            "memory usage: 319.2+ KB\n"
          ]
        }
      ]
    },
    {
      "cell_type": "markdown",
      "source": [
        "# dataset 15"
      ],
      "metadata": {
        "id": "ORt1fIvf9t_T"
      }
    },
    {
      "cell_type": "markdown",
      "source": [
        "Listado de localidades con conectividad a internet,\n",
        "Listado de localidades con conectividad a internet, con detalle por tipo de conexión."
      ],
      "metadata": {
        "id": "9XpN9tMICfjZ"
      }
    },
    {
      "cell_type": "code",
      "source": [
        "URlAPI = 'http://api.datosabiertos.enacom.gob.ar/api/v2/'\n",
        "docType = 'datastreams/'\n",
        "guid = 'LISTA-DE-LOCAL-CON-CONEC/'\n",
        "formatRes = 'data.ajson/'\n",
        "URlRequest = URlAPI + docType + guid + formatRes\n",
        "authKey = 'kPiA1Tds8eE6ov8kG0tQWZYW4B0AXfuTDKO5nk5f'\n",
        "paramReq = {'auth_key': authKey}"
      ],
      "metadata": {
        "id": "5F4IAwHg9v2I"
      },
      "execution_count": null,
      "outputs": []
    },
    {
      "cell_type": "code",
      "source": [
        "response = requests.get(URlRequest, params=paramReq)"
      ],
      "metadata": {
        "id": "rLQe9o2Z9v2J"
      },
      "execution_count": null,
      "outputs": []
    },
    {
      "cell_type": "code",
      "source": [
        "data = response.json()"
      ],
      "metadata": {
        "id": "vkFtU5g_9v2J"
      },
      "execution_count": null,
      "outputs": []
    },
    {
      "cell_type": "code",
      "source": [
        "df15 = pd.DataFrame(data['result'][1:], columns= data['result'][0])"
      ],
      "metadata": {
        "id": "Fy7ETbX-9v2J"
      },
      "execution_count": null,
      "outputs": []
    },
    {
      "cell_type": "code",
      "source": [
        "df15.head(5)"
      ],
      "metadata": {
        "id": "nyga0vMH9v2K",
        "colab": {
          "base_uri": "https://localhost:8080/",
          "height": 206
        },
        "outputId": "b8e8b4c5-cf3a-4e01-fb55-b19604f2564d"
      },
      "execution_count": null,
      "outputs": [
        {
          "output_type": "execute_result",
          "data": {
            "text/plain": [
              "                      Partido      Localidad ADSL     DIALUP FIBRAOPTICA  4G  \\\n",
              "0                Bahía Blanca  Villa Bordeau              --          --       \n",
              "1  BUENOS AIRES                 Villa Espora   --  --                 --  --   \n",
              "2  BUENOS AIRES                                SI  SI                     SI   \n",
              "3  BUENOS AIRES      Balcarce                  --  --     --              --   \n",
              "4  BUENOS AIRES                    Napaleofú   --  --                 SI  SI   \n",
              "\n",
              "      TELEFONIAFIJA     SATELITAL  \n",
              "0                --            --  \n",
              "1  --                --            \n",
              "2  SI                SI            \n",
              "3  --            SI  SI        --  \n",
              "4  SI                          --  "
            ],
            "text/html": [
              "\n",
              "  <div id=\"df-23fa9330-8d3d-41d3-ac65-9742fa14dd88\">\n",
              "    <div class=\"colab-df-container\">\n",
              "      <div>\n",
              "<style scoped>\n",
              "    .dataframe tbody tr th:only-of-type {\n",
              "        vertical-align: middle;\n",
              "    }\n",
              "\n",
              "    .dataframe tbody tr th {\n",
              "        vertical-align: top;\n",
              "    }\n",
              "\n",
              "    .dataframe thead th {\n",
              "        text-align: right;\n",
              "    }\n",
              "</style>\n",
              "<table border=\"1\" class=\"dataframe\">\n",
              "  <thead>\n",
              "    <tr style=\"text-align: right;\">\n",
              "      <th></th>\n",
              "      <th></th>\n",
              "      <th>Partido</th>\n",
              "      <th>Localidad</th>\n",
              "      <th>ADSL</th>\n",
              "      <th></th>\n",
              "      <th>DIALUP</th>\n",
              "      <th>FIBRAOPTICA</th>\n",
              "      <th>4G</th>\n",
              "      <th></th>\n",
              "      <th>TELEFONIAFIJA</th>\n",
              "      <th></th>\n",
              "      <th>SATELITAL</th>\n",
              "    </tr>\n",
              "  </thead>\n",
              "  <tbody>\n",
              "    <tr>\n",
              "      <th>0</th>\n",
              "      <td></td>\n",
              "      <td>Bahía Blanca</td>\n",
              "      <td>Villa Bordeau</td>\n",
              "      <td></td>\n",
              "      <td></td>\n",
              "      <td>--</td>\n",
              "      <td>--</td>\n",
              "      <td></td>\n",
              "      <td></td>\n",
              "      <td>--</td>\n",
              "      <td></td>\n",
              "      <td>--</td>\n",
              "    </tr>\n",
              "    <tr>\n",
              "      <th>1</th>\n",
              "      <td>BUENOS AIRES</td>\n",
              "      <td></td>\n",
              "      <td>Villa Espora</td>\n",
              "      <td>--</td>\n",
              "      <td>--</td>\n",
              "      <td></td>\n",
              "      <td>--</td>\n",
              "      <td>--</td>\n",
              "      <td>--</td>\n",
              "      <td></td>\n",
              "      <td>--</td>\n",
              "      <td></td>\n",
              "    </tr>\n",
              "    <tr>\n",
              "      <th>2</th>\n",
              "      <td>BUENOS AIRES</td>\n",
              "      <td></td>\n",
              "      <td></td>\n",
              "      <td>SI</td>\n",
              "      <td>SI</td>\n",
              "      <td></td>\n",
              "      <td></td>\n",
              "      <td>SI</td>\n",
              "      <td>SI</td>\n",
              "      <td></td>\n",
              "      <td>SI</td>\n",
              "      <td></td>\n",
              "    </tr>\n",
              "    <tr>\n",
              "      <th>3</th>\n",
              "      <td>BUENOS AIRES</td>\n",
              "      <td>Balcarce</td>\n",
              "      <td></td>\n",
              "      <td>--</td>\n",
              "      <td>--</td>\n",
              "      <td>--</td>\n",
              "      <td></td>\n",
              "      <td>--</td>\n",
              "      <td>--</td>\n",
              "      <td>SI</td>\n",
              "      <td>SI</td>\n",
              "      <td>--</td>\n",
              "    </tr>\n",
              "    <tr>\n",
              "      <th>4</th>\n",
              "      <td>BUENOS AIRES</td>\n",
              "      <td></td>\n",
              "      <td>Napaleofú</td>\n",
              "      <td>--</td>\n",
              "      <td>--</td>\n",
              "      <td></td>\n",
              "      <td>SI</td>\n",
              "      <td>SI</td>\n",
              "      <td>SI</td>\n",
              "      <td></td>\n",
              "      <td></td>\n",
              "      <td>--</td>\n",
              "    </tr>\n",
              "  </tbody>\n",
              "</table>\n",
              "</div>\n",
              "      <button class=\"colab-df-convert\" onclick=\"convertToInteractive('df-23fa9330-8d3d-41d3-ac65-9742fa14dd88')\"\n",
              "              title=\"Convert this dataframe to an interactive table.\"\n",
              "              style=\"display:none;\">\n",
              "        \n",
              "  <svg xmlns=\"http://www.w3.org/2000/svg\" height=\"24px\"viewBox=\"0 0 24 24\"\n",
              "       width=\"24px\">\n",
              "    <path d=\"M0 0h24v24H0V0z\" fill=\"none\"/>\n",
              "    <path d=\"M18.56 5.44l.94 2.06.94-2.06 2.06-.94-2.06-.94-.94-2.06-.94 2.06-2.06.94zm-11 1L8.5 8.5l.94-2.06 2.06-.94-2.06-.94L8.5 2.5l-.94 2.06-2.06.94zm10 10l.94 2.06.94-2.06 2.06-.94-2.06-.94-.94-2.06-.94 2.06-2.06.94z\"/><path d=\"M17.41 7.96l-1.37-1.37c-.4-.4-.92-.59-1.43-.59-.52 0-1.04.2-1.43.59L10.3 9.45l-7.72 7.72c-.78.78-.78 2.05 0 2.83L4 21.41c.39.39.9.59 1.41.59.51 0 1.02-.2 1.41-.59l7.78-7.78 2.81-2.81c.8-.78.8-2.07 0-2.86zM5.41 20L4 18.59l7.72-7.72 1.47 1.35L5.41 20z\"/>\n",
              "  </svg>\n",
              "      </button>\n",
              "      \n",
              "  <style>\n",
              "    .colab-df-container {\n",
              "      display:flex;\n",
              "      flex-wrap:wrap;\n",
              "      gap: 12px;\n",
              "    }\n",
              "\n",
              "    .colab-df-convert {\n",
              "      background-color: #E8F0FE;\n",
              "      border: none;\n",
              "      border-radius: 50%;\n",
              "      cursor: pointer;\n",
              "      display: none;\n",
              "      fill: #1967D2;\n",
              "      height: 32px;\n",
              "      padding: 0 0 0 0;\n",
              "      width: 32px;\n",
              "    }\n",
              "\n",
              "    .colab-df-convert:hover {\n",
              "      background-color: #E2EBFA;\n",
              "      box-shadow: 0px 1px 2px rgba(60, 64, 67, 0.3), 0px 1px 3px 1px rgba(60, 64, 67, 0.15);\n",
              "      fill: #174EA6;\n",
              "    }\n",
              "\n",
              "    [theme=dark] .colab-df-convert {\n",
              "      background-color: #3B4455;\n",
              "      fill: #D2E3FC;\n",
              "    }\n",
              "\n",
              "    [theme=dark] .colab-df-convert:hover {\n",
              "      background-color: #434B5C;\n",
              "      box-shadow: 0px 1px 3px 1px rgba(0, 0, 0, 0.15);\n",
              "      filter: drop-shadow(0px 1px 2px rgba(0, 0, 0, 0.3));\n",
              "      fill: #FFFFFF;\n",
              "    }\n",
              "  </style>\n",
              "\n",
              "      <script>\n",
              "        const buttonEl =\n",
              "          document.querySelector('#df-23fa9330-8d3d-41d3-ac65-9742fa14dd88 button.colab-df-convert');\n",
              "        buttonEl.style.display =\n",
              "          google.colab.kernel.accessAllowed ? 'block' : 'none';\n",
              "\n",
              "        async function convertToInteractive(key) {\n",
              "          const element = document.querySelector('#df-23fa9330-8d3d-41d3-ac65-9742fa14dd88');\n",
              "          const dataTable =\n",
              "            await google.colab.kernel.invokeFunction('convertToInteractive',\n",
              "                                                     [key], {});\n",
              "          if (!dataTable) return;\n",
              "\n",
              "          const docLinkHtml = 'Like what you see? Visit the ' +\n",
              "            '<a target=\"_blank\" href=https://colab.research.google.com/notebooks/data_table.ipynb>data table notebook</a>'\n",
              "            + ' to learn more about interactive tables.';\n",
              "          element.innerHTML = '';\n",
              "          dataTable['output_type'] = 'display_data';\n",
              "          await google.colab.output.renderOutput(dataTable, element);\n",
              "          const docLink = document.createElement('div');\n",
              "          docLink.innerHTML = docLinkHtml;\n",
              "          element.appendChild(docLink);\n",
              "        }\n",
              "      </script>\n",
              "    </div>\n",
              "  </div>\n",
              "  "
            ]
          },
          "metadata": {},
          "execution_count": 93
        }
      ]
    },
    {
      "cell_type": "code",
      "source": [
        "df15.info()"
      ],
      "metadata": {
        "colab": {
          "base_uri": "https://localhost:8080/"
        },
        "id": "HUHR7L2D9v2K",
        "outputId": "eb0fe869-8f1c-4359-bd9f-d4b6cc2d9f87"
      },
      "execution_count": null,
      "outputs": [
        {
          "output_type": "stream",
          "name": "stdout",
          "text": [
            "<class 'pandas.core.frame.DataFrame'>\n",
            "RangeIndex: 4312 entries, 0 to 4311\n",
            "Data columns (total 12 columns):\n",
            " #   Column         Non-Null Count  Dtype \n",
            "---  ------         --------------  ----- \n",
            " 0                  4312 non-null   object\n",
            " 1   Partido        4312 non-null   object\n",
            " 2   Localidad      4312 non-null   object\n",
            " 3   ADSL           4312 non-null   object\n",
            " 4                  4312 non-null   object\n",
            " 5   DIALUP         4312 non-null   object\n",
            " 6   FIBRAOPTICA    4312 non-null   object\n",
            " 7   4G             4312 non-null   object\n",
            " 8                  4312 non-null   object\n",
            " 9   TELEFONIAFIJA  4312 non-null   object\n",
            " 10                 4312 non-null   object\n",
            " 11  SATELITAL      4312 non-null   object\n",
            "dtypes: object(12)\n",
            "memory usage: 404.4+ KB\n"
          ]
        }
      ]
    },
    {
      "cell_type": "markdown",
      "source": [
        "# dataset 16"
      ],
      "metadata": {
        "id": "Ec896KWb-09p"
      }
    },
    {
      "cell_type": "markdown",
      "source": [
        "Conectividad al servicio de Internet,\n",
        "Consulta las tecnologías disponibles en tu localidad para acceder al servicio de Internet fijo y móvil"
      ],
      "metadata": {
        "id": "EO9EFZVDCrQA"
      }
    },
    {
      "cell_type": "code",
      "source": [
        "df16 = pd.read_csv('https://datosabiertos.enacom.gob.ar/rest/datastreams/277615/data.csv')"
      ],
      "metadata": {
        "id": "g-1Js6E6_Bhb"
      },
      "execution_count": null,
      "outputs": []
    },
    {
      "cell_type": "markdown",
      "source": [
        "renombrar columna"
      ],
      "metadata": {
        "id": "ZG8f8UkfEUcA"
      }
    },
    {
      "cell_type": "code",
      "source": [
        "df16.rename({'Unnamed: 0':'Provincia'}, axis=1, inplace=True)"
      ],
      "metadata": {
        "id": "MpuRz2erEIvM"
      },
      "execution_count": null,
      "outputs": []
    },
    {
      "cell_type": "code",
      "source": [
        "df16.head(5)"
      ],
      "metadata": {
        "id": "xMzWrwi__Bhc",
        "colab": {
          "base_uri": "https://localhost:8080/",
          "height": 374
        },
        "outputId": "efcabced-4938-4d90-c757-0851653ab095"
      },
      "execution_count": null,
      "outputs": [
        {
          "output_type": "execute_result",
          "data": {
            "text/plain": [
              "      Provincia       Partido      Localidad  Unnamed: 3 Unnamed: 4  \\\n",
              "0           NaN  Bahía Blanca  Villa Bordeau         0.0        NaN   \n",
              "1  BUENOS AIRES           NaN            NaN         0.0         --   \n",
              "2  BUENOS AIRES           NaN       Balcarce     38376.0         SI   \n",
              "3  BUENOS AIRES           NaN            NaN       337.0         --   \n",
              "4  BUENOS AIRES      Balcarce            NaN       374.0         --   \n",
              "\n",
              "  CABLEMODEM DIALUP Unnamed: 7 Unnamed: 8 WIRELESS TELEFONIAFIJA Unnamed: 11  \\\n",
              "0         --     --         --        NaN       --            --         NaN   \n",
              "1        NaN    NaN         --         --      NaN           NaN          --   \n",
              "2        NaN     SI         SI         --      NaN           NaN          SI   \n",
              "3        NaN    NaN         --         --      NaN            SI         NaN   \n",
              "4         --    NaN         SI         --       SI            SI          SI   \n",
              "\n",
              "  Unnamed: 12       link            Latitud        Unnamed: 15  \n",
              "0          SI  6056020.0  -38,6472605094596                NaN  \n",
              "1          --        NaN  -38,7765069529222  -62,1851833537179  \n",
              "2          SI  6063010.0                NaN  -58,2551665841248  \n",
              "3          --  6063020.0     -37,9412057603                NaN  \n",
              "4         NaN  6063030.0  -37,6254980210026  -58,7461862359423  "
            ],
            "text/html": [
              "\n",
              "  <div id=\"df-3943367b-9664-4d97-aa66-5ecb9625156b\">\n",
              "    <div class=\"colab-df-container\">\n",
              "      <div>\n",
              "<style scoped>\n",
              "    .dataframe tbody tr th:only-of-type {\n",
              "        vertical-align: middle;\n",
              "    }\n",
              "\n",
              "    .dataframe tbody tr th {\n",
              "        vertical-align: top;\n",
              "    }\n",
              "\n",
              "    .dataframe thead th {\n",
              "        text-align: right;\n",
              "    }\n",
              "</style>\n",
              "<table border=\"1\" class=\"dataframe\">\n",
              "  <thead>\n",
              "    <tr style=\"text-align: right;\">\n",
              "      <th></th>\n",
              "      <th>Provincia</th>\n",
              "      <th>Partido</th>\n",
              "      <th>Localidad</th>\n",
              "      <th>Unnamed: 3</th>\n",
              "      <th>Unnamed: 4</th>\n",
              "      <th>CABLEMODEM</th>\n",
              "      <th>DIALUP</th>\n",
              "      <th>Unnamed: 7</th>\n",
              "      <th>Unnamed: 8</th>\n",
              "      <th>WIRELESS</th>\n",
              "      <th>TELEFONIAFIJA</th>\n",
              "      <th>Unnamed: 11</th>\n",
              "      <th>Unnamed: 12</th>\n",
              "      <th>link</th>\n",
              "      <th>Latitud</th>\n",
              "      <th>Unnamed: 15</th>\n",
              "    </tr>\n",
              "  </thead>\n",
              "  <tbody>\n",
              "    <tr>\n",
              "      <th>0</th>\n",
              "      <td>NaN</td>\n",
              "      <td>Bahía Blanca</td>\n",
              "      <td>Villa Bordeau</td>\n",
              "      <td>0.0</td>\n",
              "      <td>NaN</td>\n",
              "      <td>--</td>\n",
              "      <td>--</td>\n",
              "      <td>--</td>\n",
              "      <td>NaN</td>\n",
              "      <td>--</td>\n",
              "      <td>--</td>\n",
              "      <td>NaN</td>\n",
              "      <td>SI</td>\n",
              "      <td>6056020.0</td>\n",
              "      <td>-38,6472605094596</td>\n",
              "      <td>NaN</td>\n",
              "    </tr>\n",
              "    <tr>\n",
              "      <th>1</th>\n",
              "      <td>BUENOS AIRES</td>\n",
              "      <td>NaN</td>\n",
              "      <td>NaN</td>\n",
              "      <td>0.0</td>\n",
              "      <td>--</td>\n",
              "      <td>NaN</td>\n",
              "      <td>NaN</td>\n",
              "      <td>--</td>\n",
              "      <td>--</td>\n",
              "      <td>NaN</td>\n",
              "      <td>NaN</td>\n",
              "      <td>--</td>\n",
              "      <td>--</td>\n",
              "      <td>NaN</td>\n",
              "      <td>-38,7765069529222</td>\n",
              "      <td>-62,1851833537179</td>\n",
              "    </tr>\n",
              "    <tr>\n",
              "      <th>2</th>\n",
              "      <td>BUENOS AIRES</td>\n",
              "      <td>NaN</td>\n",
              "      <td>Balcarce</td>\n",
              "      <td>38376.0</td>\n",
              "      <td>SI</td>\n",
              "      <td>NaN</td>\n",
              "      <td>SI</td>\n",
              "      <td>SI</td>\n",
              "      <td>--</td>\n",
              "      <td>NaN</td>\n",
              "      <td>NaN</td>\n",
              "      <td>SI</td>\n",
              "      <td>SI</td>\n",
              "      <td>6063010.0</td>\n",
              "      <td>NaN</td>\n",
              "      <td>-58,2551665841248</td>\n",
              "    </tr>\n",
              "    <tr>\n",
              "      <th>3</th>\n",
              "      <td>BUENOS AIRES</td>\n",
              "      <td>NaN</td>\n",
              "      <td>NaN</td>\n",
              "      <td>337.0</td>\n",
              "      <td>--</td>\n",
              "      <td>NaN</td>\n",
              "      <td>NaN</td>\n",
              "      <td>--</td>\n",
              "      <td>--</td>\n",
              "      <td>NaN</td>\n",
              "      <td>SI</td>\n",
              "      <td>NaN</td>\n",
              "      <td>--</td>\n",
              "      <td>6063020.0</td>\n",
              "      <td>-37,9412057603</td>\n",
              "      <td>NaN</td>\n",
              "    </tr>\n",
              "    <tr>\n",
              "      <th>4</th>\n",
              "      <td>BUENOS AIRES</td>\n",
              "      <td>Balcarce</td>\n",
              "      <td>NaN</td>\n",
              "      <td>374.0</td>\n",
              "      <td>--</td>\n",
              "      <td>--</td>\n",
              "      <td>NaN</td>\n",
              "      <td>SI</td>\n",
              "      <td>--</td>\n",
              "      <td>SI</td>\n",
              "      <td>SI</td>\n",
              "      <td>SI</td>\n",
              "      <td>NaN</td>\n",
              "      <td>6063030.0</td>\n",
              "      <td>-37,6254980210026</td>\n",
              "      <td>-58,7461862359423</td>\n",
              "    </tr>\n",
              "  </tbody>\n",
              "</table>\n",
              "</div>\n",
              "      <button class=\"colab-df-convert\" onclick=\"convertToInteractive('df-3943367b-9664-4d97-aa66-5ecb9625156b')\"\n",
              "              title=\"Convert this dataframe to an interactive table.\"\n",
              "              style=\"display:none;\">\n",
              "        \n",
              "  <svg xmlns=\"http://www.w3.org/2000/svg\" height=\"24px\"viewBox=\"0 0 24 24\"\n",
              "       width=\"24px\">\n",
              "    <path d=\"M0 0h24v24H0V0z\" fill=\"none\"/>\n",
              "    <path d=\"M18.56 5.44l.94 2.06.94-2.06 2.06-.94-2.06-.94-.94-2.06-.94 2.06-2.06.94zm-11 1L8.5 8.5l.94-2.06 2.06-.94-2.06-.94L8.5 2.5l-.94 2.06-2.06.94zm10 10l.94 2.06.94-2.06 2.06-.94-2.06-.94-.94-2.06-.94 2.06-2.06.94z\"/><path d=\"M17.41 7.96l-1.37-1.37c-.4-.4-.92-.59-1.43-.59-.52 0-1.04.2-1.43.59L10.3 9.45l-7.72 7.72c-.78.78-.78 2.05 0 2.83L4 21.41c.39.39.9.59 1.41.59.51 0 1.02-.2 1.41-.59l7.78-7.78 2.81-2.81c.8-.78.8-2.07 0-2.86zM5.41 20L4 18.59l7.72-7.72 1.47 1.35L5.41 20z\"/>\n",
              "  </svg>\n",
              "      </button>\n",
              "      \n",
              "  <style>\n",
              "    .colab-df-container {\n",
              "      display:flex;\n",
              "      flex-wrap:wrap;\n",
              "      gap: 12px;\n",
              "    }\n",
              "\n",
              "    .colab-df-convert {\n",
              "      background-color: #E8F0FE;\n",
              "      border: none;\n",
              "      border-radius: 50%;\n",
              "      cursor: pointer;\n",
              "      display: none;\n",
              "      fill: #1967D2;\n",
              "      height: 32px;\n",
              "      padding: 0 0 0 0;\n",
              "      width: 32px;\n",
              "    }\n",
              "\n",
              "    .colab-df-convert:hover {\n",
              "      background-color: #E2EBFA;\n",
              "      box-shadow: 0px 1px 2px rgba(60, 64, 67, 0.3), 0px 1px 3px 1px rgba(60, 64, 67, 0.15);\n",
              "      fill: #174EA6;\n",
              "    }\n",
              "\n",
              "    [theme=dark] .colab-df-convert {\n",
              "      background-color: #3B4455;\n",
              "      fill: #D2E3FC;\n",
              "    }\n",
              "\n",
              "    [theme=dark] .colab-df-convert:hover {\n",
              "      background-color: #434B5C;\n",
              "      box-shadow: 0px 1px 3px 1px rgba(0, 0, 0, 0.15);\n",
              "      filter: drop-shadow(0px 1px 2px rgba(0, 0, 0, 0.3));\n",
              "      fill: #FFFFFF;\n",
              "    }\n",
              "  </style>\n",
              "\n",
              "      <script>\n",
              "        const buttonEl =\n",
              "          document.querySelector('#df-3943367b-9664-4d97-aa66-5ecb9625156b button.colab-df-convert');\n",
              "        buttonEl.style.display =\n",
              "          google.colab.kernel.accessAllowed ? 'block' : 'none';\n",
              "\n",
              "        async function convertToInteractive(key) {\n",
              "          const element = document.querySelector('#df-3943367b-9664-4d97-aa66-5ecb9625156b');\n",
              "          const dataTable =\n",
              "            await google.colab.kernel.invokeFunction('convertToInteractive',\n",
              "                                                     [key], {});\n",
              "          if (!dataTable) return;\n",
              "\n",
              "          const docLinkHtml = 'Like what you see? Visit the ' +\n",
              "            '<a target=\"_blank\" href=https://colab.research.google.com/notebooks/data_table.ipynb>data table notebook</a>'\n",
              "            + ' to learn more about interactive tables.';\n",
              "          element.innerHTML = '';\n",
              "          dataTable['output_type'] = 'display_data';\n",
              "          await google.colab.output.renderOutput(dataTable, element);\n",
              "          const docLink = document.createElement('div');\n",
              "          docLink.innerHTML = docLinkHtml;\n",
              "          element.appendChild(docLink);\n",
              "        }\n",
              "      </script>\n",
              "    </div>\n",
              "  </div>\n",
              "  "
            ]
          },
          "metadata": {},
          "execution_count": 97
        }
      ]
    },
    {
      "cell_type": "code",
      "source": [
        "df16.info()"
      ],
      "metadata": {
        "colab": {
          "base_uri": "https://localhost:8080/"
        },
        "outputId": "fe640e20-8c13-42d7-9357-615c29eebe14",
        "id": "B0Nsqv6M_Bhc"
      },
      "execution_count": null,
      "outputs": [
        {
          "output_type": "stream",
          "name": "stdout",
          "text": [
            "<class 'pandas.core.frame.DataFrame'>\n",
            "RangeIndex: 4312 entries, 0 to 4311\n",
            "Data columns (total 16 columns):\n",
            " #   Column         Non-Null Count  Dtype  \n",
            "---  ------         --------------  -----  \n",
            " 0   Provincia      2871 non-null   object \n",
            " 1   Partido        2866 non-null   object \n",
            " 2   Localidad      2884 non-null   object \n",
            " 3   Unnamed: 3     2879 non-null   float64\n",
            " 4   Unnamed: 4     2873 non-null   object \n",
            " 5   CABLEMODEM     2862 non-null   object \n",
            " 6   DIALUP         2882 non-null   object \n",
            " 7   Unnamed: 7     2878 non-null   object \n",
            " 8   Unnamed: 8     2872 non-null   object \n",
            " 9   WIRELESS       2864 non-null   object \n",
            " 10  TELEFONIAFIJA  2873 non-null   object \n",
            " 11  Unnamed: 11    2871 non-null   object \n",
            " 12  Unnamed: 12    2879 non-null   object \n",
            " 13  link           2865 non-null   float64\n",
            " 14  Latitud        2872 non-null   object \n",
            " 15  Unnamed: 15    2879 non-null   object \n",
            "dtypes: float64(2), object(14)\n",
            "memory usage: 539.1+ KB\n"
          ]
        }
      ]
    },
    {
      "cell_type": "markdown",
      "source": [
        "# -----------------------"
      ],
      "metadata": {
        "id": "JiRoel2edS0K"
      }
    },
    {
      "cell_type": "markdown",
      "source": [
        "# dfA\n",
        "### df_35 = df1 + df2 + df4 + df7 + df9 + df12"
      ],
      "metadata": {
        "id": "7w8dfuHhGdHC"
      }
    },
    {
      "cell_type": "code",
      "source": [
        "df_35 = df1.merge(df2, how='inner', on=['Año', 'Trimestre'], suffixes=('_a', '_b'))"
      ],
      "metadata": {
        "id": "kCZ3rmbfGcv2"
      },
      "execution_count": null,
      "outputs": []
    },
    {
      "cell_type": "code",
      "source": [
        "df_35 = df_35.merge(df4, how='inner', on=['Año', 'Trimestre'], suffixes=('_c', '_d'))"
      ],
      "metadata": {
        "id": "_dju2OKjHZTv"
      },
      "execution_count": null,
      "outputs": []
    },
    {
      "cell_type": "code",
      "source": [
        "df_35 = df_35.merge(df7, how='inner', on=['Año', 'Trimestre'], suffixes=('_e', '_f'))"
      ],
      "metadata": {
        "id": "xqAuWzLMHZ5H"
      },
      "execution_count": null,
      "outputs": []
    },
    {
      "cell_type": "code",
      "source": [
        "df_35 = df_35.merge(df9, how='inner', on=['Año', 'Trimestre'], suffixes=('_g', '_h'))"
      ],
      "metadata": {
        "id": "tTIl87h7HisU"
      },
      "execution_count": null,
      "outputs": []
    },
    {
      "cell_type": "code",
      "source": [
        "df_35 = df_35.merge(df12, how='inner', on=['Año', 'Trimestre'], suffixes=('_i', '_j'))"
      ],
      "metadata": {
        "id": "ZfRRaF7RHlCX"
      },
      "execution_count": null,
      "outputs": []
    },
    {
      "cell_type": "code",
      "source": [
        "pd.set_option('display.max_columns', None) # mostrar todas las columnas\n",
        "df_35.sample(5)"
      ],
      "metadata": {
        "id": "5QR5RuOTHtVM"
      },
      "execution_count": null,
      "outputs": []
    },
    {
      "cell_type": "code",
      "source": [
        "df_35.info()"
      ],
      "metadata": {
        "id": "AhlCP2kDH_06"
      },
      "execution_count": null,
      "outputs": []
    },
    {
      "cell_type": "code",
      "source": [
        "# eliminar columnas\n",
        "df_35.drop(['Periodo_b', 'Total_d', 'Periodo_i', 'Periodo_j'], axis=1, inplace=True)"
      ],
      "metadata": {
        "id": "5FvDAyqIJnCg"
      },
      "execution_count": null,
      "outputs": []
    },
    {
      "cell_type": "code",
      "source": [
        "# renombrar columnas\n",
        "df_35.rename({'Total_c': 'Total_a'}, axis=1, inplace=True)"
      ],
      "metadata": {
        "id": "1qD4CGbXKgjj"
      },
      "execution_count": null,
      "outputs": []
    },
    {
      "cell_type": "code",
      "source": [
        "df_35.sample(5)"
      ],
      "metadata": {
        "colab": {
          "base_uri": "https://localhost:8080/",
          "height": 426
        },
        "id": "21qRymOzKq8V",
        "outputId": "ea9286a8-9336-48f3-e8b2-79142ffe9f85"
      },
      "execution_count": null,
      "outputs": [
        {
          "output_type": "execute_result",
          "data": {
            "text/plain": [
              "     Año  Trimestre Accesos por cada 100 hogares Accesos por cada 100 hab  \\\n",
              "11  2019          4                        62,92                    19,49   \n",
              "5   2021          2                        69,24                    21,55   \n",
              "26  2016          1                        51,85                     15,9   \n",
              "12  2019          3                        65,79                    20,36   \n",
              "7   2020          4                        67,62                    21,01   \n",
              "\n",
              "        Periodo_a Banda ancha fija Dial up    Total_a       ADSL Cablemodem  \\\n",
              "11   Oct-Dic 2019        8,783,053  10,128  8,793,181  2.414.575  4.883.869   \n",
              "5    Abr-Jun 2021        9,852,702  10,382  9,863,084  2.018.587  5.641.731   \n",
              "26   Ene-Mar 2016        6,874,704  32,652  6,907,356  3.792.493  2.806.359   \n",
              "12  Jul-Sept 2019        9,142,891  21,793  9,164,684  2.909.805  4.800.091   \n",
              "7    Oct-Dic 2020        9,561,546  10,016  9,571,562  2.213.949  5.371.824   \n",
              "\n",
              "   Fibra óptica  Wireless    Otros Mbps (Media de bajada)    Trimestre.1  \\\n",
              "11      941.295   340.144  213.298                  28,26   Oct-Dic 2019   \n",
              "5     1.472.246   476.968  253.552                  45,63   Abr-Jun 2021   \n",
              "26      164.371    85.370   58.763                   5,08   Ene-Mar 2016   \n",
              "12      852.221   338.241  264.326                  24,18  Jul-Sept 2019   \n",
              "7     1.311.199   421.554  253.036                  42,36   Oct-Dic 2020   \n",
              "\n",
              "    Hasta 512 kbps  Entre 512 Kbps y 1 Mbps Entre 1 Mbps y 6 Mbps  \\\n",
              "11          38.272                   28.980             2.792.307   \n",
              "5           40.172                   42.024             2.531.271   \n",
              "26          30.428                  404.810             4.944.358   \n",
              "12         241.713                   80.599             3.309.137   \n",
              "7           39.510                   42.185             2.622.638   \n",
              "\n",
              "   Entre 6 Mbps y 10 Mbps Entre 10 Mbps y 20 Mbps Entre 20 Mbps y 30 Mbps  \\\n",
              "11              1.046.128                 851.619               1.004.083   \n",
              "5               1.080.279                 693.277                 647.401   \n",
              "26                762.999                 641.646                  27.664   \n",
              "12              1.026.859                 806.466               1.141.545   \n",
              "7               1.073.875                 786.595                 582.420   \n",
              "\n",
              "   Más de 30 Mbps    OTROS      Total Ingresos (miles de pesos)  \n",
              "11      2.830.746  201.046  8.793.181                24.169.251  \n",
              "5       4.661.291  167.369  9.863.084                38.239.667  \n",
              "26         23.380    0.000  6.835.285                 5.936.845  \n",
              "12      2.314.898  243.467  9.164.684                21.652.748  \n",
              "7       4.239.237  185.102  9.571.562                33.539.703  "
            ],
            "text/html": [
              "\n",
              "  <div id=\"df-7866ce44-4ee6-4d6c-99a6-a365424c0cd2\">\n",
              "    <div class=\"colab-df-container\">\n",
              "      <div>\n",
              "<style scoped>\n",
              "    .dataframe tbody tr th:only-of-type {\n",
              "        vertical-align: middle;\n",
              "    }\n",
              "\n",
              "    .dataframe tbody tr th {\n",
              "        vertical-align: top;\n",
              "    }\n",
              "\n",
              "    .dataframe thead th {\n",
              "        text-align: right;\n",
              "    }\n",
              "</style>\n",
              "<table border=\"1\" class=\"dataframe\">\n",
              "  <thead>\n",
              "    <tr style=\"text-align: right;\">\n",
              "      <th></th>\n",
              "      <th>Año</th>\n",
              "      <th>Trimestre</th>\n",
              "      <th>Accesos por cada 100 hogares</th>\n",
              "      <th>Accesos por cada 100 hab</th>\n",
              "      <th>Periodo_a</th>\n",
              "      <th>Banda ancha fija</th>\n",
              "      <th>Dial up</th>\n",
              "      <th>Total_a</th>\n",
              "      <th>ADSL</th>\n",
              "      <th>Cablemodem</th>\n",
              "      <th>Fibra óptica</th>\n",
              "      <th>Wireless</th>\n",
              "      <th>Otros</th>\n",
              "      <th>Mbps (Media de bajada)</th>\n",
              "      <th>Trimestre.1</th>\n",
              "      <th>Hasta 512 kbps</th>\n",
              "      <th>Entre 512 Kbps y 1 Mbps</th>\n",
              "      <th>Entre 1 Mbps y 6 Mbps</th>\n",
              "      <th>Entre 6 Mbps y 10 Mbps</th>\n",
              "      <th>Entre 10 Mbps y 20 Mbps</th>\n",
              "      <th>Entre 20 Mbps y 30 Mbps</th>\n",
              "      <th>Más de 30 Mbps</th>\n",
              "      <th>OTROS</th>\n",
              "      <th>Total</th>\n",
              "      <th>Ingresos (miles de pesos)</th>\n",
              "    </tr>\n",
              "  </thead>\n",
              "  <tbody>\n",
              "    <tr>\n",
              "      <th>11</th>\n",
              "      <td>2019</td>\n",
              "      <td>4</td>\n",
              "      <td>62,92</td>\n",
              "      <td>19,49</td>\n",
              "      <td>Oct-Dic 2019</td>\n",
              "      <td>8,783,053</td>\n",
              "      <td>10,128</td>\n",
              "      <td>8,793,181</td>\n",
              "      <td>2.414.575</td>\n",
              "      <td>4.883.869</td>\n",
              "      <td>941.295</td>\n",
              "      <td>340.144</td>\n",
              "      <td>213.298</td>\n",
              "      <td>28,26</td>\n",
              "      <td>Oct-Dic 2019</td>\n",
              "      <td>38.272</td>\n",
              "      <td>28.980</td>\n",
              "      <td>2.792.307</td>\n",
              "      <td>1.046.128</td>\n",
              "      <td>851.619</td>\n",
              "      <td>1.004.083</td>\n",
              "      <td>2.830.746</td>\n",
              "      <td>201.046</td>\n",
              "      <td>8.793.181</td>\n",
              "      <td>24.169.251</td>\n",
              "    </tr>\n",
              "    <tr>\n",
              "      <th>5</th>\n",
              "      <td>2021</td>\n",
              "      <td>2</td>\n",
              "      <td>69,24</td>\n",
              "      <td>21,55</td>\n",
              "      <td>Abr-Jun 2021</td>\n",
              "      <td>9,852,702</td>\n",
              "      <td>10,382</td>\n",
              "      <td>9,863,084</td>\n",
              "      <td>2.018.587</td>\n",
              "      <td>5.641.731</td>\n",
              "      <td>1.472.246</td>\n",
              "      <td>476.968</td>\n",
              "      <td>253.552</td>\n",
              "      <td>45,63</td>\n",
              "      <td>Abr-Jun 2021</td>\n",
              "      <td>40.172</td>\n",
              "      <td>42.024</td>\n",
              "      <td>2.531.271</td>\n",
              "      <td>1.080.279</td>\n",
              "      <td>693.277</td>\n",
              "      <td>647.401</td>\n",
              "      <td>4.661.291</td>\n",
              "      <td>167.369</td>\n",
              "      <td>9.863.084</td>\n",
              "      <td>38.239.667</td>\n",
              "    </tr>\n",
              "    <tr>\n",
              "      <th>26</th>\n",
              "      <td>2016</td>\n",
              "      <td>1</td>\n",
              "      <td>51,85</td>\n",
              "      <td>15,9</td>\n",
              "      <td>Ene-Mar 2016</td>\n",
              "      <td>6,874,704</td>\n",
              "      <td>32,652</td>\n",
              "      <td>6,907,356</td>\n",
              "      <td>3.792.493</td>\n",
              "      <td>2.806.359</td>\n",
              "      <td>164.371</td>\n",
              "      <td>85.370</td>\n",
              "      <td>58.763</td>\n",
              "      <td>5,08</td>\n",
              "      <td>Ene-Mar 2016</td>\n",
              "      <td>30.428</td>\n",
              "      <td>404.810</td>\n",
              "      <td>4.944.358</td>\n",
              "      <td>762.999</td>\n",
              "      <td>641.646</td>\n",
              "      <td>27.664</td>\n",
              "      <td>23.380</td>\n",
              "      <td>0.000</td>\n",
              "      <td>6.835.285</td>\n",
              "      <td>5.936.845</td>\n",
              "    </tr>\n",
              "    <tr>\n",
              "      <th>12</th>\n",
              "      <td>2019</td>\n",
              "      <td>3</td>\n",
              "      <td>65,79</td>\n",
              "      <td>20,36</td>\n",
              "      <td>Jul-Sept 2019</td>\n",
              "      <td>9,142,891</td>\n",
              "      <td>21,793</td>\n",
              "      <td>9,164,684</td>\n",
              "      <td>2.909.805</td>\n",
              "      <td>4.800.091</td>\n",
              "      <td>852.221</td>\n",
              "      <td>338.241</td>\n",
              "      <td>264.326</td>\n",
              "      <td>24,18</td>\n",
              "      <td>Jul-Sept 2019</td>\n",
              "      <td>241.713</td>\n",
              "      <td>80.599</td>\n",
              "      <td>3.309.137</td>\n",
              "      <td>1.026.859</td>\n",
              "      <td>806.466</td>\n",
              "      <td>1.141.545</td>\n",
              "      <td>2.314.898</td>\n",
              "      <td>243.467</td>\n",
              "      <td>9.164.684</td>\n",
              "      <td>21.652.748</td>\n",
              "    </tr>\n",
              "    <tr>\n",
              "      <th>7</th>\n",
              "      <td>2020</td>\n",
              "      <td>4</td>\n",
              "      <td>67,62</td>\n",
              "      <td>21,01</td>\n",
              "      <td>Oct-Dic 2020</td>\n",
              "      <td>9,561,546</td>\n",
              "      <td>10,016</td>\n",
              "      <td>9,571,562</td>\n",
              "      <td>2.213.949</td>\n",
              "      <td>5.371.824</td>\n",
              "      <td>1.311.199</td>\n",
              "      <td>421.554</td>\n",
              "      <td>253.036</td>\n",
              "      <td>42,36</td>\n",
              "      <td>Oct-Dic 2020</td>\n",
              "      <td>39.510</td>\n",
              "      <td>42.185</td>\n",
              "      <td>2.622.638</td>\n",
              "      <td>1.073.875</td>\n",
              "      <td>786.595</td>\n",
              "      <td>582.420</td>\n",
              "      <td>4.239.237</td>\n",
              "      <td>185.102</td>\n",
              "      <td>9.571.562</td>\n",
              "      <td>33.539.703</td>\n",
              "    </tr>\n",
              "  </tbody>\n",
              "</table>\n",
              "</div>\n",
              "      <button class=\"colab-df-convert\" onclick=\"convertToInteractive('df-7866ce44-4ee6-4d6c-99a6-a365424c0cd2')\"\n",
              "              title=\"Convert this dataframe to an interactive table.\"\n",
              "              style=\"display:none;\">\n",
              "        \n",
              "  <svg xmlns=\"http://www.w3.org/2000/svg\" height=\"24px\"viewBox=\"0 0 24 24\"\n",
              "       width=\"24px\">\n",
              "    <path d=\"M0 0h24v24H0V0z\" fill=\"none\"/>\n",
              "    <path d=\"M18.56 5.44l.94 2.06.94-2.06 2.06-.94-2.06-.94-.94-2.06-.94 2.06-2.06.94zm-11 1L8.5 8.5l.94-2.06 2.06-.94-2.06-.94L8.5 2.5l-.94 2.06-2.06.94zm10 10l.94 2.06.94-2.06 2.06-.94-2.06-.94-.94-2.06-.94 2.06-2.06.94z\"/><path d=\"M17.41 7.96l-1.37-1.37c-.4-.4-.92-.59-1.43-.59-.52 0-1.04.2-1.43.59L10.3 9.45l-7.72 7.72c-.78.78-.78 2.05 0 2.83L4 21.41c.39.39.9.59 1.41.59.51 0 1.02-.2 1.41-.59l7.78-7.78 2.81-2.81c.8-.78.8-2.07 0-2.86zM5.41 20L4 18.59l7.72-7.72 1.47 1.35L5.41 20z\"/>\n",
              "  </svg>\n",
              "      </button>\n",
              "      \n",
              "  <style>\n",
              "    .colab-df-container {\n",
              "      display:flex;\n",
              "      flex-wrap:wrap;\n",
              "      gap: 12px;\n",
              "    }\n",
              "\n",
              "    .colab-df-convert {\n",
              "      background-color: #E8F0FE;\n",
              "      border: none;\n",
              "      border-radius: 50%;\n",
              "      cursor: pointer;\n",
              "      display: none;\n",
              "      fill: #1967D2;\n",
              "      height: 32px;\n",
              "      padding: 0 0 0 0;\n",
              "      width: 32px;\n",
              "    }\n",
              "\n",
              "    .colab-df-convert:hover {\n",
              "      background-color: #E2EBFA;\n",
              "      box-shadow: 0px 1px 2px rgba(60, 64, 67, 0.3), 0px 1px 3px 1px rgba(60, 64, 67, 0.15);\n",
              "      fill: #174EA6;\n",
              "    }\n",
              "\n",
              "    [theme=dark] .colab-df-convert {\n",
              "      background-color: #3B4455;\n",
              "      fill: #D2E3FC;\n",
              "    }\n",
              "\n",
              "    [theme=dark] .colab-df-convert:hover {\n",
              "      background-color: #434B5C;\n",
              "      box-shadow: 0px 1px 3px 1px rgba(0, 0, 0, 0.15);\n",
              "      filter: drop-shadow(0px 1px 2px rgba(0, 0, 0, 0.3));\n",
              "      fill: #FFFFFF;\n",
              "    }\n",
              "  </style>\n",
              "\n",
              "      <script>\n",
              "        const buttonEl =\n",
              "          document.querySelector('#df-7866ce44-4ee6-4d6c-99a6-a365424c0cd2 button.colab-df-convert');\n",
              "        buttonEl.style.display =\n",
              "          google.colab.kernel.accessAllowed ? 'block' : 'none';\n",
              "\n",
              "        async function convertToInteractive(key) {\n",
              "          const element = document.querySelector('#df-7866ce44-4ee6-4d6c-99a6-a365424c0cd2');\n",
              "          const dataTable =\n",
              "            await google.colab.kernel.invokeFunction('convertToInteractive',\n",
              "                                                     [key], {});\n",
              "          if (!dataTable) return;\n",
              "\n",
              "          const docLinkHtml = 'Like what you see? Visit the ' +\n",
              "            '<a target=\"_blank\" href=https://colab.research.google.com/notebooks/data_table.ipynb>data table notebook</a>'\n",
              "            + ' to learn more about interactive tables.';\n",
              "          element.innerHTML = '';\n",
              "          dataTable['output_type'] = 'display_data';\n",
              "          await google.colab.output.renderOutput(dataTable, element);\n",
              "          const docLink = document.createElement('div');\n",
              "          docLink.innerHTML = docLinkHtml;\n",
              "          element.appendChild(docLink);\n",
              "        }\n",
              "      </script>\n",
              "    </div>\n",
              "  </div>\n",
              "  "
            ]
          },
          "metadata": {},
          "execution_count": 108
        }
      ]
    },
    {
      "cell_type": "code",
      "source": [
        "df_35.info()"
      ],
      "metadata": {
        "colab": {
          "base_uri": "https://localhost:8080/"
        },
        "id": "q27ooXnvK1zW",
        "outputId": "7eb33bbf-d797-473c-e64d-c6076f449793"
      },
      "execution_count": null,
      "outputs": [
        {
          "output_type": "stream",
          "name": "stdout",
          "text": [
            "<class 'pandas.core.frame.DataFrame'>\n",
            "Int64Index: 35 entries, 0 to 34\n",
            "Data columns (total 25 columns):\n",
            " #   Column                        Non-Null Count  Dtype  \n",
            "---  ------                        --------------  -----  \n",
            " 0   Año                           35 non-null     int64  \n",
            " 1   Trimestre                     35 non-null     int64  \n",
            " 2   Accesos por cada 100 hogares  35 non-null     object \n",
            " 3   Accesos por cada 100 hab      35 non-null     object \n",
            " 4   Periodo_a                     35 non-null     object \n",
            " 5   Banda ancha fija              35 non-null     object \n",
            " 6   Dial up                       35 non-null     object \n",
            " 7   Total_a                       35 non-null     object \n",
            " 8   ADSL                          35 non-null     object \n",
            " 9   Cablemodem                    35 non-null     object \n",
            " 10  Fibra óptica                  35 non-null     object \n",
            " 11  Wireless                      35 non-null     float64\n",
            " 12  Otros                         35 non-null     float64\n",
            " 13  Mbps (Media de bajada)        35 non-null     object \n",
            " 14  Trimestre.1                   35 non-null     object \n",
            " 15  Hasta 512 kbps                35 non-null     float64\n",
            " 16  Entre 512 Kbps y 1 Mbps       35 non-null     float64\n",
            " 17  Entre 1 Mbps y 6 Mbps         35 non-null     object \n",
            " 18  Entre 6 Mbps y 10 Mbps        35 non-null     object \n",
            " 19  Entre 10 Mbps y 20 Mbps       35 non-null     object \n",
            " 20  Entre 20 Mbps y 30 Mbps       35 non-null     object \n",
            " 21  Más de 30 Mbps                35 non-null     object \n",
            " 22  OTROS                         35 non-null     float64\n",
            " 23  Total                         35 non-null     object \n",
            " 24  Ingresos (miles de pesos)     35 non-null     object \n",
            "dtypes: float64(5), int64(2), object(18)\n",
            "memory usage: 7.1+ KB\n"
          ]
        }
      ]
    },
    {
      "cell_type": "code",
      "source": [
        "# dataset\n",
        "df_35.to_csv('dfA.csv', index=False)"
      ],
      "metadata": {
        "id": "C97WgdTaOyof"
      },
      "execution_count": null,
      "outputs": []
    },
    {
      "cell_type": "markdown",
      "source": [
        "# ------------------------"
      ],
      "metadata": {
        "id": "Xl7qWZ7UGYUN"
      }
    },
    {
      "cell_type": "markdown",
      "source": [
        "# dfB\n",
        "### df_840 = df0 + df3 + df5 + df8 + df10"
      ],
      "metadata": {
        "id": "gKSovqHGv-QU"
      }
    },
    {
      "cell_type": "code",
      "source": [
        "df_840 = df0.merge(df3, how='inner', on=['Año', 'Trimestre', 'Provincia'], suffixes=('_a', '_b'))"
      ],
      "metadata": {
        "id": "NWlbWTY_dVlV"
      },
      "execution_count": null,
      "outputs": []
    },
    {
      "cell_type": "code",
      "source": [
        "df_840 = df_840.merge(df5, how='inner', on=['Año', 'Trimestre', 'Provincia'], suffixes=('_c', '_d'))"
      ],
      "metadata": {
        "id": "uaWVBWnfkEBi"
      },
      "execution_count": null,
      "outputs": []
    },
    {
      "cell_type": "code",
      "source": [
        "df_840 = df_840.merge(df8, how='inner', on=['Año', 'Trimestre', 'Provincia'], suffixes=('_e', '_f'))"
      ],
      "metadata": {
        "id": "yYxKbd3tLr22"
      },
      "execution_count": null,
      "outputs": []
    },
    {
      "cell_type": "code",
      "source": [
        "df_840 = df_840.merge(df10, how='inner', on=['Año', 'Trimestre', 'Provincia'], suffixes=('_g', '_h'))"
      ],
      "metadata": {
        "id": "kT2qfuY_Lwv0"
      },
      "execution_count": null,
      "outputs": []
    },
    {
      "cell_type": "code",
      "source": [
        "df_840.sample(5)"
      ],
      "metadata": {
        "id": "DOfTOxlWkkcq"
      },
      "execution_count": null,
      "outputs": []
    },
    {
      "cell_type": "code",
      "source": [
        "df_840.info()"
      ],
      "metadata": {
        "id": "8WFL4fINkSPa"
      },
      "execution_count": null,
      "outputs": []
    },
    {
      "cell_type": "code",
      "source": [
        "# eliminar columnas\n",
        "df_840.drop(['Total_d'], axis=1, inplace=True)"
      ],
      "metadata": {
        "id": "2W1GPQnMMFk4"
      },
      "execution_count": null,
      "outputs": []
    },
    {
      "cell_type": "code",
      "source": [
        "# renombrar columnas\n",
        "df_840.rename({'Total_c': 'Total_a'}, axis=1, inplace=True)"
      ],
      "metadata": {
        "id": "OaLwotrLMMYW"
      },
      "execution_count": null,
      "outputs": []
    },
    {
      "cell_type": "code",
      "source": [
        "df_840.sample(5)"
      ],
      "metadata": {
        "colab": {
          "base_uri": "https://localhost:8080/",
          "height": 340
        },
        "id": "2bIEQ142MXPL",
        "outputId": "d1d97178-9a9c-444c-b1c4-4ed86eb672da"
      },
      "execution_count": null,
      "outputs": [
        {
          "output_type": "execute_result",
          "data": {
            "text/plain": [
              "      Año  Trimestre   Provincia Accesos por cada 100 hogares  \\\n",
              "658  2015          4    La Pampa                        58,76   \n",
              "107  2021          3    La Rioja                        77,26   \n",
              "147  2021          1       Chaco                        43,14   \n",
              "510  2017          2  Corrientes                        31,39   \n",
              "201  2020          3       Jujuy                        54,04   \n",
              "\n",
              "    Banda ancha fija Dial up  Total_a    ADSL Cablemodem Fibra óptica  \\\n",
              "658           66,054     312   66,366  12,755     42,705        4,327   \n",
              "107           82,157       3   82,160  11,329     54,744        9,444   \n",
              "147          139,767       3  139,770  43,214     61,251       25,426   \n",
              "510           90,085      12   90,097  55,262     33,192          258   \n",
              "201          106,728     - 0  106,728  32,611     57,682       11,112   \n",
              "\n",
              "    Wireless  Otros Mbps (Media de bajada) HASTA 512 kbps + 512 Kbps - 1 Mbps  \\\n",
              "658    6,205    374                   2.94            592              12,951   \n",
              "107    6,613     30                  38.87             18                   1   \n",
              "147    8,004  1,875                  33.63            301                 112   \n",
              "510    1,354     31                   6.79             15               5,912   \n",
              "201      952  4,371                  21.91             55                 182   \n",
              "\n",
              "    + 1 Mbps - 6 Mbps + 6 Mbps - 10 Mbps + 10 Mbps - 20 Mbps  \\\n",
              "658            48,798                 16                  63   \n",
              "107             5,366              5,979              23,315   \n",
              "147            24,357             22,102              27,556   \n",
              "510            46,483             21,776              13,043   \n",
              "201            32,131             10,566              45,198   \n",
              "\n",
              "    + 20 Mbps - 30 Mbps + 30 Mbps  OTROS    Total  \n",
              "658                  49        10      0   62,479  \n",
              "107               4,868    42,613      0   82,160  \n",
              "147              14,496    42,462  8,384  139,770  \n",
              "510               2,218       647      0   90,094  \n",
              "201                 293    15,238  3,065  106,728  "
            ],
            "text/html": [
              "\n",
              "  <div id=\"df-a3ab0a30-1cbb-44e1-bf80-0e52e6766d4b\">\n",
              "    <div class=\"colab-df-container\">\n",
              "      <div>\n",
              "<style scoped>\n",
              "    .dataframe tbody tr th:only-of-type {\n",
              "        vertical-align: middle;\n",
              "    }\n",
              "\n",
              "    .dataframe tbody tr th {\n",
              "        vertical-align: top;\n",
              "    }\n",
              "\n",
              "    .dataframe thead th {\n",
              "        text-align: right;\n",
              "    }\n",
              "</style>\n",
              "<table border=\"1\" class=\"dataframe\">\n",
              "  <thead>\n",
              "    <tr style=\"text-align: right;\">\n",
              "      <th></th>\n",
              "      <th>Año</th>\n",
              "      <th>Trimestre</th>\n",
              "      <th>Provincia</th>\n",
              "      <th>Accesos por cada 100 hogares</th>\n",
              "      <th>Banda ancha fija</th>\n",
              "      <th>Dial up</th>\n",
              "      <th>Total_a</th>\n",
              "      <th>ADSL</th>\n",
              "      <th>Cablemodem</th>\n",
              "      <th>Fibra óptica</th>\n",
              "      <th>Wireless</th>\n",
              "      <th>Otros</th>\n",
              "      <th>Mbps (Media de bajada)</th>\n",
              "      <th>HASTA 512 kbps</th>\n",
              "      <th>+ 512 Kbps - 1 Mbps</th>\n",
              "      <th>+ 1 Mbps - 6 Mbps</th>\n",
              "      <th>+ 6 Mbps - 10 Mbps</th>\n",
              "      <th>+ 10 Mbps - 20 Mbps</th>\n",
              "      <th>+ 20 Mbps - 30 Mbps</th>\n",
              "      <th>+ 30 Mbps</th>\n",
              "      <th>OTROS</th>\n",
              "      <th>Total</th>\n",
              "    </tr>\n",
              "  </thead>\n",
              "  <tbody>\n",
              "    <tr>\n",
              "      <th>658</th>\n",
              "      <td>2015</td>\n",
              "      <td>4</td>\n",
              "      <td>La Pampa</td>\n",
              "      <td>58,76</td>\n",
              "      <td>66,054</td>\n",
              "      <td>312</td>\n",
              "      <td>66,366</td>\n",
              "      <td>12,755</td>\n",
              "      <td>42,705</td>\n",
              "      <td>4,327</td>\n",
              "      <td>6,205</td>\n",
              "      <td>374</td>\n",
              "      <td>2.94</td>\n",
              "      <td>592</td>\n",
              "      <td>12,951</td>\n",
              "      <td>48,798</td>\n",
              "      <td>16</td>\n",
              "      <td>63</td>\n",
              "      <td>49</td>\n",
              "      <td>10</td>\n",
              "      <td>0</td>\n",
              "      <td>62,479</td>\n",
              "    </tr>\n",
              "    <tr>\n",
              "      <th>107</th>\n",
              "      <td>2021</td>\n",
              "      <td>3</td>\n",
              "      <td>La Rioja</td>\n",
              "      <td>77,26</td>\n",
              "      <td>82,157</td>\n",
              "      <td>3</td>\n",
              "      <td>82,160</td>\n",
              "      <td>11,329</td>\n",
              "      <td>54,744</td>\n",
              "      <td>9,444</td>\n",
              "      <td>6,613</td>\n",
              "      <td>30</td>\n",
              "      <td>38.87</td>\n",
              "      <td>18</td>\n",
              "      <td>1</td>\n",
              "      <td>5,366</td>\n",
              "      <td>5,979</td>\n",
              "      <td>23,315</td>\n",
              "      <td>4,868</td>\n",
              "      <td>42,613</td>\n",
              "      <td>0</td>\n",
              "      <td>82,160</td>\n",
              "    </tr>\n",
              "    <tr>\n",
              "      <th>147</th>\n",
              "      <td>2021</td>\n",
              "      <td>1</td>\n",
              "      <td>Chaco</td>\n",
              "      <td>43,14</td>\n",
              "      <td>139,767</td>\n",
              "      <td>3</td>\n",
              "      <td>139,770</td>\n",
              "      <td>43,214</td>\n",
              "      <td>61,251</td>\n",
              "      <td>25,426</td>\n",
              "      <td>8,004</td>\n",
              "      <td>1,875</td>\n",
              "      <td>33.63</td>\n",
              "      <td>301</td>\n",
              "      <td>112</td>\n",
              "      <td>24,357</td>\n",
              "      <td>22,102</td>\n",
              "      <td>27,556</td>\n",
              "      <td>14,496</td>\n",
              "      <td>42,462</td>\n",
              "      <td>8,384</td>\n",
              "      <td>139,770</td>\n",
              "    </tr>\n",
              "    <tr>\n",
              "      <th>510</th>\n",
              "      <td>2017</td>\n",
              "      <td>2</td>\n",
              "      <td>Corrientes</td>\n",
              "      <td>31,39</td>\n",
              "      <td>90,085</td>\n",
              "      <td>12</td>\n",
              "      <td>90,097</td>\n",
              "      <td>55,262</td>\n",
              "      <td>33,192</td>\n",
              "      <td>258</td>\n",
              "      <td>1,354</td>\n",
              "      <td>31</td>\n",
              "      <td>6.79</td>\n",
              "      <td>15</td>\n",
              "      <td>5,912</td>\n",
              "      <td>46,483</td>\n",
              "      <td>21,776</td>\n",
              "      <td>13,043</td>\n",
              "      <td>2,218</td>\n",
              "      <td>647</td>\n",
              "      <td>0</td>\n",
              "      <td>90,094</td>\n",
              "    </tr>\n",
              "    <tr>\n",
              "      <th>201</th>\n",
              "      <td>2020</td>\n",
              "      <td>3</td>\n",
              "      <td>Jujuy</td>\n",
              "      <td>54,04</td>\n",
              "      <td>106,728</td>\n",
              "      <td>- 0</td>\n",
              "      <td>106,728</td>\n",
              "      <td>32,611</td>\n",
              "      <td>57,682</td>\n",
              "      <td>11,112</td>\n",
              "      <td>952</td>\n",
              "      <td>4,371</td>\n",
              "      <td>21.91</td>\n",
              "      <td>55</td>\n",
              "      <td>182</td>\n",
              "      <td>32,131</td>\n",
              "      <td>10,566</td>\n",
              "      <td>45,198</td>\n",
              "      <td>293</td>\n",
              "      <td>15,238</td>\n",
              "      <td>3,065</td>\n",
              "      <td>106,728</td>\n",
              "    </tr>\n",
              "  </tbody>\n",
              "</table>\n",
              "</div>\n",
              "      <button class=\"colab-df-convert\" onclick=\"convertToInteractive('df-a3ab0a30-1cbb-44e1-bf80-0e52e6766d4b')\"\n",
              "              title=\"Convert this dataframe to an interactive table.\"\n",
              "              style=\"display:none;\">\n",
              "        \n",
              "  <svg xmlns=\"http://www.w3.org/2000/svg\" height=\"24px\"viewBox=\"0 0 24 24\"\n",
              "       width=\"24px\">\n",
              "    <path d=\"M0 0h24v24H0V0z\" fill=\"none\"/>\n",
              "    <path d=\"M18.56 5.44l.94 2.06.94-2.06 2.06-.94-2.06-.94-.94-2.06-.94 2.06-2.06.94zm-11 1L8.5 8.5l.94-2.06 2.06-.94-2.06-.94L8.5 2.5l-.94 2.06-2.06.94zm10 10l.94 2.06.94-2.06 2.06-.94-2.06-.94-.94-2.06-.94 2.06-2.06.94z\"/><path d=\"M17.41 7.96l-1.37-1.37c-.4-.4-.92-.59-1.43-.59-.52 0-1.04.2-1.43.59L10.3 9.45l-7.72 7.72c-.78.78-.78 2.05 0 2.83L4 21.41c.39.39.9.59 1.41.59.51 0 1.02-.2 1.41-.59l7.78-7.78 2.81-2.81c.8-.78.8-2.07 0-2.86zM5.41 20L4 18.59l7.72-7.72 1.47 1.35L5.41 20z\"/>\n",
              "  </svg>\n",
              "      </button>\n",
              "      \n",
              "  <style>\n",
              "    .colab-df-container {\n",
              "      display:flex;\n",
              "      flex-wrap:wrap;\n",
              "      gap: 12px;\n",
              "    }\n",
              "\n",
              "    .colab-df-convert {\n",
              "      background-color: #E8F0FE;\n",
              "      border: none;\n",
              "      border-radius: 50%;\n",
              "      cursor: pointer;\n",
              "      display: none;\n",
              "      fill: #1967D2;\n",
              "      height: 32px;\n",
              "      padding: 0 0 0 0;\n",
              "      width: 32px;\n",
              "    }\n",
              "\n",
              "    .colab-df-convert:hover {\n",
              "      background-color: #E2EBFA;\n",
              "      box-shadow: 0px 1px 2px rgba(60, 64, 67, 0.3), 0px 1px 3px 1px rgba(60, 64, 67, 0.15);\n",
              "      fill: #174EA6;\n",
              "    }\n",
              "\n",
              "    [theme=dark] .colab-df-convert {\n",
              "      background-color: #3B4455;\n",
              "      fill: #D2E3FC;\n",
              "    }\n",
              "\n",
              "    [theme=dark] .colab-df-convert:hover {\n",
              "      background-color: #434B5C;\n",
              "      box-shadow: 0px 1px 3px 1px rgba(0, 0, 0, 0.15);\n",
              "      filter: drop-shadow(0px 1px 2px rgba(0, 0, 0, 0.3));\n",
              "      fill: #FFFFFF;\n",
              "    }\n",
              "  </style>\n",
              "\n",
              "      <script>\n",
              "        const buttonEl =\n",
              "          document.querySelector('#df-a3ab0a30-1cbb-44e1-bf80-0e52e6766d4b button.colab-df-convert');\n",
              "        buttonEl.style.display =\n",
              "          google.colab.kernel.accessAllowed ? 'block' : 'none';\n",
              "\n",
              "        async function convertToInteractive(key) {\n",
              "          const element = document.querySelector('#df-a3ab0a30-1cbb-44e1-bf80-0e52e6766d4b');\n",
              "          const dataTable =\n",
              "            await google.colab.kernel.invokeFunction('convertToInteractive',\n",
              "                                                     [key], {});\n",
              "          if (!dataTable) return;\n",
              "\n",
              "          const docLinkHtml = 'Like what you see? Visit the ' +\n",
              "            '<a target=\"_blank\" href=https://colab.research.google.com/notebooks/data_table.ipynb>data table notebook</a>'\n",
              "            + ' to learn more about interactive tables.';\n",
              "          element.innerHTML = '';\n",
              "          dataTable['output_type'] = 'display_data';\n",
              "          await google.colab.output.renderOutput(dataTable, element);\n",
              "          const docLink = document.createElement('div');\n",
              "          docLink.innerHTML = docLinkHtml;\n",
              "          element.appendChild(docLink);\n",
              "        }\n",
              "      </script>\n",
              "    </div>\n",
              "  </div>\n",
              "  "
            ]
          },
          "metadata": {},
          "execution_count": 119
        }
      ]
    },
    {
      "cell_type": "code",
      "source": [
        "df_840.info()"
      ],
      "metadata": {
        "colab": {
          "base_uri": "https://localhost:8080/"
        },
        "id": "PHyY-GX6MZ3P",
        "outputId": "14cd19cf-7f4a-4059-c67a-1c0c6fd6b789"
      },
      "execution_count": null,
      "outputs": [
        {
          "output_type": "stream",
          "name": "stdout",
          "text": [
            "<class 'pandas.core.frame.DataFrame'>\n",
            "Int64Index: 840 entries, 0 to 839\n",
            "Data columns (total 22 columns):\n",
            " #   Column                        Non-Null Count  Dtype \n",
            "---  ------                        --------------  ----- \n",
            " 0   Año                           840 non-null    int64 \n",
            " 1   Trimestre                     840 non-null    int64 \n",
            " 2   Provincia                     840 non-null    object\n",
            " 3   Accesos por cada 100 hogares  840 non-null    object\n",
            " 4   Banda ancha fija              840 non-null    object\n",
            " 5   Dial up                       840 non-null    object\n",
            " 6   Total_a                       840 non-null    object\n",
            " 7   ADSL                          840 non-null    object\n",
            " 8   Cablemodem                    840 non-null    object\n",
            " 9   Fibra óptica                  840 non-null    object\n",
            " 10  Wireless                      840 non-null    object\n",
            " 11  Otros                         840 non-null    object\n",
            " 12  Mbps (Media de bajada)        840 non-null    object\n",
            " 13  HASTA 512 kbps                840 non-null    object\n",
            " 14  + 512 Kbps - 1 Mbps           840 non-null    object\n",
            " 15  + 1 Mbps - 6 Mbps             840 non-null    object\n",
            " 16  + 6 Mbps - 10 Mbps            840 non-null    object\n",
            " 17  + 10 Mbps - 20 Mbps           840 non-null    object\n",
            " 18  + 20 Mbps - 30 Mbps           840 non-null    object\n",
            " 19  + 30 Mbps                     840 non-null    object\n",
            " 20  OTROS                         840 non-null    object\n",
            " 21  Total                         840 non-null    object\n",
            "dtypes: int64(2), object(20)\n",
            "memory usage: 150.9+ KB\n"
          ]
        }
      ]
    },
    {
      "cell_type": "code",
      "source": [
        "# dataset\n",
        "df_840.to_csv('dfB.csv', index=False)"
      ],
      "metadata": {
        "id": "REozbdpSO5bM"
      },
      "execution_count": null,
      "outputs": []
    }
  ]
}